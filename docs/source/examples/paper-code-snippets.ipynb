{
 "cells": [
  {
   "cell_type": "code",
   "execution_count": 1,
   "metadata": {},
   "outputs": [],
   "source": [
    "# Codeblock 1\n",
    "# pip install mitiq"
   ]
  },
  {
   "cell_type": "code",
   "execution_count": 2,
   "metadata": {},
   "outputs": [
    {
     "name": "stdout",
     "output_type": "stream",
     "text": [
      "\n",
      "Mitiq: A Python toolkit for implementing error mitigation on quantum computers\n",
      "==============================================================================\n",
      "Authored by: Mitiq team, 2020 & later (https://github.com/unitaryfund/mitiq)\n",
      "\n",
      "Mitiq Version:\t0.10.0dev\n",
      "\n",
      "Core Dependencies\n",
      "-----------------\n",
      "Cirq Version:\t0.10.0\n",
      "NumPy Version:\t1.20.3\n",
      "SciPy Version:\t1.4.1\n",
      "\n",
      "Optional Dependencies\n",
      "---------------------\n",
      "PyQuil Version:\t2.28.1\n",
      "Qiskit Version:\tNone\n",
      "Braket Version:\t1.5.16\n",
      "\n",
      "Python Version:\t3.8.0\n",
      "Platform Info:\tDarwin (x86_64)\n"
     ]
    }
   ],
   "source": [
    "# Codeblock 2 and 3\n",
    "import mitiq\n",
    "mitiq.about()"
   ]
  },
  {
   "cell_type": "code",
   "execution_count": 3,
   "metadata": {},
   "outputs": [
    {
     "name": "stdout",
     "output_type": "stream",
     "text": [
      "Collecting pyquil==2.21\n",
      "  Downloading pyquil-2.21.0.tar.gz (208 kB)\n",
      "\u001b[K     |████████████████████████████████| 208 kB 296 kB/s eta 0:00:01\n",
      "\u001b[?25h  Installing build dependencies ... \u001b[?25ldone\n",
      "\u001b[?25h  Getting requirements to build wheel ... \u001b[?25ldone\n",
      "\u001b[?25h    Preparing wheel metadata ... \u001b[?25ldone\n",
      "\u001b[?25hCollecting antlr4-python3-runtime<4.8,>=4.7.2\n",
      "  Using cached antlr4_python3_runtime-4.7.2-py3-none-any.whl\n",
      "Requirement already satisfied: requests in /opt/miniconda3/envs/mitiqdev/lib/python3.8/site-packages (from pyquil==2.21) (2.25.1)\n",
      "Requirement already satisfied: immutables==0.6 in /opt/miniconda3/envs/mitiqdev/lib/python3.8/site-packages (from pyquil==2.21) (0.6)\n",
      "Requirement already satisfied: rpcq>=3.0.0 in /opt/miniconda3/envs/mitiqdev/lib/python3.8/site-packages (from pyquil==2.21) (3.9.1)\n",
      "Requirement already satisfied: networkx>=2.0.0 in /opt/miniconda3/envs/mitiqdev/lib/python3.8/site-packages (from pyquil==2.21) (2.5.1)\n",
      "Requirement already satisfied: numpy in /opt/miniconda3/envs/mitiqdev/lib/python3.8/site-packages (from pyquil==2.21) (1.20.3)\n",
      "Collecting decorator<5,>=4.3\n",
      "  Using cached decorator-4.4.2-py2.py3-none-any.whl (9.2 kB)\n",
      "Requirement already satisfied: msgpack<1.0,>=0.6 in /opt/miniconda3/envs/mitiqdev/lib/python3.8/site-packages (from rpcq>=3.0.0->pyquil==2.21) (0.6.2)\n",
      "Requirement already satisfied: python-rapidjson in /opt/miniconda3/envs/mitiqdev/lib/python3.8/site-packages (from rpcq>=3.0.0->pyquil==2.21) (1.4)\n",
      "Requirement already satisfied: pyzmq>=17 in /opt/miniconda3/envs/mitiqdev/lib/python3.8/site-packages (from rpcq>=3.0.0->pyquil==2.21) (22.1.0)\n",
      "Requirement already satisfied: ruamel.yaml in /opt/miniconda3/envs/mitiqdev/lib/python3.8/site-packages (from rpcq>=3.0.0->pyquil==2.21) (0.17.10)\n",
      "Requirement already satisfied: chardet<5,>=3.0.2 in /opt/miniconda3/envs/mitiqdev/lib/python3.8/site-packages (from requests->pyquil==2.21) (4.0.0)\n",
      "Requirement already satisfied: idna<3,>=2.5 in /opt/miniconda3/envs/mitiqdev/lib/python3.8/site-packages (from requests->pyquil==2.21) (2.10)\n",
      "Requirement already satisfied: certifi>=2017.4.17 in /opt/miniconda3/envs/mitiqdev/lib/python3.8/site-packages (from requests->pyquil==2.21) (2021.5.30)\n",
      "Requirement already satisfied: urllib3<1.27,>=1.21.1 in /opt/miniconda3/envs/mitiqdev/lib/python3.8/site-packages (from requests->pyquil==2.21) (1.26.6)\n",
      "Requirement already satisfied: ruamel.yaml.clib>=0.1.2 in /opt/miniconda3/envs/mitiqdev/lib/python3.8/site-packages (from ruamel.yaml->rpcq>=3.0.0->pyquil==2.21) (0.2.4)\n",
      "Building wheels for collected packages: pyquil\n",
      "  Building wheel for pyquil (PEP 517) ... \u001b[?25ldone\n",
      "\u001b[?25h  Created wheel for pyquil: filename=pyquil-2.21.0-py3-none-any.whl size=246052 sha256=c3f1b7d3440068b56cca77c280d246e251ea7af3b76967c1a4b25219a1a8cee4\n",
      "  Stored in directory: /Users/nathanshammah/Library/Caches/pip/wheels/97/86/95/d903bbc63471fb73ac4f2f046eb5291fd4ea59cf112a62ce93\n",
      "Successfully built pyquil\n",
      "Installing collected packages: decorator, antlr4-python3-runtime, pyquil\n",
      "  Attempting uninstall: decorator\n",
      "    Found existing installation: decorator 5.0.9\n",
      "    Uninstalling decorator-5.0.9:\n",
      "      Successfully uninstalled decorator-5.0.9\n",
      "  Attempting uninstall: pyquil\n",
      "    Found existing installation: pyquil 2.28.1\n",
      "    Uninstalling pyquil-2.28.1:\n",
      "      Successfully uninstalled pyquil-2.28.1\n",
      "Successfully installed antlr4-python3-runtime-4.7.2 decorator-4.4.2 pyquil-2.21.0\n"
     ]
    }
   ],
   "source": [
    "!pip install pyquil==2.21"
   ]
  },
  {
   "cell_type": "code",
   "execution_count": 8,
   "metadata": {},
   "outputs": [],
   "source": [
    "# Codeblock 4\n",
    "def executor(circuit: mitiq.QPROGRAM) -> float:\n",
    "    #some code\n",
    "    return "
   ]
  },
  {
   "cell_type": "code",
   "execution_count": 9,
   "metadata": {},
   "outputs": [],
   "source": [
    "# Codeblock 4 modified\n",
    "\n",
    "import numpy as np\n",
    "from cirq import Circuit, depolarize\n",
    "from cirq import LineQubit, X, DensityMatrixSimulator\n",
    "\n",
    "SIMULATOR = DensityMatrixSimulator()\n",
    "# 0.1% depolarizing noise\n",
    "NOISE = 0.001\n",
    "\n",
    "def executor(circ: Circuit) -> float:\n",
    "    \"\"\" Simulates a circuit with depolarizing noise at level NOISE.\n",
    "    Args:\n",
    "        circ: The quantum program as a cirq object.\n",
    "\n",
    "    Returns:\n",
    "        The expectation value of the |0> state.\n",
    "    \"\"\"\n",
    "    circuit = circ.with_noise(depolarize(p=NOISE))\n",
    "    rho = SIMULATOR.simulate(circuit).final_density_matrix\n",
    "    # define the computational basis observable\n",
    "    obs = np.diag([1, 0])\n",
    "    expectation = np.real(np.trace(rho @ obs))\n",
    "    return expectation"
   ]
  },
  {
   "cell_type": "code",
   "execution_count": 10,
   "metadata": {},
   "outputs": [],
   "source": [
    "# Codeblock 4.bis modified \n",
    "from cirq import Circuit, LineQubit, X\n",
    "\n",
    "qbit = LineQubit(0)\n",
    "circuit = Circuit(X(qbit) for _ in range(80))"
   ]
  },
  {
   "cell_type": "code",
   "execution_count": 12,
   "metadata": {},
   "outputs": [],
   "source": [
    "# Codeblock 5\n",
    "from mitiq.zne import execute_with_zne\n",
    "\n",
    "zne_value = execute_with_zne(circuit, executor)"
   ]
  },
  {
   "cell_type": "code",
   "execution_count": 13,
   "metadata": {},
   "outputs": [],
   "source": [
    "# Codeblock 6\n",
    "zne_value = execute_with_zne(circuit, executor)#,scale_noise=<noise scaling method >,factory=<inference method >,)"
   ]
  },
  {
   "cell_type": "code",
   "execution_count": 14,
   "metadata": {},
   "outputs": [
    {
     "name": "stdout",
     "output_type": "stream",
     "text": [
      "Original  circuit:\n",
      "0: ───H───@───\n",
      "          │\n",
      "1: ───────X───\n"
     ]
    }
   ],
   "source": [
    "# Codeblock 7\n",
    "import  cirq\n",
    "\n",
    "qreg = cirq.LineQubit.range(2)\n",
    "circ = cirq.Circuit(\n",
    "    cirq.ops.H.on(qreg[0]),cirq.ops.CNOT.on(qreg[0], qreg[1])\n",
    ")\n",
    "print(\"Original  circuit:\", circ , sep=\"\\n\")"
   ]
  },
  {
   "cell_type": "code",
   "execution_count": 15,
   "metadata": {},
   "outputs": [
    {
     "name": "stdout",
     "output_type": "stream",
     "text": [
      "Folded circuit:\n",
      "0: ───H───H───H───@───\n",
      "                  │\n",
      "1: ───────────────X───\n"
     ]
    }
   ],
   "source": [
    "# Codeblock 8\n",
    "from mitiq.zne import scaling\n",
    "folded = scaling.fold_gates_from_left(\n",
    "circ , scale_factor =2. )\n",
    "print(\"Folded circuit:\", folded , sep=\"\\n\")"
   ]
  },
  {
   "cell_type": "code",
   "execution_count": 16,
   "metadata": {},
   "outputs": [
    {
     "name": "stdout",
     "output_type": "stream",
     "text": [
      "Folded circuit:\n",
      "0: ───H───@───@───@───\n",
      "          │   │   │\n",
      "1: ───────X───X───X───\n"
     ]
    }
   ],
   "source": [
    "# Codeblock 9\n",
    "folded = scaling.fold_gates_from_right( circ , scale_factor =2.\n",
    ")\n",
    "print(\"Folded circuit:\", folded , sep=\"\\n\")\n",
    "# Folded circuit:\n",
    "# 0: ---H---@---@---@---\n",
    " # |||\n",
    "# 1: -------X---X---X---"
   ]
  },
  {
   "cell_type": "code",
   "execution_count": 17,
   "metadata": {},
   "outputs": [
    {
     "name": "stdout",
     "output_type": "stream",
     "text": [
      "Folded circuit:\n",
      "0: ───H───@───@───H───H───@───\n",
      "          │   │           │\n",
      "1: ───────X───X───────────X───\n"
     ]
    }
   ],
   "source": [
    "# Codeblock 10\n",
    "from mitiq.zne.scaling import fold_global\n",
    "folded = fold_global(circ, scale_factor=3.) \n",
    "print(\"Folded circuit:\", folded , sep=\"\\n\")\n",
    "# Folded circuit:\n",
    "# 0: ---H---@---@---H---H---@---\n",
    "#|||\n",
    "# 1: -------X---X-----------X---"
   ]
  },
  {
   "cell_type": "code",
   "execution_count": 18,
   "metadata": {},
   "outputs": [],
   "source": [
    "# Codeblock 11\n",
    "from mitiq.zne import execute_with_zne \n",
    "from mitiq.zne.scaling import fold_global\n",
    "\n",
    "zne_value = execute_with_zne(circuit, \n",
    "                             executor,\n",
    "                             scale_noise=fold_global )"
   ]
  },
  {
   "cell_type": "code",
   "execution_count": 19,
   "metadata": {},
   "outputs": [],
   "source": [
    "# Codeblock 12\n",
    "from mitiq.zne.inference import LinearFactory\n",
    "linear_factory = LinearFactory( scale_factors=[1.0, 2.0, 3.0],\n",
    ")"
   ]
  },
  {
   "cell_type": "code",
   "execution_count": 20,
   "metadata": {},
   "outputs": [],
   "source": [
    "# Codeblock 13\n",
    "from mitiq.zne import execute_with_zne\n",
    "zne_value = execute_with_zne(\n",
    "circuit , executor ,\n",
    "factory=linear_factory )"
   ]
  },
  {
   "cell_type": "code",
   "execution_count": 21,
   "metadata": {},
   "outputs": [],
   "source": [
    "# Codeblock 14\n",
    "from mitiq.zne import execute_with_zne\n",
    "from mitiq.zne.inference import PolyFactory\n",
    "zne_value = execute_with_zne(\n",
    "circuit , executor ,\n",
    "factory=PolyFactory(\n",
    "scale_factors=[1.0, 2.0, 3.0], order=2\n",
    ") )"
   ]
  },
  {
   "cell_type": "code",
   "execution_count": 22,
   "metadata": {},
   "outputs": [],
   "source": [
    "# Codeblock 15\n",
    "from mitiq.zne import execute_with_zne\n",
    "from mitiq.zne.inference import AdaExpFactory\n",
    "zne_value = execute_with_zne( circuit ,\n",
    "executor , factory=AdaExpFactory(\n",
    "scale_factor=2.0, steps=5 )\n",
    ")"
   ]
  },
  {
   "cell_type": "code",
   "execution_count": 23,
   "metadata": {},
   "outputs": [],
   "source": [
    "# Codeblock 16\n",
    "\n",
    "import numpy as np\n",
    "from mitiq.zne.inference import BatchedFactory\n",
    "\n",
    "class MyFactory(BatchedFactory): \n",
    "    def reduce(self) -> float:\n",
    "        # Get scale factors and exp values\n",
    "        scale_factors = self.get_scale_factors()\n",
    "        exp_vals = self.get_expectation_values()\n",
    "        # Define the custom fit here!\n",
    "        coeffs = np.polyfit(\n",
    "        scale_factors , exp_vals , deg=2 )\n",
    "        zne_value = coeffs[-1]\n",
    "        # Return the ZNE value\n",
    "        return np.clip(zne_value , -1.0, 1.0)"
   ]
  },
  {
   "cell_type": "code",
   "execution_count": 24,
   "metadata": {},
   "outputs": [],
   "source": [
    "# Codeblock 17\n",
    "\n",
    "import qiskit\n",
    "provider = qiskit.IBMQ.load_account()\n",
    "def executor(\n",
    "    circuit: qiskit.QuantumCircuit , backend: str = \"ibmq_london\",\n",
    "    shots: int = 1024 ) -> float:\n",
    "    # Execute the circuit\n",
    "    job = qiskit.execute(\n",
    "    experiments=folded_circuits , backend=provider.get_backend(backend),\n",
    "    optimization_level=0, shots=shots\n",
    "    )\n",
    "    # Get the measurement data\n",
    "    counts = job.result().get_counts()\n",
    "    # Return the observable\n",
    "    return counts[\"00\"] / shots"
   ]
  },
  {
   "cell_type": "code",
   "execution_count": 25,
   "metadata": {},
   "outputs": [
    {
     "ename": "ModuleNotFoundError",
     "evalue": "No module named 'mitiq.mitiq_pyquil.compiler'",
     "output_type": "error",
     "traceback": [
      "\u001b[0;31m---------------------------------------------------------------------------\u001b[0m",
      "\u001b[0;31mModuleNotFoundError\u001b[0m                       Traceback (most recent call last)",
      "\u001b[0;32m<ipython-input-25-5c7bca2d8478>\u001b[0m in \u001b[0;36m<module>\u001b[0;34m\u001b[0m\n\u001b[1;32m      1\u001b[0m \u001b[0;32mimport\u001b[0m \u001b[0mpyquil\u001b[0m\u001b[0;34m\u001b[0m\u001b[0;34m\u001b[0m\u001b[0m\n\u001b[0;32m----> 2\u001b[0;31m \u001b[0;32mfrom\u001b[0m \u001b[0mmitiq\u001b[0m\u001b[0;34m.\u001b[0m\u001b[0mmitiq_pyquil\u001b[0m\u001b[0;34m.\u001b[0m\u001b[0mcompiler\u001b[0m \u001b[0;32mimport\u001b[0m \u001b[0mbasic_compile\u001b[0m\u001b[0;34m\u001b[0m\u001b[0;34m\u001b[0m\u001b[0m\n\u001b[0m\u001b[1;32m      3\u001b[0m \u001b[0maspen8\u001b[0m \u001b[0;34m=\u001b[0m \u001b[0mpyquil\u001b[0m\u001b[0;34m.\u001b[0m\u001b[0mget_qc\u001b[0m\u001b[0;34m(\u001b[0m\u001b[0;34m\"Aspen -8\"\u001b[0m\u001b[0;34m,\u001b[0m \u001b[0mas_qvm\u001b[0m\u001b[0;34m=\u001b[0m\u001b[0;32mFalse\u001b[0m\u001b[0;34m)\u001b[0m\u001b[0;34m\u001b[0m\u001b[0;34m\u001b[0m\u001b[0m\n\u001b[1;32m      4\u001b[0m \u001b[0;32mdef\u001b[0m \u001b[0mexecutor\u001b[0m\u001b[0;34m(\u001b[0m\u001b[0mprogram\u001b[0m\u001b[0;34m:\u001b[0m \u001b[0mpyquil\u001b[0m\u001b[0;34m.\u001b[0m\u001b[0mProgram\u001b[0m \u001b[0;34m,\u001b[0m \u001b[0mshots\u001b[0m\u001b[0;34m:\u001b[0m \u001b[0mint\u001b[0m \u001b[0;34m=\u001b[0m \u001b[0;36m1024\u001b[0m\u001b[0;34m)\u001b[0m \u001b[0;34m->\u001b[0m \u001b[0mfloat\u001b[0m\u001b[0;34m:\u001b[0m\u001b[0;34m\u001b[0m\u001b[0;34m\u001b[0m\u001b[0m\n\u001b[1;32m      5\u001b[0m     \u001b[0;31m# Make a copy of the program\u001b[0m\u001b[0;34m\u001b[0m\u001b[0;34m\u001b[0m\u001b[0;34m\u001b[0m\u001b[0m\n",
      "\u001b[0;31mModuleNotFoundError\u001b[0m: No module named 'mitiq.mitiq_pyquil.compiler'"
     ]
    }
   ],
   "source": [
    "import pyquil\n",
    "from mitiq.mitiq_pyquil.compiler import basic_compile\n",
    "aspen8 = pyquil.get_qc(\"Aspen -8\", as_qvm=False)\n",
    "def executor(program: pyquil.Program , shots: int = 1024) -> float:\n",
    "    # Make a copy of the program\n",
    "    prog = program.copy()\n",
    "    # Get list of qubits used in the program\n",
    "    qubits = prog.get_qubits()\n",
    "    # Add classical memory declaration\n",
    "    ro = prog.declare(\"ro\", \"BIT\", len(qubits))\n",
    "    # Add measurement operations\n",
    "    for idx, q in enumerate(qubits):\n",
    "        prog += MEASURE(q, ro[idx])\n",
    "    # Add number of shots\n",
    "    prog.wrap_in_numshots_loop(shots)\n",
    "    # Compile the program, keeping folded gates\n",
    "    prog = basic_compile(prog)\n",
    "    # Convert to an executable and run\n",
    "    executable = aspen8.compiler. native_quil_to_executable(prog)\n",
    "    results = aspen8.run(executable)\n",
    "    # Return the observable\n",
    "    all_zeros = [sum(b) == 0 for b in results]\n",
    "    return sum(all_zeros) / shots"
   ]
  },
  {
   "cell_type": "code",
   "execution_count": null,
   "metadata": {},
   "outputs": [],
   "source": [
    "---------------------------------------------------------------------------\n",
    "ModuleNotFoundError                       Traceback (most recent call last)\n",
    "<ipython-input-31-5c7bca2d8478> in <module>\n",
    "      1 import pyquil\n",
    "----> 2 from mitiq.mitiq_pyquil.compiler import basic_compile\n",
    "      3 aspen8 = pyquil.get_qc(\"Aspen -8\", as_qvm=False)\n",
    "      4 def executor(program: pyquil.Program , shots: int = 1024) -> float:\n",
    "      5     # Make a copy of the program\n",
    "\n",
    "~/github/mitiq/mitiq/mitiq_pyquil/__init__.py in <module>\n",
    "     14 # along with this program.  If not, see <https://www.gnu.org/licenses/>.\n",
    "     15 \n",
    "---> 16 from mitiq.mitiq_pyquil.conversions import (\n",
    "     17     from_pyquil,\n",
    "     18     from_quil,\n",
    "\n",
    "~/github/mitiq/mitiq/mitiq_pyquil/conversions.py in <module>\n",
    "     20 from pyquil import Program\n",
    "     21 \n",
    "---> 22 from cirq.contrib.quil_import import circuit_from_quil\n",
    "     23 \n",
    "     24 QuilType = str\n",
    "\n",
    "ModuleNotFoundError: No module named 'cirq.contrib.quil_import'\n",
    " with pyquil 2.18"
   ]
  },
  {
   "cell_type": "code",
   "execution_count": null,
   "metadata": {},
   "outputs": [],
   "source": [
    "! pip install pyquil"
   ]
  },
  {
   "cell_type": "code",
   "execution_count": 26,
   "metadata": {},
   "outputs": [],
   "source": [
    "# Codeblock 19\n",
    "import  cirq\n",
    "dsim = cirq.DensityMatrixSimulator ()\n",
    "\n",
    "def  executor(\n",
    "    circ: Circuit ,\n",
    "    obs: cirq.PauliString ,\n",
    "    noise: float = 0.01,\n",
    "    shots: int = 102410) -> float:\n",
    "    # Add  depolarizing  noise  to the  circuit\n",
    "    noisy = circ.with_noise(\n",
    "        cirq.depolarize(p=noise)\n",
    "    )\n",
    "    \n",
    "    # Do the  sampling\n",
    "    \n",
    "    psum = cirq.PauliSumCollector(\n",
    "        noisy ,\n",
    "        obs ,\n",
    "        samples_per_term=shots\n",
    "    )\n",
    "    psum.collect(sampler=dsim)\n",
    "    \n",
    "    # Return  the  expectation  value\n",
    "    return  psum.estimated_energy ()\n"
   ]
  },
  {
   "cell_type": "code",
   "execution_count": 27,
   "metadata": {},
   "outputs": [],
   "source": [
    "# Codeblock 20\n",
    "from functools import partial\n",
    "def executor(qprogram, arg1, arg2) -> float: \n",
    "    ...\n",
    "    new_executor = partial(\n",
    "    executor , arg1=arg1value ,\n",
    "    arg2=arg2value )"
   ]
  },
  {
   "cell_type": "code",
   "execution_count": 28,
   "metadata": {},
   "outputs": [
    {
     "ename": "SyntaxError",
     "evalue": "invalid syntax (<ipython-input-28-29b70bdddf8a>, line 7)",
     "output_type": "error",
     "traceback": [
      "\u001b[0;36m  File \u001b[0;32m\"<ipython-input-28-29b70bdddf8a>\"\u001b[0;36m, line \u001b[0;32m7\u001b[0m\n\u001b[0;31m    scale_noise=<noise scaling method >,\u001b[0m\n\u001b[0m                ^\u001b[0m\n\u001b[0;31mSyntaxError\u001b[0m\u001b[0;31m:\u001b[0m invalid syntax\n"
     ]
    }
   ],
   "source": [
    "# Codeblock 21\n",
    "\n",
    "from mitiq.zne import mitigate_executor\n",
    "\n",
    "mitigated_executor = mitigate_executor(\n",
    "    executor ,\n",
    "    scale_noise = <noise scaling method>,\n",
    "    factory = <inference method> )\n",
    "\n",
    "zne_value = mitgated_executor(circuit)"
   ]
  },
  {
   "cell_type": "code",
   "execution_count": 29,
   "metadata": {},
   "outputs": [
    {
     "ename": "TypeError",
     "evalue": "unsupported operand type(s) for /: 'NoneType' and 'int'",
     "output_type": "error",
     "traceback": [
      "\u001b[0;31m---------------------------------------------------------------------------\u001b[0m",
      "\u001b[0;31mTypeError\u001b[0m                                 Traceback (most recent call last)",
      "\u001b[0;32m<ipython-input-29-8d14a318cb2e>\u001b[0m in \u001b[0;36m<module>\u001b[0;34m\u001b[0m\n\u001b[1;32m     11\u001b[0m     \u001b[0;34m...\u001b[0m\u001b[0;34m\u001b[0m\u001b[0;34m\u001b[0m\u001b[0m\n\u001b[1;32m     12\u001b[0m \u001b[0;34m\u001b[0m\u001b[0m\n\u001b[0;32m---> 13\u001b[0;31m \u001b[0mzne_value\u001b[0m \u001b[0;34m=\u001b[0m \u001b[0mexecutor\u001b[0m\u001b[0;34m(\u001b[0m\u001b[0mcircuit\u001b[0m\u001b[0;34m)\u001b[0m\u001b[0;34m\u001b[0m\u001b[0;34m\u001b[0m\u001b[0m\n\u001b[0m",
      "\u001b[0;32m~/github/mitiq/mitiq/zne/zne.py\u001b[0m in \u001b[0;36mnew_executor\u001b[0;34m(qp)\u001b[0m\n\u001b[1;32m     87\u001b[0m     \u001b[0;34m@\u001b[0m\u001b[0mwraps\u001b[0m\u001b[0;34m(\u001b[0m\u001b[0mexecutor\u001b[0m\u001b[0;34m)\u001b[0m\u001b[0;34m\u001b[0m\u001b[0;34m\u001b[0m\u001b[0m\n\u001b[1;32m     88\u001b[0m     \u001b[0;32mdef\u001b[0m \u001b[0mnew_executor\u001b[0m\u001b[0;34m(\u001b[0m\u001b[0mqp\u001b[0m\u001b[0;34m:\u001b[0m \u001b[0mQPROGRAM\u001b[0m\u001b[0;34m)\u001b[0m \u001b[0;34m->\u001b[0m \u001b[0mfloat\u001b[0m\u001b[0;34m:\u001b[0m\u001b[0;34m\u001b[0m\u001b[0;34m\u001b[0m\u001b[0m\n\u001b[0;32m---> 89\u001b[0;31m         return execute_with_zne(\n\u001b[0m\u001b[1;32m     90\u001b[0m             \u001b[0mqp\u001b[0m\u001b[0;34m,\u001b[0m \u001b[0mexecutor\u001b[0m\u001b[0;34m,\u001b[0m \u001b[0mfactory\u001b[0m\u001b[0;34m,\u001b[0m \u001b[0mscale_noise\u001b[0m\u001b[0;34m,\u001b[0m \u001b[0mnum_to_average\u001b[0m\u001b[0;34m\u001b[0m\u001b[0;34m\u001b[0m\u001b[0m\n\u001b[1;32m     91\u001b[0m         )\n",
      "\u001b[0;32m~/github/mitiq/mitiq/zne/zne.py\u001b[0m in \u001b[0;36mexecute_with_zne\u001b[0;34m(qp, executor, factory, scale_noise, num_to_average)\u001b[0m\n\u001b[1;32m     60\u001b[0m         \u001b[0;32mraise\u001b[0m \u001b[0mValueError\u001b[0m\u001b[0;34m(\u001b[0m\u001b[0;34m\"Argument `num_to_average` must be a positive int.\"\u001b[0m\u001b[0;34m)\u001b[0m\u001b[0;34m\u001b[0m\u001b[0;34m\u001b[0m\u001b[0m\n\u001b[1;32m     61\u001b[0m \u001b[0;34m\u001b[0m\u001b[0m\n\u001b[0;32m---> 62\u001b[0;31m     \u001b[0;32mreturn\u001b[0m \u001b[0mfactory\u001b[0m\u001b[0;34m.\u001b[0m\u001b[0mrun\u001b[0m\u001b[0;34m(\u001b[0m\u001b[0mqp\u001b[0m\u001b[0;34m,\u001b[0m \u001b[0mexecutor\u001b[0m\u001b[0;34m,\u001b[0m \u001b[0mscale_noise\u001b[0m\u001b[0;34m,\u001b[0m \u001b[0mint\u001b[0m\u001b[0;34m(\u001b[0m\u001b[0mnum_to_average\u001b[0m\u001b[0;34m)\u001b[0m\u001b[0;34m)\u001b[0m\u001b[0;34m.\u001b[0m\u001b[0mreduce\u001b[0m\u001b[0;34m(\u001b[0m\u001b[0;34m)\u001b[0m\u001b[0;34m\u001b[0m\u001b[0;34m\u001b[0m\u001b[0m\n\u001b[0m\u001b[1;32m     63\u001b[0m \u001b[0;34m\u001b[0m\u001b[0m\n\u001b[1;32m     64\u001b[0m \u001b[0;34m\u001b[0m\u001b[0m\n",
      "\u001b[0;32m~/github/mitiq/mitiq/zne/inference.py\u001b[0m in \u001b[0;36mrun\u001b[0;34m(self, qp, executor, scale_noise, num_to_average)\u001b[0m\n\u001b[1;32m    560\u001b[0m \u001b[0;34m\u001b[0m\u001b[0m\n\u001b[1;32m    561\u001b[0m         \u001b[0;31m# Average the \"num_to_average\" columns\u001b[0m\u001b[0;34m\u001b[0m\u001b[0;34m\u001b[0m\u001b[0;34m\u001b[0m\u001b[0m\n\u001b[0;32m--> 562\u001b[0;31m         \u001b[0mself\u001b[0m\u001b[0;34m.\u001b[0m\u001b[0m_outstack\u001b[0m \u001b[0;34m=\u001b[0m \u001b[0mnp\u001b[0m\u001b[0;34m.\u001b[0m\u001b[0maverage\u001b[0m\u001b[0;34m(\u001b[0m\u001b[0mreshaped\u001b[0m\u001b[0;34m,\u001b[0m \u001b[0maxis\u001b[0m\u001b[0;34m=\u001b[0m\u001b[0;36m1\u001b[0m\u001b[0;34m)\u001b[0m\u001b[0;34m\u001b[0m\u001b[0;34m\u001b[0m\u001b[0m\n\u001b[0m\u001b[1;32m    563\u001b[0m \u001b[0;34m\u001b[0m\u001b[0m\n\u001b[1;32m    564\u001b[0m         \u001b[0;32mreturn\u001b[0m \u001b[0mself\u001b[0m\u001b[0;34m\u001b[0m\u001b[0;34m\u001b[0m\u001b[0m\n",
      "\u001b[0;32m<__array_function__ internals>\u001b[0m in \u001b[0;36maverage\u001b[0;34m(*args, **kwargs)\u001b[0m\n",
      "\u001b[0;32m/opt/miniconda3/envs/mitiqdev/lib/python3.8/site-packages/numpy/lib/function_base.py\u001b[0m in \u001b[0;36maverage\u001b[0;34m(a, axis, weights, returned)\u001b[0m\n\u001b[1;32m    378\u001b[0m \u001b[0;34m\u001b[0m\u001b[0m\n\u001b[1;32m    379\u001b[0m     \u001b[0;32mif\u001b[0m \u001b[0mweights\u001b[0m \u001b[0;32mis\u001b[0m \u001b[0;32mNone\u001b[0m\u001b[0;34m:\u001b[0m\u001b[0;34m\u001b[0m\u001b[0;34m\u001b[0m\u001b[0m\n\u001b[0;32m--> 380\u001b[0;31m         \u001b[0mavg\u001b[0m \u001b[0;34m=\u001b[0m \u001b[0ma\u001b[0m\u001b[0;34m.\u001b[0m\u001b[0mmean\u001b[0m\u001b[0;34m(\u001b[0m\u001b[0maxis\u001b[0m\u001b[0;34m)\u001b[0m\u001b[0;34m\u001b[0m\u001b[0;34m\u001b[0m\u001b[0m\n\u001b[0m\u001b[1;32m    381\u001b[0m         \u001b[0mscl\u001b[0m \u001b[0;34m=\u001b[0m \u001b[0mavg\u001b[0m\u001b[0;34m.\u001b[0m\u001b[0mdtype\u001b[0m\u001b[0;34m.\u001b[0m\u001b[0mtype\u001b[0m\u001b[0;34m(\u001b[0m\u001b[0ma\u001b[0m\u001b[0;34m.\u001b[0m\u001b[0msize\u001b[0m\u001b[0;34m/\u001b[0m\u001b[0mavg\u001b[0m\u001b[0;34m.\u001b[0m\u001b[0msize\u001b[0m\u001b[0;34m)\u001b[0m\u001b[0;34m\u001b[0m\u001b[0;34m\u001b[0m\u001b[0m\n\u001b[1;32m    382\u001b[0m     \u001b[0;32melse\u001b[0m\u001b[0;34m:\u001b[0m\u001b[0;34m\u001b[0m\u001b[0;34m\u001b[0m\u001b[0m\n",
      "\u001b[0;32m/opt/miniconda3/envs/mitiqdev/lib/python3.8/site-packages/numpy/core/_methods.py\u001b[0m in \u001b[0;36m_mean\u001b[0;34m(a, axis, dtype, out, keepdims, where)\u001b[0m\n\u001b[1;32m    178\u001b[0m     \u001b[0mret\u001b[0m \u001b[0;34m=\u001b[0m \u001b[0mumr_sum\u001b[0m\u001b[0;34m(\u001b[0m\u001b[0marr\u001b[0m\u001b[0;34m,\u001b[0m \u001b[0maxis\u001b[0m\u001b[0;34m,\u001b[0m \u001b[0mdtype\u001b[0m\u001b[0;34m,\u001b[0m \u001b[0mout\u001b[0m\u001b[0;34m,\u001b[0m \u001b[0mkeepdims\u001b[0m\u001b[0;34m,\u001b[0m \u001b[0mwhere\u001b[0m\u001b[0;34m=\u001b[0m\u001b[0mwhere\u001b[0m\u001b[0;34m)\u001b[0m\u001b[0;34m\u001b[0m\u001b[0;34m\u001b[0m\u001b[0m\n\u001b[1;32m    179\u001b[0m     \u001b[0;32mif\u001b[0m \u001b[0misinstance\u001b[0m\u001b[0;34m(\u001b[0m\u001b[0mret\u001b[0m\u001b[0;34m,\u001b[0m \u001b[0mmu\u001b[0m\u001b[0;34m.\u001b[0m\u001b[0mndarray\u001b[0m\u001b[0;34m)\u001b[0m\u001b[0;34m:\u001b[0m\u001b[0;34m\u001b[0m\u001b[0;34m\u001b[0m\u001b[0m\n\u001b[0;32m--> 180\u001b[0;31m         ret = um.true_divide(\n\u001b[0m\u001b[1;32m    181\u001b[0m                 ret, rcount, out=ret, casting='unsafe', subok=False)\n\u001b[1;32m    182\u001b[0m         \u001b[0;32mif\u001b[0m \u001b[0mis_float16_result\u001b[0m \u001b[0;32mand\u001b[0m \u001b[0mout\u001b[0m \u001b[0;32mis\u001b[0m \u001b[0;32mNone\u001b[0m\u001b[0;34m:\u001b[0m\u001b[0;34m\u001b[0m\u001b[0;34m\u001b[0m\u001b[0m\n",
      "\u001b[0;31mTypeError\u001b[0m: unsupported operand type(s) for /: 'NoneType' and 'int'"
     ]
    }
   ],
   "source": [
    "# Codeblock 22\n",
    "\n",
    "from mitiq import QPROGRAM\n",
    "from mitiq.zne import zne_decorator\n",
    "\n",
    "@zne_decorator(\n",
    "    #factory=<inference method >, scale_noise=<noise scaling method >\n",
    "    )\n",
    "\n",
    "def executor(circuit: QPROGRAM) -> float:\n",
    "    ...\n",
    "\n",
    "zne_value = executor(circuit)"
   ]
  },
  {
   "cell_type": "code",
   "execution_count": null,
   "metadata": {},
   "outputs": [],
   "source": []
  }
 ],
 "metadata": {
  "kernelspec": {
   "display_name": "Python 3",
   "language": "python",
   "name": "python3"
  },
  "language_info": {
   "codemirror_mode": {
    "name": "ipython",
    "version": 3
   },
   "file_extension": ".py",
   "mimetype": "text/x-python",
   "name": "python",
   "nbconvert_exporter": "python",
   "pygments_lexer": "ipython3",
   "version": "3.8.0"
  }
 },
 "nbformat": 4,
 "nbformat_minor": 4
}
