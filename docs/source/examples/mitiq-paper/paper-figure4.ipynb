{
 "cells": [
  {
   "cell_type": "markdown",
   "metadata": {},
   "source": [
    "# Probabilistic Error Cancellation  (PEC) with Cirq and Mitiq"
   ]
  },
  {
   "cell_type": "markdown",
   "metadata": {},
   "source": [
    "A set-by-sep tutorial on how to use the Mitiq toolchain for implementing probabilistc error cancellation in Cirq."
   ]
  },
  {
   "cell_type": "markdown",
   "metadata": {},
   "source": [
    "## Outline\n",
    "\n",
    "**Probabilistic error cancellation** (PEC) is an error mitigation method (K. Temme et al., Phys. Rev. Lett., 2017 and Y. Li and S. Benjamin, Phys. Rev. X, 2017). Its practical implementation can be decomposed in the following 4 tasks:\n",
    "\n",
    " - **Task 1: Expanding an ideal gate as linear combination of implementable noisy gates.**\n",
    " - **Task 2: Sampling an implementable gate from the representation of an ideal gate.**\n",
    " - **Task 3: Sampling an implementable circuit from the representation of an ideal circuit.**\n",
    " - **Task 4: Infer an ideal expectation value from the noisy execution of the sampled circuits.**"
   ]
  },
  {
   "cell_type": "markdown",
   "metadata": {},
   "source": [
    "## Task 1: Expanding an ideal gate as linear combination of implementable noisy gates"
   ]
  },
  {
   "cell_type": "markdown",
   "metadata": {},
   "source": [
    "The fist task we need to solve to implement PEC is to decompose any ideal unitary gate $G$ of some ideal circuit into a basis of implementable (noisy) gates:\n",
    "\n",
    "$$G = \\alpha_1 \\tilde G_1  + \\alpha_2 \\tilde G_2 + \\dots,$$\n",
    "\n",
    "where $\\{\\alpha_j\\}$ are real coefficients and $\\{\\tilde G_j\\}$ are the implementable noisy gates, i.e., those which can be actually applied by a noisy backend. \n",
    "\n",
    "**NOTE: This representation depends on the particular noise model.**\n",
    "\n",
    "For example, if the implementable gates are equal to any ideal unitary followed by a depolarizing channel:\n",
    "\n",
    "$$ \\tilde G =\\mathcal E \\circ G  \\quad \n",
    "\\text{where,}\\quad \\mathcal E(\\rho) =  (1 - \\epsilon ) \\rho   + \\epsilon I/2 ,$$\n",
    "\n",
    "then, it is easy to show (Temme, Bravyi, Gambetta, 2017 or Tagagi 2020) that the following decomposition holds **for any single-qubit gate $G$**:\n",
    "\n",
    "$$ G= \\alpha_1 \\tilde G_1  + \\alpha_2 \\tilde G_2 + \\alpha_3 \\tilde G_3 + \\alpha_4 \\tilde G_4 $$\n",
    "\n",
    "where,\n",
    "$$\\alpha_1 =\\left(1 + \\frac{3}{4} \\frac{\\epsilon}{1- \\epsilon} \\right ), \\qquad \\tilde G_1 = \\mathcal E \\circ  G$$\n",
    "\n",
    "$$\\alpha_2 =- \\frac{1}{4}\\frac{\\epsilon}{1- \\epsilon} , \\qquad \\tilde G_2 = \\mathcal E \\circ  X \\circ G$$\n",
    "\n",
    "$$\\alpha_3 =-\\frac{1}{4}\\frac{\\epsilon}{1- \\epsilon} , \\qquad \\tilde G_3 = \\mathcal E \\circ  Y \\circ G$$\n",
    "\n",
    "$$\\alpha_4 =- \\frac{1}{4}\\frac{\\epsilon}{1- \\epsilon} , \\qquad \\tilde G_4 = \\mathcal E \\circ  Z \\circ G$$\n"
   ]
  },
  {
   "cell_type": "markdown",
   "metadata": {},
   "source": [
    "**Note:** the gate decomposition could be provided by the *user* or could be implemented by *mitiq* for a set of simple noise models."
   ]
  },
  {
   "cell_type": "markdown",
   "metadata": {},
   "source": [
    "### Using the `mitiq.representations` module"
   ]
  },
  {
   "cell_type": "code",
   "execution_count": 1,
   "metadata": {},
   "outputs": [
    {
     "name": "stdout",
     "output_type": "stream",
     "text": [
      "1: ───X─── = 1.115*1: ───X───-0.038*1: ───X───X───-0.038*1: ───X───Y───-0.038*1: ───X───Z───\n"
     ]
    }
   ],
   "source": [
    "import numpy as np\n",
    "from cirq import LineQubit, Circuit, X\n",
    "from mitiq.pec.representations import represent_operation_with_local_depolarizing_noise\n",
    "\n",
    "BASE_NOISE = 0.1\n",
    "q = LineQubit(1)\n",
    "\n",
    "x_rep = represent_operation_with_local_depolarizing_noise(Circuit(X(q)), noise_level=BASE_NOISE)\n",
    "print(x_rep)"
   ]
  },
  {
   "cell_type": "markdown",
   "metadata": {},
   "source": [
    "## Task 2: Sampling from an implementable representation of an ideal gate\n",
    "\n",
    "In the previous section, error cancellation was performed exactly by summing over all the terms of a gate representation. In this section instead, we are going to approximate the exact sum of all the terms by probabilistically sampling some of them. \n",
    "\n",
    "This approach corresponds a standard Monte Carlo approximation (with importance-sampling) of a sum of real terms. According to this procedure, each sample is associated with a sign factor (`sign`) and a normalization factor (`gamma`).\n",
    "\n",
    "An introduction to the Monte Carlo sampling approximation of quantum circuits can be found in (Pashayan, Wallman, Bartlett, PRL 2015), in (Temme, Bravyi, Gambetta, PRL, 2017) and in (Tagagi, arXiv, 2020)."
   ]
  },
  {
   "cell_type": "markdown",
   "metadata": {},
   "source": [
    "### Using the `mitiq.sampling` module"
   ]
  },
  {
   "cell_type": "markdown",
   "metadata": {},
   "source": [
    "Let us take a random sample from the previous quasi-distribution."
   ]
  },
  {
   "cell_type": "code",
   "execution_count": 2,
   "metadata": {},
   "outputs": [
    {
     "data": {
      "text/plain": [
       "(1: ───X───, 1, 1.230769230769231)"
      ]
     },
     "metadata": {},
     "output_type": "display_data"
    },
    {
     "data": {
      "text/plain": [
       "(1: ───X───, 1, 1.230769230769231)"
      ]
     },
     "metadata": {},
     "output_type": "display_data"
    },
    {
     "data": {
      "text/plain": [
       "(1: ───X───, 1, 1.230769230769231)"
      ]
     },
     "metadata": {},
     "output_type": "display_data"
    },
    {
     "data": {
      "text/plain": [
       "(1: ───X───, 1, 1.230769230769231)"
      ]
     },
     "metadata": {},
     "output_type": "display_data"
    },
    {
     "data": {
      "text/plain": [
       "(1: ───X───, 1, 1.230769230769231)"
      ]
     },
     "metadata": {},
     "output_type": "display_data"
    },
    {
     "data": {
      "text/plain": [
       "(1: ───X───, 1, 1.230769230769231)"
      ]
     },
     "metadata": {},
     "output_type": "display_data"
    },
    {
     "data": {
      "text/plain": [
       "(1: ───X───, 1, 1.230769230769231)"
      ]
     },
     "metadata": {},
     "output_type": "display_data"
    },
    {
     "data": {
      "text/plain": [
       "(1: ───X───, 1, 1.230769230769231)"
      ]
     },
     "metadata": {},
     "output_type": "display_data"
    },
    {
     "data": {
      "text/plain": [
       "(1: ───X───, 1, 1.230769230769231)"
      ]
     },
     "metadata": {},
     "output_type": "display_data"
    },
    {
     "data": {
      "text/plain": [
       "(1: ───X───, 1, 1.230769230769231)"
      ]
     },
     "metadata": {},
     "output_type": "display_data"
    }
   ],
   "source": [
    "from mitiq.pec.sampling import sample_sequence\n",
    "from IPython.display import display\n",
    "\n",
    "for _ in range(10):\n",
    "    sampled_operation = sample_sequence(Circuit(X(q)), [x_rep])\n",
    "    display(sampled_operation)"
   ]
  },
  {
   "cell_type": "markdown",
   "metadata": {},
   "source": [
    "By running a sampled sequence in the presence of depolarizing noise (weigthed with by its sign and scaled by the representation norm) we should get an unbiased estimator of the ideal gate. We can test this, by comparing the Choi matrices of ideal and PEC operations operations."
   ]
  },
  {
   "cell_type": "code",
   "execution_count": 3,
   "metadata": {},
   "outputs": [
    {
     "name": "stdout",
     "output_type": "stream",
     "text": [
      "The error between the ideal and the noisy Choi matrces is: 0.115470015\n",
      "The error between the ideal and the PEC Choi matrces is: 0.013831786\n"
     ]
    }
   ],
   "source": [
    "# Test that the sample_sequence function can be used for doing PEC\n",
    "\n",
    "from cirq import depolarize\n",
    "from mitiq.pec.channels import _circuit_to_choi \n",
    "\n",
    "choi_of_ideal_x = _circuit_to_choi(Circuit(X(q)))\n",
    "\n",
    "choi_of_noisy_x = _circuit_to_choi(Circuit(X(q) + Circuit(depolarize(BASE_NOISE)(q))))\n",
    "\n",
    "# Take 1000 samples\n",
    "samples = [sample_sequence(Circuit(X(q)), [x_rep]) for _ in range(1000)]\n",
    "\n",
    "# Get estimators for the ideal operation\n",
    "choi_of_x_pec_unbiased_estimates =[\n",
    "   s[2] * s[1] * _circuit_to_choi(s[0] + Circuit(depolarize(BASE_NOISE)(q))) for s in samples\n",
    "]\n",
    "\n",
    "choi_of_pec = np.average(choi_of_x_pec_unbiased_estimates, axis=0)\n",
    "\n",
    "print(\n",
    "    \"The error between the ideal and the noisy Choi matrces is:\",\n",
    "    np.linalg.norm(choi_of_ideal_x - choi_of_noisy_x),\n",
    ")\n",
    "print(\n",
    "    \"The error between the ideal and the PEC Choi matrces is:\",\n",
    "    np.linalg.norm(choi_of_pec - choi_of_ideal_x),\n",
    ")"
   ]
  },
  {
   "cell_type": "markdown",
   "metadata": {},
   "source": [
    "## Task 3: Sampling from an implementable rep. of an ideal circuit\n"
   ]
  },
  {
   "cell_type": "markdown",
   "metadata": {},
   "source": [
    "We have seen how PEC works for a **singe gate**. What about a circuit with many gates? **We just need to sequentially sample each individual gate.** More precicely we need to:\n",
    "* apply the previous sampling approach (**Task 2**) to each gate:\n",
    "* multiply the `sign` of each sampled gate to get the global `sign` of the sampled circuit.\n",
    "* multiply the `gamma` of each sampled gate to get the global `gamma` of the sampled circuit.\n",
    "\n",
    "**NOTE:** The fact that one can reduce the **global sampling** into a Markov chain of **local sampling** is a consequence \n",
    "of the Monte Carlo approach. See e.g. (Pashayan, Wallman, Bartlett, PRL 2015), (Temme, Bravyi, Gambetta, PRL, 2017) and (Tagagi, arXiv, 2020).\n",
    "\n",
    "The result of this procedure will produce an **unbiased estimator** of the ideal circuit. So, averaging over many samples we can approximate the ideal circuit."
   ]
  },
  {
   "cell_type": "markdown",
   "metadata": {},
   "source": [
    "Let us first define a simple 2-qubit circuit:"
   ]
  },
  {
   "cell_type": "code",
   "execution_count": 4,
   "metadata": {},
   "outputs": [
    {
     "data": {
      "text/html": [
       "<pre style=\"overflow: auto; white-space: pre;\">0: ───X───@───\n",
       "          │\n",
       "1: ───H───X───</pre>"
      ],
      "text/plain": [
       "0: ───X───@───\n",
       "          │\n",
       "1: ───H───X───"
      ]
     },
     "execution_count": 4,
     "metadata": {},
     "output_type": "execute_result"
    }
   ],
   "source": [
    "from cirq import X, H, CNOT\n",
    "\n",
    "seed = np.random.RandomState(0)\n",
    "q0, q1 = LineQubit.range(2)\n",
    "ideal_circuit = Circuit(X(q0), H(q1), CNOT(q0, q1))\n",
    "ideal_circuit"
   ]
  },
  {
   "cell_type": "markdown",
   "metadata": {},
   "source": [
    "The corresponding noisy circuit is:"
   ]
  },
  {
   "cell_type": "code",
   "execution_count": 5,
   "metadata": {},
   "outputs": [
    {
     "data": {
      "text/html": [
       "<pre style=\"overflow: auto; white-space: pre;\">0: ───X───D(0.1)───@───D(0.1)───\n",
       "                   │\n",
       "1: ───H───D(0.1)───X───D(0.1)───</pre>"
      ],
      "text/plain": [
       "0: ───X───D(0.1)───@───D(0.1)───\n",
       "                   │\n",
       "1: ───H───D(0.1)───X───D(0.1)───"
      ]
     },
     "execution_count": 5,
     "metadata": {},
     "output_type": "execute_result"
    }
   ],
   "source": [
    "noisy_circuit = Circuit(\n",
    "    X(q0),\n",
    "    depolarize(BASE_NOISE)(q0),\n",
    "    H(q1),\n",
    "    depolarize(BASE_NOISE)(q1),\n",
    "    CNOT(q0, q1),\n",
    "    depolarize(BASE_NOISE).on_each((q0, q1)),\n",
    ")\n",
    "noisy_circuit"
   ]
  },
  {
   "cell_type": "code",
   "execution_count": null,
   "metadata": {},
   "outputs": [],
   "source": []
  },
  {
   "cell_type": "markdown",
   "metadata": {},
   "source": [
    "Now we need to build the quais-probability representations for all the operations of the circuit.\n",
    "For depolarizing noise, we can import a useful tool from `mitiq.pec.representations`."
   ]
  },
  {
   "cell_type": "code",
   "execution_count": 6,
   "metadata": {},
   "outputs": [
    {
     "data": {
      "text/plain": [
       "<mitiq.pec.types.types.OperationRepresentation at 0x7f0c8d9a3410>"
      ]
     },
     "execution_count": 6,
     "metadata": {},
     "output_type": "execute_result"
    }
   ],
   "source": [
    "from mitiq.pec.representations import represent_operations_in_circuit_with_local_depolarizing_noise\n",
    "\n",
    "representations = represent_operations_in_circuit_with_local_depolarizing_noise(ideal_circuit, BASE_NOISE)\n",
    "representations[1]"
   ]
  },
  {
   "cell_type": "code",
   "execution_count": null,
   "metadata": {},
   "outputs": [],
   "source": []
  },
  {
   "cell_type": "code",
   "execution_count": 7,
   "metadata": {},
   "outputs": [
    {
     "name": "stdout",
     "output_type": "stream",
     "text": [
      "0: ───@───\n",
      "      │\n",
      "1: ───X─── = 1.244*0: ───@───\n",
      "      │\n",
      "1: ───X───+0.001*0: ───@───X───\n",
      "      │\n",
      "1: ───X───X───+0.001*0: ───@───X───\n",
      "      │\n",
      "1: ───X───Y───+0.001*0: ───@───X───\n",
      "      │\n",
      "1: ───X───Z───-0.043*0: ───@───X───\n",
      "      │\n",
      "1: ───X───────+0.001*0: ───@───Y───\n",
      "      │\n",
      "1: ───X───X───+0.001*0: ───@───Y───\n",
      "      │\n",
      "1: ───X───Y───+0.001*0: ───@───Y───\n",
      "      │\n",
      "1: ───X───Z───-0.043*0: ───@───Y───\n",
      "      │\n",
      "1: ───X───────+0.001*0: ───@───Z───\n",
      "      │\n",
      "1: ───X───X───+0.001*0: ───@───Z───\n",
      "      │\n",
      "1: ───X───Y───+0.001*0: ───@───Z───\n",
      "      │\n",
      "1: ───X───Z───-0.043*0: ───@───Z───\n",
      "      │\n",
      "1: ───X───────-0.043*0: ───@───────\n",
      "      │\n",
      "1: ───X───X───-0.043*0: ───@───────\n",
      "      │\n",
      "1: ───X───Y───-0.043*0: ───@───────\n",
      "      │\n",
      "1: ───X───Z───\n",
      "0: ───X─── = 1.115*0: ───X───-0.038*0: ───X───X───-0.038*0: ───X───Y───-0.038*0: ───X───Z───\n"
     ]
    }
   ],
   "source": [
    "from mitiq.pec.representations import represent_operations_in_circuit_with_local_depolarizing_noise\n",
    "\n",
    "representations = represent_operations_in_circuit_with_local_depolarizing_noise(ideal_circuit, BASE_NOISE)\n",
    "# print(representations[0])\n",
    "print(representations[1])\n",
    "print(representations[2])"
   ]
  },
  {
   "cell_type": "markdown",
   "metadata": {},
   "source": [
    "### Using the `mitiq.sampling` module"
   ]
  },
  {
   "cell_type": "markdown",
   "metadata": {},
   "source": [
    "Let us take a random sample from the quasi-probability distribution of the full circuit."
   ]
  },
  {
   "cell_type": "code",
   "execution_count": 8,
   "metadata": {},
   "outputs": [
    {
     "data": {
      "text/plain": [
       "(0: ───X───X───@───\n",
       "              │\n",
       "1: ───H───────X───, -1, 2.294597528097758)"
      ]
     },
     "execution_count": 8,
     "metadata": {},
     "output_type": "execute_result"
    }
   ],
   "source": [
    "from mitiq.pec.sampling import sample_circuit\n",
    "\n",
    "sample_circuit(ideal_circuit, representations)"
   ]
  },
  {
   "cell_type": "markdown",
   "metadata": {},
   "source": [
    "The function `sample_circuit` returns a tuple `Tuple[QPROGRAM, int, float]`, corrsponding to:\n",
    "- An implementable circuit sampled from the quasi-distribution of the ideal circuit;\n",
    "- The sign of the corresponding real coefficient in the quasi-distribution;\n",
    "- The 1-norm of the quasi-distribution of the full circuit (the sum of the absolute values of the coefficients)."
   ]
  },
  {
   "cell_type": "markdown",
   "metadata": {},
   "source": [
    "By running a sampled circuit in the presence of depolarizing noise (weigthed with by its sign and scaled by the representation norm) we should get an unbiased estimator of the ideal circuit. We can test this, by comparing the Choi matrices of the ideal and the PEC circuits."
   ]
  },
  {
   "cell_type": "code",
   "execution_count": 9,
   "metadata": {},
   "outputs": [
    {
     "name": "stdout",
     "output_type": "stream",
     "text": [
      "The error between the ideal and the noisy Choi matrces is: 0.35779294\n",
      "The error between the ideal and the PEC Choi matrces is: 0.03169106\n"
     ]
    }
   ],
   "source": [
    "# Test that the sample_circuit function can be used for doing PEC\n",
    "\n",
    "choi_of_ideal_circuit = _circuit_to_choi(ideal_circuit)\n",
    "\n",
    "choi_of_noisy_circuit = _circuit_to_choi(noisy_circuit)\n",
    "\n",
    "# Take 1000 samples\n",
    "circ_samples = [sample_circuit(ideal_circuit, representations) for _ in range(1000)]\n",
    "\n",
    "\n",
    "# Get estimators for the ideal circuit\n",
    "choi_of_pec_unbiased_estimates =[\n",
    "   s[2] * s[1] * _circuit_to_choi(s[0].with_noise(depolarize(BASE_NOISE))) for s in circ_samples\n",
    "]\n",
    "\n",
    "choi_of_pec = np.average(choi_of_pec_unbiased_estimates, axis=0)\n",
    "\n",
    "print(\n",
    "    \"The error between the ideal and the noisy Choi matrces is:\",\n",
    "    np.linalg.norm(choi_of_ideal_circuit - choi_of_noisy_circuit),\n",
    ")\n",
    "print(\n",
    "    \"The error between the ideal and the PEC Choi matrces is:\",\n",
    "    np.linalg.norm(choi_of_pec - choi_of_ideal_circuit),\n",
    ")"
   ]
  },
  {
   "cell_type": "markdown",
   "metadata": {},
   "source": [
    "## Task 4:  Infer  PEC expectation values with a few lines of code"
   ]
  },
  {
   "cell_type": "markdown",
   "metadata": {},
   "source": [
    "Let us define a function which executes a circuit with depolarizing noise and returns an expectation value (in the case the probability of finding all qubits in the ground state)."
   ]
  },
  {
   "cell_type": "code",
   "execution_count": 10,
   "metadata": {},
   "outputs": [],
   "source": [
    "from cirq import DensityMatrixSimulator\n",
    "\n",
    "SIMULATOR = DensityMatrixSimulator()\n",
    "\n",
    "def noisy_executor(circ: Circuit) -> float:\n",
    "    \"\"\"Simulates a circuit with depolarizing noise and returns the expectation value\n",
    "    of the projector on the ground state |00...><00...|.\n",
    "    \"\"\"\n",
    "    circuit = circ.with_noise(depolarize(BASE_NOISE))\n",
    "    rho = SIMULATOR.simulate(circuit).final_density_matrix\n",
    "    projector = np.zeros(rho.shape)\n",
    "    projector[0, 0] = 1.0\n",
    "    expectation = np.real(np.trace(rho @ projector))\n",
    "    return expectation\n",
    "\n",
    "def ideal_executor(circ: Circuit) -> float:\n",
    "    \"\"\"Simulates a circuit without  noise and returns the expectation value\n",
    "    of the projector on the ground state |00...><00...|.\n",
    "    \"\"\"\n",
    "    rho = SIMULATOR.simulate(circ).final_density_matrix\n",
    "    projector = np.zeros(rho.shape)\n",
    "    projector[0, 0] = 1.0\n",
    "    expectation = np.real(np.trace(rho @ projector))\n",
    "    return expectation"
   ]
  },
  {
   "cell_type": "code",
   "execution_count": 11,
   "metadata": {},
   "outputs": [
    {
     "name": "stdout",
     "output_type": "stream",
     "text": [
      "Ideal expectation value: 0.0\n",
      "Noisy expectation value: 0.062222231179475784\n"
     ]
    }
   ],
   "source": [
    "print(\"Ideal expectation value:\", ideal_executor(ideal_circuit))\n",
    "print(\"Noisy expectation value:\", noisy_executor(ideal_circuit))"
   ]
  },
  {
   "cell_type": "markdown",
   "metadata": {},
   "source": [
    "### Using the `mitiq.pec` module"
   ]
  },
  {
   "cell_type": "markdown",
   "metadata": {},
   "source": [
    "In order to estimate the ideal the expectation value with PEC one should:\n",
    "- sample many circuits from the quasi-distribution representation of the ideal circuit\n",
    "- execute all the samples with a noisy backend and get a list of noisy expectation values\n",
    "- average with suitable weights (sign and norm) to estimate the ideal expectation value\n"
   ]
  },
  {
   "cell_type": "markdown",
   "metadata": {},
   "source": [
    "If not already done, we must define an `OperationRepresentation` for each operation of the ideal circuit."
   ]
  },
  {
   "cell_type": "code",
   "execution_count": 12,
   "metadata": {},
   "outputs": [],
   "source": [
    "from mitiq.pec.representations import represent_operations_in_circuit_with_local_depolarizing_noise\n",
    "\n",
    "representations = represent_operations_in_circuit_with_local_depolarizing_noise(ideal_circuit, BASE_NOISE)"
   ]
  },
  {
   "cell_type": "markdown",
   "metadata": {},
   "source": [
    "Given the `noisy_executor` and the list of representations (`representations`) we can apply PEC with a single line of code."
   ]
  },
  {
   "cell_type": "code",
   "execution_count": 13,
   "metadata": {},
   "outputs": [],
   "source": [
    "from mitiq.pec import execute_with_pec\n",
    "\n",
    "pec_expectation_value = execute_with_pec(\n",
    "    ideal_circuit,\n",
    "    noisy_executor,\n",
    "    representations,\n",
    "    random_state=0,  # for reproducibility\n",
    ")"
   ]
  },
  {
   "cell_type": "code",
   "execution_count": 14,
   "metadata": {},
   "outputs": [
    {
     "name": "stdout",
     "output_type": "stream",
     "text": [
      "Absolute error wituout PEC: 0.062222231179475784\n",
      "Absolute error with PEC: 0.007030440786827054\n"
     ]
    }
   ],
   "source": [
    "ideal_expectation_value = ideal_executor(ideal_circuit)\n",
    "noisy_expectation_value = noisy_executor(ideal_circuit)\n",
    "print(\"Absolute error wituout PEC:\", abs(ideal_expectation_value - noisy_expectation_value))\n",
    "print(\"Absolute error with PEC:\", abs(ideal_expectation_value - pec_expectation_value))"
   ]
  },
  {
   "cell_type": "markdown",
   "metadata": {},
   "source": [
    "All the raw data related to the PEC process can be easily accessed by setting `full_output=True`:"
   ]
  },
  {
   "cell_type": "code",
   "execution_count": 15,
   "metadata": {},
   "outputs": [],
   "source": [
    "pec_value, pec_data = execute_with_pec(\n",
    "    ideal_circuit,\n",
    "    noisy_executor,\n",
    "    representations,\n",
    "    num_samples = 1000,\n",
    "    full_output=True,\n",
    "    random_state=0,  # for reproducibility\n",
    ")"
   ]
  },
  {
   "cell_type": "code",
   "execution_count": 16,
   "metadata": {},
   "outputs": [
    {
     "data": {
      "text/plain": [
       "dict_keys(['num_samples', 'precision', 'pec_value', 'pec_error', 'unbiased_estimators', 'measured_expectation_values', 'sampled_circuits'])"
      ]
     },
     "execution_count": 16,
     "metadata": {},
     "output_type": "execute_result"
    }
   ],
   "source": [
    "pec_data.keys()"
   ]
  },
  {
   "cell_type": "markdown",
   "metadata": {},
   "source": [
    "For example, we can extract the PEC statistical error (due to a finite number of Monte Carlo samples):"
   ]
  },
  {
   "cell_type": "code",
   "execution_count": 17,
   "metadata": {},
   "outputs": [
    {
     "data": {
      "text/plain": [
       "-0.012408694449352954"
      ]
     },
     "execution_count": 17,
     "metadata": {},
     "output_type": "execute_result"
    }
   ],
   "source": [
    "pec_data[\"pec_value\"]"
   ]
  },
  {
   "cell_type": "code",
   "execution_count": 18,
   "metadata": {},
   "outputs": [
    {
     "data": {
      "text/plain": [
       "0.011462046913405771"
      ]
     },
     "execution_count": 18,
     "metadata": {},
     "output_type": "execute_result"
    }
   ],
   "source": [
    "pec_data[\"pec_error\"]"
   ]
  },
  {
   "cell_type": "code",
   "execution_count": 19,
   "metadata": {},
   "outputs": [
    {
     "data": {
      "text/plain": [
       "1000"
      ]
     },
     "execution_count": 19,
     "metadata": {},
     "output_type": "execute_result"
    }
   ],
   "source": [
    "pec_data[\"num_samples\"]"
   ]
  },
  {
   "cell_type": "markdown",
   "metadata": {},
   "source": [
    "We can also analyze the raw Monte Carlo samples (`pec_data[\"unbiased_estimators\"]`):"
   ]
  },
  {
   "cell_type": "code",
   "execution_count": 28,
   "metadata": {},
   "outputs": [
    {
     "data": {
      "image/png": "[encoded data removed]",
      "text/plain": [
       "<Figure size 576x288 with 1 Axes>"
      ]
     },
     "metadata": {
      "needs_background": "light"
     },
     "output_type": "display_data"
    }
   ],
   "source": [
    "from matplotlib import pyplot as plt\n",
    "\n",
    "plt.rcParams.update({\"font.family\": \"serif\", \"font.size\": 14})\n",
    "fig = plt.figure(figsize=(8, 4));\n",
    "\n",
    "data = np.round(pec_data[\"unbiased_estimators\"]- pec_value, 5)\n",
    "y_limit = 0.8 * len(data)\n",
    "binwidth = 0.1\n",
    "\n",
    "plt.hist(data, label=\"PEC samples\", color=\"lightgray\", bins=np.arange(min(data), max(data) + binwidth, binwidth))\n",
    "plt.vlines(pec_value, 0, y_limit, \"green\", label=\"PEC value\", linewidth=2.5)\n",
    "#plt.vlines(ideal_expectation_value, 0, y_limit, \"black\", linestyle=\"dotted\", label=\"Ideal Expectation Value\", linewidth=3.0)\n",
    "plt.vlines(noisy_expectation_value, 0, y_limit, \"red\", linestyle=\"dashed\", label=\"Unmitigated Value\", linewidth=2.5)\n",
    "plt.xlabel('Expectation Value', fontsize=16)\n",
    "plt.ylabel('Counts', fontsize=16)\n",
    "plt.legend(fontsize=12)\n",
    "plt.show()"
   ]
  },
  {
   "cell_type": "code",
   "execution_count": 29,
   "metadata": {},
   "outputs": [],
   "source": [
    "# Uncomment to save the figure\n",
    "fig.savefig('pec_hist.pdf')"
   ]
  },
  {
   "cell_type": "markdown",
   "metadata": {},
   "source": [
    "### This notebook was executed with:"
   ]
  },
  {
   "cell_type": "code",
   "execution_count": 22,
   "metadata": {},
   "outputs": [
    {
     "name": "stdout",
     "output_type": "stream",
     "text": [
      "\n",
      "Mitiq: A Python toolkit for implementing error mitigation on quantum computers\n",
      "==============================================================================\n",
      "Authored by: Mitiq team, 2020 & later (https://github.com/unitaryfund/mitiq)\n",
      "\n",
      "Mitiq Version:\t0.9.0dev\n",
      "\n",
      "Core Dependencies\n",
      "-----------------\n",
      "Cirq Version:\t0.10.0\n",
      "NumPy Version:\t1.20.1\n",
      "SciPy Version:\t1.4.1\n",
      "\n",
      "Optional Dependencies\n",
      "---------------------\n",
      "PyQuil Version:\t2.28.0\n",
      "Qiskit Version: 0.24.0\n",
      "    Qiskit Elements:\n",
      "        Terra : 0.16.4\n",
      "        Aer : 0.7.6\n",
      "        IBMQ-Provider : 0.12.3\n",
      "\n",
      "Python Version:\t3.7.7\n",
      "Platform Info:\tLinux (x86_64)\n"
     ]
    }
   ],
   "source": [
    "import mitiq\n",
    "\n",
    "mitiq.about()"
   ]
  }
 ],
 "metadata": {
  "kernelspec": {
   "display_name": "Python 3",
   "language": "python",
   "name": "python3"
  },
  "language_info": {
   "codemirror_mode": {
    "name": "ipython",
    "version": 3
   },
   "file_extension": ".py",
   "mimetype": "text/x-python",
   "name": "python",
   "nbconvert_exporter": "python",
   "pygments_lexer": "ipython3",
   "version": "3.8.0"
  }
 },
 "nbformat": 4,
 "nbformat_minor": 2
}
