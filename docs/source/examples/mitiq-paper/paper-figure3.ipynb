{
 "cells": [
  {
   "cell_type": "markdown",
   "metadata": {},
   "source": [
    "# Using `mitiq` in VQE on $H_2$"
   ]
  },
  {
   "cell_type": "markdown",
   "metadata": {},
   "source": [
    "<b>Abstract</b>: This notebook uses zero-noise extrapolation in `mitiq` to get a better estimate of the potential energy surface of molecular Hydrogen."
   ]
  },
  {
   "cell_type": "markdown",
   "metadata": {},
   "source": [
    "<img src=\"https://images.squarespace-cdn.com/content/v1/5879c888e4fcb54334f8d43f/1505431013539-Z43BYVJZ1W76R0OSS0LL/ke17ZwdGBToddI8pDm48kCVj22j6z99UmGAHyGo4-JdZw-zPPgdn4jUwVcJE1ZvWEtT5uBSRWt4vQZAgTJucoTqqXjS3CfNDSuuf31e0tVEblefBqtfxdDDrp0JJb4DWuF9MfQrDE_Iw9yivfvu2YBur-lC0WofN0YB1wFg-ZW0/hydrogen+molecule.png\" alt=\"H2\">"
   ]
  },
  {
   "cell_type": "code",
   "execution_count": 3,
   "metadata": {},
   "outputs": [],
   "source": [
    "\"\"\"Imports.\"\"\"\n",
    "import matplotlib.pyplot as plt\n",
    "import numpy as np\n",
    "import sympy\n",
    "from scipy.optimize import brute\n",
    "\n",
    "import cirq\n",
    "import mitiq\n",
    "from mitiq.benchmarks.utils import noisy_simulation"
   ]
  },
  {
   "cell_type": "markdown",
   "metadata": {},
   "source": [
    "# The Hamiltonian for $H_2$"
   ]
  },
  {
   "cell_type": "markdown",
   "metadata": {},
   "source": [
    "We can write down the Hamiltonian for $H_2$ in the following form [1]\n",
    "\n",
    "\\begin{equation}\n",
    "    H = g_0 I + g_1 Z_0 + g_2 Z_1 + g_3 Z_0 Z_1 + g_4 X_0 X_1 + g_5 Y_0 Y_1\n",
    "\\end{equation}\n",
    "\n",
    "where $g_i$ are numerical values that depend on the bond length $R$ between Hydrogren molecules. This writing of the Hamiltonian:\n",
    "\n",
    "1. Uses the minimal [STO-6G basis](https://en.wikipedia.org/wiki/STO-nG_basis_sets),\n",
    "1. Uses the Bravyi-Kitaev transform, and\n",
    "1. Reduces resources (qubit number) by symmetry considerations (see paper).\n",
    "\n",
    "Each coefficient $g_i$ is a function of bond length $g_i = g_i(R)$. These values are specified in the table below in which the first column is the bond length $R$."
   ]
  },
  {
   "cell_type": "code",
   "execution_count": 4,
   "metadata": {},
   "outputs": [],
   "source": [
    "\"\"\"Define the Hamiltonian coefficents (shield your eyes).\n",
    "\n",
    "The organization of the numeric values in the table below is\n",
    "\n",
    "RADIUS  | g0    | g1    | g2    | g3    | g4    | g5\n",
    "\n",
    "where it is understood each g is a function of the RADIUS R.\n",
    "\n",
    "Source: Table 1 of Appendix C of [1].\n",
    "\"\"\"\n",
    "\n",
    "table = np.array([\n",
    "        [0.2000, 2.8489, 0.5678, -1.4508, 0.6799, 0.07910, 0.07910],\n",
    "        [0.2500, 2.1868, 0.5449, -1.2870, 0.6719, 0.07980, 0.07980],\n",
    "        [0.3000, 1.7252, 0.5215, -1.1458, 0.6631, 0.08060, 0.08060],\n",
    "        [0.3500, 1.3827, 0.4982, -1.0226, 0.6537, 0.08150, 0.08150],\n",
    "        [0.4000, 1.1182, 0.4754, -0.9145, 0.6438, 0.08250, 0.08250],\n",
    "        [0.4500, 0.9083, 0.4534, -0.8194, 0.6336, 0.08350, 0.08350],\n",
    "        [0.5000, 0.7381, 0.4325, -0.7355, 0.6233, 0.08460, 0.08460],\n",
    "        [0.5500, 0.5979, 0.4125, -0.6612, 0.6129, 0.08580, 0.08580],\n",
    "        [0.6000, 0.4808, 0.3937, -0.5950, 0.6025, 0.08700, 0.08700],\n",
    "        [0.6500, 0.3819, 0.3760, -0.5358, 0.5921, 0.08830, 0.08830],\n",
    "        [0.7000, 0.2976, 0.3593, -0.4826, 0.5818, 0.08960, 0.08960],\n",
    "        [0.7500, 0.2252, 0.3435, -0.4347, 0.5716, 0.09100, 0.09100],\n",
    "        [0.8000, 0.1626, 0.3288, -0.3915, 0.5616, 0.09250, 0.09250],\n",
    "        [0.8500, 0.1083, 0.3149, -0.3523, 0.5518, 0.09390, 0.09390],\n",
    "        [0.9000, 0.06090, 0.3018, -0.3168, 0.5421, 0.09540, 0.09540],\n",
    "        [0.9500, 0.01930, 0.2895, -0.2845, 0.5327, 0.09700, 0.09700],\n",
    "        [1.000, -0.01720, 0.2779, -0.2550, 0.5235, 0.09860, 0.09860],\n",
    "        [1.050, -0.04930, 0.2669, -0.2282, 0.5146, 0.1002, 0.1002],\n",
    "        [1.100, -0.07780, 0.2565, -0.2036, 0.5059, 0.1018, 0.1018],\n",
    "        [1.150, -0.1029, 0.2467, -0.1810, 0.4974, 0.1034, 0.1034],\n",
    "        [1.200, -0.1253, 0.2374, -0.1603, 0.4892, 0.1050, 0.1050],\n",
    "        [1.250, -0.1452, 0.2286, -0.1413, 0.4812, 0.1067, 0.1067],\n",
    "        [1.300, -0.1629, 0.2203, -0.1238, 0.4735, 0.1083, 0.1083],\n",
    "        [1.350, -0.1786, 0.2123, -0.1077, 0.4660, 0.1100, 0.1100],\n",
    "        [1.400, -0.1927, 0.2048, -0.09290, 0.4588, 0.1116, 0.1116],\n",
    "        [1.450, -0.2053, 0.1976, -0.07920, 0.4518, 0.1133, 0.1133],\n",
    "        [1.500, -0.2165, 0.1908, -0.06660, 0.4451, 0.1149, 0.1149],\n",
    "        [1.550, -0.2265, 0.1843, -0.05490, 0.4386, 0.1165, 0.1165],\n",
    "        [1.600, -0.2355, 0.1782, -0.04420, 0.4323, 0.1181, 0.1181],\n",
    "        [1.650, -0.2436, 0.1723, -0.03420, 0.4262, 0.1196, 0.1196],\n",
    "        [1.700, -0.2508, 0.1667, -0.02510, 0.4204, 0.1211, 0.1211],\n",
    "        [1.750, -0.2573, 0.1615, -0.01660, 0.4148, 0.1226, 0.1226],\n",
    "        [1.800, -0.2632, 0.1565, -0.00880, 0.4094, 0.1241, 0.1241],\n",
    "        [1.850, -0.2684, 0.1517, -0.00150, 0.4042, 0.1256, 0.1256],\n",
    "        [1.900, -0.2731, 0.1472, 0.005200, 0.3992, 0.1270, 0.1270],\n",
    "        [1.950, -0.2774, 0.1430, 0.01140, 0.3944, 0.1284, 0.1284],\n",
    "        [2.000, -0.2812, 0.1390, 0.01710, 0.3898, 0.1297, 0.1297],\n",
    "        [2.050, -0.2847, 0.1352, 0.02230, 0.3853, 0.1310, 0.1310],\n",
    "        [2.100, -0.2879, 0.1316, 0.02720, 0.3811, 0.1323, 0.1323],\n",
    "        [2.150, -0.2908, 0.1282, 0.03170, 0.3769, 0.1335, 0.1335],\n",
    "        [2.200, -0.2934, 0.1251, 0.03590, 0.3730, 0.1347, 0.1347],\n",
    "        [2.250, -0.2958, 0.1221, 0.03970, 0.3692, 0.1359, 0.1359],\n",
    "        [2.300, -0.2980, 0.1193, 0.04320, 0.3655, 0.1370, 0.1370],\n",
    "        [2.350, -0.3000, 0.1167, 0.04650, 0.3620, 0.1381, 0.1381],\n",
    "        [2.400, -0.3018, 0.1142, 0.04950, 0.3586, 0.1392, 0.1392],\n",
    "        [2.450, -0.3035, 0.1119, 0.05230, 0.3553, 0.1402, 0.1402],\n",
    "        [2.500, -0.3051, 0.1098, 0.05490, 0.3521, 0.1412, 0.1412],\n",
    "        [2.550, -0.3066, 0.1078, 0.05720, 0.3491, 0.1422, 0.1422],\n",
    "        [2.600, -0.3079, 0.1059, 0.05940, 0.3461, 0.1432, 0.1432],\n",
    "        [2.650, -0.3092, 0.1042, 0.06140, 0.3433, 0.1441, 0.1441],\n",
    "        [2.700, -0.3104, 0.1026, 0.06320, 0.3406, 0.1450, 0.1450],\n",
    "        [2.750, -0.3115, 0.1011, 0.06490, 0.3379, 0.1458, 0.1458],\n",
    "        [2.800, -0.3125, 0.09970, 0.06650, 0.3354, 0.1467, 0.1467],\n",
    "        [2.850, -0.3135, 0.09840, 0.06790, 0.3329, 0.1475, 0.1475]\n",
    "])"
   ]
  },
  {
   "cell_type": "code",
   "execution_count": 5,
   "metadata": {},
   "outputs": [
    {
     "name": "stdout",
     "output_type": "stream",
     "text": [
      "Bond length (Angstroms): Coefficients (Hartree):\n",
      "0.2 :\t\t\t [ 2.8489  0.5678 -1.4508  0.6799  0.0791  0.0791]\n",
      "0.3 :\t\t\t [ 1.7252  0.5215 -1.1458  0.6631  0.0806  0.0806]\n",
      "0.4 :\t\t\t [ 1.1182  0.4754 -0.9145  0.6438  0.0825  0.0825]\n",
      "0.5 :\t\t\t [ 0.7381  0.4325 -0.7355  0.6233  0.0846  0.0846]\n",
      "0.6 :\t\t\t [ 0.4808  0.3937 -0.595   0.6025  0.087   0.087 ]\n",
      "0.7 :\t\t\t [ 0.2976  0.3593 -0.4826  0.5818  0.0896  0.0896]\n",
      "0.8 :\t\t\t [ 0.1626  0.3288 -0.3915  0.5616  0.0925  0.0925]\n",
      "0.9 :\t\t\t [ 0.0609  0.3018 -0.3168  0.5421  0.0954  0.0954]\n",
      "1.0 :\t\t\t [-0.0172  0.2779 -0.255   0.5235  0.0986  0.0986]\n",
      "1.1 :\t\t\t [-0.0778  0.2565 -0.2036  0.5059  0.1018  0.1018]\n",
      "1.2 :\t\t\t [-0.1253  0.2374 -0.1603  0.4892  0.105   0.105 ]\n",
      "1.3 :\t\t\t [-0.1629  0.2203 -0.1238  0.4735  0.1083  0.1083]\n",
      "1.4 :\t\t\t [-0.1927  0.2048 -0.0929  0.4588  0.1116  0.1116]\n",
      "1.5 :\t\t\t [-0.2165  0.1908 -0.0666  0.4451  0.1149  0.1149]\n",
      "1.6 :\t\t\t [-0.2355  0.1782 -0.0442  0.4323  0.1181  0.1181]\n",
      "1.7 :\t\t\t [-0.2508  0.1667 -0.0251  0.4204  0.1211  0.1211]\n",
      "1.8 :\t\t\t [-0.2632  0.1565 -0.0088  0.4094  0.1241  0.1241]\n",
      "1.9 :\t\t\t [-0.2731  0.1472  0.0052  0.3992  0.127   0.127 ]\n",
      "2.0 :\t\t\t [-0.2812  0.139   0.0171  0.3898  0.1297  0.1297]\n",
      "2.1 :\t\t\t [-0.2879  0.1316  0.0272  0.3811  0.1323  0.1323]\n",
      "2.2 :\t\t\t [-0.2934  0.1251  0.0359  0.373   0.1347  0.1347]\n",
      "2.3 :\t\t\t [-0.298   0.1193  0.0432  0.3655  0.137   0.137 ]\n",
      "2.4 :\t\t\t [-0.3018  0.1142  0.0495  0.3586  0.1392  0.1392]\n",
      "2.5 :\t\t\t [-0.3051  0.1098  0.0549  0.3521  0.1412  0.1412]\n",
      "2.6 :\t\t\t [-0.3079  0.1059  0.0594  0.3461  0.1432  0.1432]\n"
     ]
    }
   ],
   "source": [
    "\"\"\"Reduce the number of bond lengths considered.\"\"\"\n",
    "# only consider the first N bond lengths, and increase the spacing\n",
    "N = 50\n",
    "step = 2\n",
    "\n",
    "# grab the reduced coeffs and bond lengths\n",
    "table = table[0: N: step]\n",
    "radii = table[:, 0]\n",
    "coeffs = table[:, 1:]\n",
    "\n",
    "# show the reduced set of coefficients at each bond length\n",
    "print(\"Bond length (Angstroms): Coefficients (Hartree):\")\n",
    "\n",
    "for i in range(len(table)):\n",
    "    print(radii[i],\":\\t\\t\\t\",coeffs[i])"
   ]
  },
  {
   "cell_type": "markdown",
   "metadata": {},
   "source": [
    "# Variational ansatz"
   ]
  },
  {
   "cell_type": "markdown",
   "metadata": {},
   "source": [
    "We use the single-parameter variational ansatz shown in Fig. 1 of [1]."
   ]
  },
  {
   "cell_type": "code",
   "execution_count": 6,
   "metadata": {},
   "outputs": [
    {
     "name": "stdout",
     "output_type": "stream",
     "text": [
      "Ansatz circuit:\n",
      "0: ───Ry(0.5π)───────────────@───────────────@───Ry(-0.5π)───\n",
      "                             │               │\n",
      "1: ───X──────────Rx(-0.5π)───X───Rz(theta)───X───Rx(0.5π)────\n"
     ]
    }
   ],
   "source": [
    "\"\"\"Defines the variational ansatz.\"\"\"\n",
    "# Variational parameter\n",
    "theta = sympy.Symbol(\"theta\")\n",
    "\n",
    "# Qubits and circuit\n",
    "qreg = cirq.LineQubit.range(2)\n",
    "ansatz = cirq.Circuit(\n",
    "    cirq.ops.ry(np.pi / 2).on(qreg[0]),\n",
    "    cirq.ops.X.on(qreg[1]),\n",
    "    cirq.ops.rx(-np.pi / 2).on(qreg[1]),\n",
    "    cirq.ops.CNOT.on(*qreg),\n",
    "    cirq.ops.rz(theta).on(qreg[1]),\n",
    "    cirq.ops.CNOT.on(*qreg),\n",
    "    cirq.ops.ry(-np.pi / 2).on(qreg[0]),\n",
    "    cirq.ops.rx(np.pi / 2).on(qreg[1])\n",
    ")\n",
    "print(\"Ansatz circuit:\")\n",
    "print(ansatz)"
   ]
  },
  {
   "cell_type": "markdown",
   "metadata": {},
   "source": [
    "# Computing expectations"
   ]
  },
  {
   "cell_type": "code",
   "execution_count": 7,
   "metadata": {},
   "outputs": [],
   "source": [
    "\"\"\"Defines basis rotations to compute expectation values.\"\"\"\n",
    "# rotations = {\n",
    "#     1: [cirq.ops.measure(qreg[0])],  # <Z_0>\n",
    "#     2: [cirq.ops.measure(qreg[1])],  # <Z_1>\n",
    "#     3: [cirq.ops.measure(qreg[0]), cirq.ops.measure(qreg[1])],  # <Z_0 Z_1>\n",
    "#     4: [cirq.ops.ry(-np.pi / 1).on_each(*qreg), cirq.ops.measure_each(*qreg)],  # <X_0 X_1>\n",
    "#     5: [cirq.ops.rx(np.pi / 1).on_each(*qreg), cirq.ops.measure_each(*qreg)]  # <Y_0 Y_1>\n",
    "# }\n",
    "\n",
    "npI = np.identity(2)\n",
    "npX = np.array([[0., 1.], [1., 0.]])\n",
    "npY = np.array([[0., -1j], [1j, 0.]])\n",
    "npZ = np.array([[1., 0.], [0., -1.]])\n",
    "\n",
    "observables = {\n",
    "    1: np.kron(npZ, npI),\n",
    "    2: np.kron(npI, npZ),\n",
    "    3: np.kron(npZ, npZ),\n",
    "    4: np.kron(npX, npX),\n",
    "    5: np.kron(npY, npY)\n",
    "}\n",
    "\n",
    "\n",
    "def expectation(\n",
    "    ansatz: cirq.Circuit,\n",
    "    term_index: int,\n",
    "    theta: float, \n",
    "    depo_noise_strength: float = 0.05,\n",
    ") -> float:\n",
    "    \"\"\"Returns the expectation of a single term in the Hamiltonian.\n",
    "    \n",
    "    Args:\n",
    "        ansatz: Circuit which defines the ansatz.\n",
    "        term_index: Integer index of the term in the Hamiltonian.\n",
    "        theta: Value of the variational parameter.\n",
    "        depo_noise_strength: Depolarizing noise strength implemented after every moment.\n",
    "    \"\"\"\n",
    "    if term_index not in {1, 2, 3, 4, 5}:\n",
    "        raise ValueError(\"Valid term indices are 1 to 5.\")\n",
    "\n",
    "    return noisy_simulation(\n",
    "        ansatz._resolve_parameters_({\"theta\": theta}),\n",
    "        noise=depo_noise_strength,\n",
    "        obs=observables[term_index]\n",
    "    )\n",
    "\n",
    "\n",
    "def term(\n",
    "    ansatz: cirq.Circuit,\n",
    "    radius_index: int, \n",
    "    term_index: int, \n",
    "    theta: float, \n",
    "    depo_noise_strength: float = 0.05\n",
    "):\n",
    "    \"\"\"Computes one term of the energy <H>.\n",
    "    \n",
    "    Args:\n",
    "        ansatz: Circuit which defines the ansatz.\n",
    "        radius_index: Index of the radius (bond length).\n",
    "        term_index: Index of the term in the Hamilton.\n",
    "        theta: Value of the variational parameter.\n",
    "        depo_noise_strength: Depolarizing noise strength implemented after every moment.\n",
    "    \"\"\"\n",
    "    return coeffs[radius_index][term_index] * expectation(ansatz, term_index, theta, depo_noise_strength)\n",
    "\n",
    "\n",
    "def energy(\n",
    "    ansatz: cirq.Circuit,\n",
    "    radius_index: int, \n",
    "    theta: float, \n",
    "    depo_noise_strength: float = 0.05\n",
    "):\n",
    "    \"\"\"Computes the energy at a given bond length (radius).\n",
    "    \n",
    "    Args:\n",
    "        ansatz: Circuit which defines the ansatz.\n",
    "        radius_index: Index of the radius (bond length).\n",
    "        theta: Value of the variational parameter.\n",
    "        depo_noise_strength: Depolarizing noise strength implemented after every moment.\n",
    "    \"\"\"\n",
    "    total = 0.0\n",
    "    for term_index in range(1, 5 + 1):\n",
    "        total += term(ansatz, radius_index, term_index, theta, depo_noise_strength)\n",
    "    total += coeffs[radius_index][0]\n",
    "    return total"
   ]
  },
  {
   "cell_type": "markdown",
   "metadata": {},
   "source": [
    "# Energy landscape"
   ]
  },
  {
   "cell_type": "markdown",
   "metadata": {},
   "source": [
    "Below we set a particular radius $r$ and sweep the $\\theta$ parameter to visualize the energy landscape $E(\\theta)$ using different strengths $p$ of depolarizing noise."
   ]
  },
  {
   "cell_type": "code",
   "execution_count": 8,
   "metadata": {},
   "outputs": [
    {
     "ename": "TypeError",
     "evalue": "_resolve_parameters_() missing 1 required positional argument: 'recursive'",
     "output_type": "error",
     "traceback": [
      "\u001b[0;31m---------------------------------------------------------------------------\u001b[0m",
      "\u001b[0;31mTypeError\u001b[0m                                 Traceback (most recent call last)",
      "\u001b[0;32m<ipython-input-8-011be8d1e4c8>\u001b[0m in \u001b[0;36m<module>\u001b[0;34m\u001b[0m\n\u001b[1;32m      8\u001b[0m     \u001b[0menergies\u001b[0m \u001b[0;34m=\u001b[0m \u001b[0;34m[\u001b[0m\u001b[0;34m]\u001b[0m\u001b[0;34m\u001b[0m\u001b[0;34m\u001b[0m\u001b[0m\n\u001b[1;32m      9\u001b[0m     \u001b[0;32mfor\u001b[0m \u001b[0mtheta\u001b[0m \u001b[0;32min\u001b[0m \u001b[0mthetas\u001b[0m\u001b[0;34m:\u001b[0m\u001b[0;34m\u001b[0m\u001b[0;34m\u001b[0m\u001b[0m\n\u001b[0;32m---> 10\u001b[0;31m         \u001b[0menergies\u001b[0m\u001b[0;34m.\u001b[0m\u001b[0mappend\u001b[0m\u001b[0;34m(\u001b[0m\u001b[0menergy\u001b[0m\u001b[0;34m(\u001b[0m\u001b[0mansatz\u001b[0m\u001b[0;34m,\u001b[0m \u001b[0mradius_index\u001b[0m\u001b[0;34m=\u001b[0m\u001b[0;36m0\u001b[0m\u001b[0;34m,\u001b[0m \u001b[0mtheta\u001b[0m\u001b[0;34m=\u001b[0m\u001b[0mtheta\u001b[0m\u001b[0;34m,\u001b[0m \u001b[0mdepo_noise_strength\u001b[0m\u001b[0;34m=\u001b[0m\u001b[0mpval\u001b[0m\u001b[0;34m)\u001b[0m\u001b[0;34m)\u001b[0m\u001b[0;34m\u001b[0m\u001b[0;34m\u001b[0m\u001b[0m\n\u001b[0m\u001b[1;32m     11\u001b[0m     \u001b[0mall_energies\u001b[0m\u001b[0;34m.\u001b[0m\u001b[0mappend\u001b[0m\u001b[0;34m(\u001b[0m\u001b[0menergies\u001b[0m\u001b[0;34m)\u001b[0m\u001b[0;34m\u001b[0m\u001b[0;34m\u001b[0m\u001b[0m\n",
      "\u001b[0;32m<ipython-input-7-f1ffd884394c>\u001b[0m in \u001b[0;36menergy\u001b[0;34m(ansatz, radius_index, theta, depo_noise_strength)\u001b[0m\n\u001b[1;32m     81\u001b[0m     \u001b[0mtotal\u001b[0m \u001b[0;34m=\u001b[0m \u001b[0;36m0.0\u001b[0m\u001b[0;34m\u001b[0m\u001b[0;34m\u001b[0m\u001b[0m\n\u001b[1;32m     82\u001b[0m     \u001b[0;32mfor\u001b[0m \u001b[0mterm_index\u001b[0m \u001b[0;32min\u001b[0m \u001b[0mrange\u001b[0m\u001b[0;34m(\u001b[0m\u001b[0;36m1\u001b[0m\u001b[0;34m,\u001b[0m \u001b[0;36m5\u001b[0m \u001b[0;34m+\u001b[0m \u001b[0;36m1\u001b[0m\u001b[0;34m)\u001b[0m\u001b[0;34m:\u001b[0m\u001b[0;34m\u001b[0m\u001b[0;34m\u001b[0m\u001b[0m\n\u001b[0;32m---> 83\u001b[0;31m         \u001b[0mtotal\u001b[0m \u001b[0;34m+=\u001b[0m \u001b[0mterm\u001b[0m\u001b[0;34m(\u001b[0m\u001b[0mansatz\u001b[0m\u001b[0;34m,\u001b[0m \u001b[0mradius_index\u001b[0m\u001b[0;34m,\u001b[0m \u001b[0mterm_index\u001b[0m\u001b[0;34m,\u001b[0m \u001b[0mtheta\u001b[0m\u001b[0;34m,\u001b[0m \u001b[0mdepo_noise_strength\u001b[0m\u001b[0;34m)\u001b[0m\u001b[0;34m\u001b[0m\u001b[0;34m\u001b[0m\u001b[0m\n\u001b[0m\u001b[1;32m     84\u001b[0m     \u001b[0mtotal\u001b[0m \u001b[0;34m+=\u001b[0m \u001b[0mcoeffs\u001b[0m\u001b[0;34m[\u001b[0m\u001b[0mradius_index\u001b[0m\u001b[0;34m]\u001b[0m\u001b[0;34m[\u001b[0m\u001b[0;36m0\u001b[0m\u001b[0;34m]\u001b[0m\u001b[0;34m\u001b[0m\u001b[0;34m\u001b[0m\u001b[0m\n\u001b[1;32m     85\u001b[0m     \u001b[0;32mreturn\u001b[0m \u001b[0mtotal\u001b[0m\u001b[0;34m\u001b[0m\u001b[0;34m\u001b[0m\u001b[0m\n",
      "\u001b[0;32m<ipython-input-7-f1ffd884394c>\u001b[0m in \u001b[0;36mterm\u001b[0;34m(ansatz, radius_index, term_index, theta, depo_noise_strength)\u001b[0m\n\u001b[1;32m     62\u001b[0m         \u001b[0mdepo_noise_strength\u001b[0m\u001b[0;34m:\u001b[0m \u001b[0mDepolarizing\u001b[0m \u001b[0mnoise\u001b[0m \u001b[0mstrength\u001b[0m \u001b[0mimplemented\u001b[0m \u001b[0mafter\u001b[0m \u001b[0mevery\u001b[0m \u001b[0mmoment\u001b[0m\u001b[0;34m.\u001b[0m\u001b[0;34m\u001b[0m\u001b[0;34m\u001b[0m\u001b[0m\n\u001b[1;32m     63\u001b[0m     \"\"\"\n\u001b[0;32m---> 64\u001b[0;31m     \u001b[0;32mreturn\u001b[0m \u001b[0mcoeffs\u001b[0m\u001b[0;34m[\u001b[0m\u001b[0mradius_index\u001b[0m\u001b[0;34m]\u001b[0m\u001b[0;34m[\u001b[0m\u001b[0mterm_index\u001b[0m\u001b[0;34m]\u001b[0m \u001b[0;34m*\u001b[0m \u001b[0mexpectation\u001b[0m\u001b[0;34m(\u001b[0m\u001b[0mansatz\u001b[0m\u001b[0;34m,\u001b[0m \u001b[0mterm_index\u001b[0m\u001b[0;34m,\u001b[0m \u001b[0mtheta\u001b[0m\u001b[0;34m,\u001b[0m \u001b[0mdepo_noise_strength\u001b[0m\u001b[0;34m)\u001b[0m\u001b[0;34m\u001b[0m\u001b[0;34m\u001b[0m\u001b[0m\n\u001b[0m\u001b[1;32m     65\u001b[0m \u001b[0;34m\u001b[0m\u001b[0m\n\u001b[1;32m     66\u001b[0m \u001b[0;34m\u001b[0m\u001b[0m\n",
      "\u001b[0;32m<ipython-input-7-f1ffd884394c>\u001b[0m in \u001b[0;36mexpectation\u001b[0;34m(ansatz, term_index, theta, depo_noise_strength)\u001b[0m\n\u001b[1;32m     40\u001b[0m \u001b[0;34m\u001b[0m\u001b[0m\n\u001b[1;32m     41\u001b[0m     return noisy_simulation(\n\u001b[0;32m---> 42\u001b[0;31m         \u001b[0mansatz\u001b[0m\u001b[0;34m.\u001b[0m\u001b[0m_resolve_parameters_\u001b[0m\u001b[0;34m(\u001b[0m\u001b[0;34m{\u001b[0m\u001b[0;34m\"theta\"\u001b[0m\u001b[0;34m:\u001b[0m \u001b[0mtheta\u001b[0m\u001b[0;34m}\u001b[0m\u001b[0;34m)\u001b[0m\u001b[0;34m,\u001b[0m\u001b[0;34m\u001b[0m\u001b[0;34m\u001b[0m\u001b[0m\n\u001b[0m\u001b[1;32m     43\u001b[0m         \u001b[0mnoise\u001b[0m\u001b[0;34m=\u001b[0m\u001b[0mdepo_noise_strength\u001b[0m\u001b[0;34m,\u001b[0m\u001b[0;34m\u001b[0m\u001b[0;34m\u001b[0m\u001b[0m\n\u001b[1;32m     44\u001b[0m         \u001b[0mobs\u001b[0m\u001b[0;34m=\u001b[0m\u001b[0mobservables\u001b[0m\u001b[0;34m[\u001b[0m\u001b[0mterm_index\u001b[0m\u001b[0;34m]\u001b[0m\u001b[0;34m\u001b[0m\u001b[0;34m\u001b[0m\u001b[0m\n",
      "\u001b[0;31mTypeError\u001b[0m: _resolve_parameters_() missing 1 required positional argument: 'recursive'"
     ]
    }
   ],
   "source": [
    "\"\"\"Sweep the parameter landscape.\"\"\"\n",
    "pvals = (0.00, 0.02, 0.04, 0.06)\n",
    "thetas = np.linspace(0., 2. * np.pi, 20)\n",
    "\n",
    "all_energies = []\n",
    "\n",
    "for pval in pvals:\n",
    "    energies = []\n",
    "    for theta in thetas:\n",
    "        energies.append(energy(ansatz, radius_index=0, theta=theta, depo_noise_strength=pval))\n",
    "    all_energies.append(energies)"
   ]
  },
  {
   "cell_type": "code",
   "execution_count": 12,
   "metadata": {},
   "outputs": [
    {
     "name": "stdout",
     "output_type": "stream",
     "text": [
      "\n",
      "Mitiq: A Python toolkit for implementing error mitigation on quantum computers\n",
      "==============================================================================\n",
      "Authored by: Mitiq team, 2020 & later (https://github.com/unitaryfund/mitiq)\n",
      "\n",
      "Mitiq Version:\t0.10.0dev\n",
      "\n",
      "Core Dependencies\n",
      "-----------------\n",
      "Cirq Version:\t0.10.0\n",
      "NumPy Version:\t1.20.3\n",
      "SciPy Version:\t1.4.1\n",
      "\n",
      "Optional Dependencies\n",
      "---------------------\n",
      "PyQuil Version:\t2.21.0\n",
      "Qiskit Version:\tNone\n",
      "Braket Version:\t1.5.16\n",
      "\n",
      "Python Version:\t3.8.0\n",
      "Platform Info:\tDarwin (x86_64)\n"
     ]
    }
   ],
   "source": [
    "from mitiq import about\n",
    "about()"
   ]
  },
  {
   "cell_type": "code",
   "execution_count": 13,
   "metadata": {
    "scrolled": false
   },
   "outputs": [
    {
     "name": "stderr",
     "output_type": "stream",
     "text": [
      "WARNING - No handles with labels found to put in legend.\n"
     ]
    },
    {
     "data": {
      "image/png": "[encoded data removed]",
      "text/plain": [
       "<Figure size 1000x500 with 1 Axes>"
      ]
     },
     "metadata": {},
     "output_type": "display_data"
    }
   ],
   "source": [
    "\"\"\"Plotting.\"\"\"\n",
    "plt.rcParams.update({\"font.family\": \"serif\", \"font.size\": 14, \"font.weight\": \"bold\"})\n",
    "plt.figure(figsize=(10, 5))\n",
    "\n",
    "for i, energies in enumerate(all_energies):\n",
    "    plt.plot(\n",
    "        thetas,\n",
    "        energies, \n",
    "        \"--s\", \n",
    "        lw=3, \n",
    "        markersize=10,\n",
    "        markeredgecolor=\"black\",\n",
    "        alpha=0.6, \n",
    "        label=\"$p = %0.2f$\" %pvals[i]\n",
    "    )\n",
    "\n",
    "\n",
    "plt.xlabel(r\"$\\theta$\");\n",
    "plt.ylabel(r\"$E(\\theta)$\");\n",
    "plt.legend();\n",
    "plt.show()\n",
    "plt.close()"
   ]
  },
  {
   "cell_type": "markdown",
   "metadata": {},
   "source": [
    "## Zero-noise extrapolation on $E(\\theta)$"
   ]
  },
  {
   "cell_type": "markdown",
   "metadata": {},
   "source": [
    "Here we use zero-noise extrapolation to mitigate the energy landscape."
   ]
  },
  {
   "cell_type": "code",
   "execution_count": 17,
   "metadata": {},
   "outputs": [
    {
     "ename": "UnfoldableCircuitError",
     "evalue": "Circuit contains non-unitary channels which are not terminal measurements and cannot be folded.",
     "output_type": "error",
     "traceback": [
      "\u001b[0;31m---------------------------------------------------------------------------\u001b[0m",
      "\u001b[0;31mUnfoldableCircuitError\u001b[0m                    Traceback (most recent call last)",
      "\u001b[0;32m<ipython-input-17-421b13281678>\u001b[0m in \u001b[0;36m<module>\u001b[0;34m\u001b[0m\n\u001b[1;32m     15\u001b[0m             \u001b[0;32mreturn\u001b[0m \u001b[0menergy\u001b[0m\u001b[0;34m(\u001b[0m\u001b[0mcircuit\u001b[0m\u001b[0;34m,\u001b[0m \u001b[0mradius_index\u001b[0m\u001b[0;34m=\u001b[0m\u001b[0;36m0\u001b[0m\u001b[0;34m,\u001b[0m \u001b[0mtheta\u001b[0m\u001b[0;34m=\u001b[0m\u001b[0mtheta\u001b[0m\u001b[0;34m,\u001b[0m \u001b[0mdepo_noise_strength\u001b[0m\u001b[0;34m=\u001b[0m\u001b[0mp\u001b[0m\u001b[0;34m)\u001b[0m\u001b[0;34m\u001b[0m\u001b[0;34m\u001b[0m\u001b[0m\n\u001b[1;32m     16\u001b[0m \u001b[0;34m\u001b[0m\u001b[0m\n\u001b[0;32m---> 17\u001b[0;31m         zne = mitiq.zne.execute_with_zne(\n\u001b[0m\u001b[1;32m     18\u001b[0m             \u001b[0mansatz\u001b[0m\u001b[0;34m,\u001b[0m \u001b[0mexecutor\u001b[0m\u001b[0;34m,\u001b[0m \u001b[0mfactory\u001b[0m\u001b[0;34m=\u001b[0m\u001b[0mpfac\u001b[0m\u001b[0;34m,\u001b[0m \u001b[0mscale_noise\u001b[0m\u001b[0;34m=\u001b[0m\u001b[0mmitiq\u001b[0m\u001b[0;34m.\u001b[0m\u001b[0mzne\u001b[0m\u001b[0;34m.\u001b[0m\u001b[0mscaling\u001b[0m\u001b[0;34m.\u001b[0m\u001b[0mfold_gates_at_random\u001b[0m\u001b[0;34m,\u001b[0m \u001b[0mnum_to_average\u001b[0m\u001b[0;34m=\u001b[0m\u001b[0;36m1\u001b[0m\u001b[0;34m\u001b[0m\u001b[0;34m\u001b[0m\u001b[0m\n\u001b[1;32m     19\u001b[0m         )\n",
      "\u001b[0;32m~/github/mitiq/mitiq/zne/zne.py\u001b[0m in \u001b[0;36mexecute_with_zne\u001b[0;34m(qp, executor, factory, scale_noise, num_to_average)\u001b[0m\n\u001b[1;32m     60\u001b[0m         \u001b[0;32mraise\u001b[0m \u001b[0mValueError\u001b[0m\u001b[0;34m(\u001b[0m\u001b[0;34m\"Argument `num_to_average` must be a positive int.\"\u001b[0m\u001b[0;34m)\u001b[0m\u001b[0;34m\u001b[0m\u001b[0;34m\u001b[0m\u001b[0m\n\u001b[1;32m     61\u001b[0m \u001b[0;34m\u001b[0m\u001b[0m\n\u001b[0;32m---> 62\u001b[0;31m     \u001b[0;32mreturn\u001b[0m \u001b[0mfactory\u001b[0m\u001b[0;34m.\u001b[0m\u001b[0mrun\u001b[0m\u001b[0;34m(\u001b[0m\u001b[0mqp\u001b[0m\u001b[0;34m,\u001b[0m \u001b[0mexecutor\u001b[0m\u001b[0;34m,\u001b[0m \u001b[0mscale_noise\u001b[0m\u001b[0;34m,\u001b[0m \u001b[0mint\u001b[0m\u001b[0;34m(\u001b[0m\u001b[0mnum_to_average\u001b[0m\u001b[0;34m)\u001b[0m\u001b[0;34m)\u001b[0m\u001b[0;34m.\u001b[0m\u001b[0mreduce\u001b[0m\u001b[0;34m(\u001b[0m\u001b[0;34m)\u001b[0m\u001b[0;34m\u001b[0m\u001b[0;34m\u001b[0m\u001b[0m\n\u001b[0m\u001b[1;32m     63\u001b[0m \u001b[0;34m\u001b[0m\u001b[0m\n\u001b[1;32m     64\u001b[0m \u001b[0;34m\u001b[0m\u001b[0m\n",
      "\u001b[0;32m~/github/mitiq/mitiq/zne/inference.py\u001b[0m in \u001b[0;36mrun\u001b[0;34m(self, qp, executor, scale_noise, num_to_average)\u001b[0m\n\u001b[1;32m    540\u001b[0m \u001b[0;34m\u001b[0m\u001b[0m\n\u001b[1;32m    541\u001b[0m         \u001b[0;31m# Get all noise-scaled circuits to run\u001b[0m\u001b[0;34m\u001b[0m\u001b[0;34m\u001b[0m\u001b[0;34m\u001b[0m\u001b[0m\n\u001b[0;32m--> 542\u001b[0;31m         \u001b[0mto_run\u001b[0m \u001b[0;34m=\u001b[0m \u001b[0mself\u001b[0m\u001b[0;34m.\u001b[0m\u001b[0m_generate_circuits\u001b[0m\u001b[0;34m(\u001b[0m\u001b[0mqp\u001b[0m\u001b[0;34m,\u001b[0m \u001b[0mscale_noise\u001b[0m\u001b[0;34m,\u001b[0m \u001b[0mnum_to_average\u001b[0m\u001b[0;34m)\u001b[0m\u001b[0;34m\u001b[0m\u001b[0;34m\u001b[0m\u001b[0m\n\u001b[0m\u001b[1;32m    543\u001b[0m \u001b[0;34m\u001b[0m\u001b[0m\n\u001b[1;32m    544\u001b[0m         \u001b[0;31m# Get the list of keywords associated to each circuit in \"to_run\"\u001b[0m\u001b[0;34m\u001b[0m\u001b[0;34m\u001b[0m\u001b[0;34m\u001b[0m\u001b[0m\n",
      "\u001b[0;32m~/github/mitiq/mitiq/zne/inference.py\u001b[0m in \u001b[0;36m_generate_circuits\u001b[0;34m(self, circuit, scale_noise, num_to_average)\u001b[0m\n\u001b[1;32m    603\u001b[0m         \u001b[0;32mfor\u001b[0m \u001b[0mscale_factor\u001b[0m \u001b[0;32min\u001b[0m \u001b[0mself\u001b[0m\u001b[0;34m.\u001b[0m\u001b[0mget_scale_factors\u001b[0m\u001b[0;34m(\u001b[0m\u001b[0;34m)\u001b[0m\u001b[0;34m:\u001b[0m\u001b[0;34m\u001b[0m\u001b[0;34m\u001b[0m\u001b[0m\n\u001b[1;32m    604\u001b[0m             \u001b[0;32mfor\u001b[0m \u001b[0m_\u001b[0m \u001b[0;32min\u001b[0m \u001b[0mrange\u001b[0m\u001b[0;34m(\u001b[0m\u001b[0mnum_to_average\u001b[0m\u001b[0;34m)\u001b[0m\u001b[0;34m:\u001b[0m\u001b[0;34m\u001b[0m\u001b[0;34m\u001b[0m\u001b[0m\n\u001b[0;32m--> 605\u001b[0;31m                 \u001b[0mto_run\u001b[0m\u001b[0;34m.\u001b[0m\u001b[0mappend\u001b[0m\u001b[0;34m(\u001b[0m\u001b[0mscale_noise\u001b[0m\u001b[0;34m(\u001b[0m\u001b[0mcircuit\u001b[0m\u001b[0;34m,\u001b[0m \u001b[0mscale_factor\u001b[0m\u001b[0;34m)\u001b[0m\u001b[0;34m)\u001b[0m\u001b[0;34m\u001b[0m\u001b[0;34m\u001b[0m\u001b[0m\n\u001b[0m\u001b[1;32m    606\u001b[0m         \u001b[0;32mreturn\u001b[0m \u001b[0mto_run\u001b[0m\u001b[0;34m\u001b[0m\u001b[0;34m\u001b[0m\u001b[0m\n\u001b[1;32m    607\u001b[0m \u001b[0;34m\u001b[0m\u001b[0m\n",
      "\u001b[0;32m~/github/mitiq/mitiq/interface/conversions.py\u001b[0m in \u001b[0;36mnew_scaling_function\u001b[0;34m(circuit, *args, **kwargs)\u001b[0m\n\u001b[1;32m    221\u001b[0m         \u001b[0mcircuit\u001b[0m\u001b[0;34m:\u001b[0m \u001b[0mQPROGRAM\u001b[0m\u001b[0;34m,\u001b[0m \u001b[0;34m*\u001b[0m\u001b[0margs\u001b[0m\u001b[0;34m:\u001b[0m \u001b[0mAny\u001b[0m\u001b[0;34m,\u001b[0m \u001b[0;34m**\u001b[0m\u001b[0mkwargs\u001b[0m\u001b[0;34m:\u001b[0m \u001b[0mAny\u001b[0m\u001b[0;34m\u001b[0m\u001b[0;34m\u001b[0m\u001b[0m\n\u001b[1;32m    222\u001b[0m     ) -> QPROGRAM:\n\u001b[0;32m--> 223\u001b[0;31m         scaled_circuit = atomic_converter(noise_scaling_function)(\n\u001b[0m\u001b[1;32m    224\u001b[0m             \u001b[0mcircuit\u001b[0m\u001b[0;34m,\u001b[0m \u001b[0;34m*\u001b[0m\u001b[0margs\u001b[0m\u001b[0;34m,\u001b[0m \u001b[0;34m**\u001b[0m\u001b[0mkwargs\u001b[0m\u001b[0;34m\u001b[0m\u001b[0;34m\u001b[0m\u001b[0m\n\u001b[1;32m    225\u001b[0m         )\n",
      "\u001b[0;32m~/github/mitiq/mitiq/interface/conversions.py\u001b[0m in \u001b[0;36mqprogram_modifier\u001b[0;34m(circuit, *args, **kwargs)\u001b[0m\n\u001b[1;32m    170\u001b[0m \u001b[0;34m\u001b[0m\u001b[0m\n\u001b[1;32m    171\u001b[0m         \u001b[0;31m# Modify the Cirq circuit.\u001b[0m\u001b[0;34m\u001b[0m\u001b[0;34m\u001b[0m\u001b[0;34m\u001b[0m\u001b[0m\n\u001b[0;32m--> 172\u001b[0;31m         \u001b[0mscaled_circuit\u001b[0m \u001b[0;34m=\u001b[0m \u001b[0mcirq_circuit_modifier\u001b[0m\u001b[0;34m(\u001b[0m\u001b[0mmitiq_circuit\u001b[0m\u001b[0;34m,\u001b[0m \u001b[0;34m*\u001b[0m\u001b[0margs\u001b[0m\u001b[0;34m,\u001b[0m \u001b[0;34m**\u001b[0m\u001b[0mkwargs\u001b[0m\u001b[0;34m)\u001b[0m\u001b[0;34m\u001b[0m\u001b[0;34m\u001b[0m\u001b[0m\n\u001b[0m\u001b[1;32m    173\u001b[0m \u001b[0;34m\u001b[0m\u001b[0m\n\u001b[1;32m    174\u001b[0m         \u001b[0;32mif\u001b[0m \u001b[0mkwargs\u001b[0m\u001b[0;34m.\u001b[0m\u001b[0mget\u001b[0m\u001b[0;34m(\u001b[0m\u001b[0;34m\"return_mitiq\"\u001b[0m\u001b[0;34m)\u001b[0m \u001b[0;32mis\u001b[0m \u001b[0;32mTrue\u001b[0m\u001b[0;34m:\u001b[0m\u001b[0;34m\u001b[0m\u001b[0;34m\u001b[0m\u001b[0m\n",
      "\u001b[0;32m~/github/mitiq/mitiq/zne/scaling/folding.py\u001b[0m in \u001b[0;36mfold_gates_at_random\u001b[0;34m(circuit, scale_factor, seed, **kwargs)\u001b[0m\n\u001b[1;32m    768\u001b[0m     )\n\u001b[1;32m    769\u001b[0m \u001b[0;34m\u001b[0m\u001b[0m\n\u001b[0;32m--> 770\u001b[0;31m     return _apply_fold_mask(\n\u001b[0m\u001b[1;32m    771\u001b[0m         \u001b[0mcircuit\u001b[0m\u001b[0;34m,\u001b[0m\u001b[0;34m\u001b[0m\u001b[0;34m\u001b[0m\u001b[0m\n\u001b[1;32m    772\u001b[0m         \u001b[0mnum_folds_mask\u001b[0m\u001b[0;34m,\u001b[0m\u001b[0;34m\u001b[0m\u001b[0;34m\u001b[0m\u001b[0m\n",
      "\u001b[0;32m~/github/mitiq/mitiq/zne/scaling/folding.py\u001b[0m in \u001b[0;36m_apply_fold_mask\u001b[0;34m(circuit, num_folds_mask, squash_moments)\u001b[0m\n\u001b[1;32m    508\u001b[0m     \u001b[0mReturns\u001b[0m\u001b[0;34m:\u001b[0m \u001b[0mThe\u001b[0m \u001b[0mfolded\u001b[0m \u001b[0mquantum\u001b[0m \u001b[0mcircuit\u001b[0m\u001b[0;34m.\u001b[0m\u001b[0;34m\u001b[0m\u001b[0;34m\u001b[0m\u001b[0m\n\u001b[1;32m    509\u001b[0m     \"\"\"\n\u001b[0;32m--> 510\u001b[0;31m     \u001b[0m_check_foldable\u001b[0m\u001b[0;34m(\u001b[0m\u001b[0mcircuit\u001b[0m\u001b[0;34m)\u001b[0m\u001b[0;34m\u001b[0m\u001b[0;34m\u001b[0m\u001b[0m\n\u001b[0m\u001b[1;32m    511\u001b[0m     \u001b[0mcirc_copy\u001b[0m \u001b[0;34m=\u001b[0m \u001b[0mdeepcopy\u001b[0m\u001b[0;34m(\u001b[0m\u001b[0mcircuit\u001b[0m\u001b[0;34m)\u001b[0m\u001b[0;34m\u001b[0m\u001b[0;34m\u001b[0m\u001b[0m\n\u001b[1;32m    512\u001b[0m     \u001b[0mmeasurements\u001b[0m \u001b[0;34m=\u001b[0m \u001b[0m_pop_measurements\u001b[0m\u001b[0;34m(\u001b[0m\u001b[0mcirc_copy\u001b[0m\u001b[0;34m)\u001b[0m\u001b[0;34m\u001b[0m\u001b[0;34m\u001b[0m\u001b[0m\n",
      "\u001b[0;32m~/github/mitiq/mitiq/zne/scaling/folding.py\u001b[0m in \u001b[0;36m_check_foldable\u001b[0;34m(circuit)\u001b[0m\n\u001b[1;32m    102\u001b[0m \u001b[0;34m\u001b[0m\u001b[0m\n\u001b[1;32m    103\u001b[0m     \u001b[0;32mif\u001b[0m \u001b[0;32mnot\u001b[0m \u001b[0mhas_unitary\u001b[0m\u001b[0;34m(\u001b[0m\u001b[0mcircuit\u001b[0m\u001b[0;34m)\u001b[0m\u001b[0;34m:\u001b[0m\u001b[0;34m\u001b[0m\u001b[0;34m\u001b[0m\u001b[0m\n\u001b[0;32m--> 104\u001b[0;31m         raise UnfoldableCircuitError(\n\u001b[0m\u001b[1;32m    105\u001b[0m             \u001b[0;34m\"Circuit contains non-unitary channels which are not terminal \"\u001b[0m\u001b[0;34m\u001b[0m\u001b[0;34m\u001b[0m\u001b[0m\n\u001b[1;32m    106\u001b[0m             \u001b[0;34m\"measurements and cannot be folded.\"\u001b[0m\u001b[0;34m\u001b[0m\u001b[0;34m\u001b[0m\u001b[0m\n",
      "\u001b[0;31mUnfoldableCircuitError\u001b[0m: Circuit contains non-unitary channels which are not terminal measurements and cannot be folded."
     ]
    }
   ],
   "source": [
    "\"\"\"Use ZNE to compute the energy landscape.\"\"\"\n",
    "from mitiq.zne.inference import LinearFactory\n",
    "from mitiq.zne.inference import PolyFactory\n",
    "\n",
    "lfac = LinearFactory(scale_factors=[1., 1.5, 2., 2.5, 3.])\n",
    "pfac = mitiq.zne.inference.PolyFactory(order=2, scale_factors=[1., 1.5, 2., 2.5, 3., 3.5, 4., 4.5, 5., 5.5, 6.])\n",
    "\n",
    "all_mitigated = []\n",
    "\n",
    "for p in pvals[1:]:\n",
    "    mitigated = []\n",
    "    for theta in thetas:\n",
    "\n",
    "        def executor(circuit: cirq.Circuit):\n",
    "            return energy(circuit, radius_index=0, theta=theta, depo_noise_strength=p)\n",
    "\n",
    "        zne = mitiq.zne.execute_with_zne(\n",
    "            ansatz, executor, factory=pfac, scale_noise=mitiq.zne.scaling.fold_gates_at_random, num_to_average=1\n",
    "        )\n",
    "        mitigated.append(zne)\n",
    "    all_mitigated.append(mitigated)"
   ]
  },
  {
   "cell_type": "code",
   "execution_count": 18,
   "metadata": {
    "scrolled": false
   },
   "outputs": [
    {
     "name": "stderr",
     "output_type": "stream",
     "text": [
      "WARNING - No handles with labels found to put in legend.\n"
     ]
    },
    {
     "ename": "IndexError",
     "evalue": "list index out of range",
     "output_type": "error",
     "traceback": [
      "\u001b[0;31m---------------------------------------------------------------------------\u001b[0m",
      "\u001b[0;31mIndexError\u001b[0m                                Traceback (most recent call last)",
      "\u001b[0;32m<ipython-input-18-4a565d294dec>\u001b[0m in \u001b[0;36m<module>\u001b[0;34m\u001b[0m\n\u001b[1;32m     27\u001b[0m plt.plot(\n\u001b[1;32m     28\u001b[0m         \u001b[0mthetas\u001b[0m\u001b[0;34m,\u001b[0m\u001b[0;34m\u001b[0m\u001b[0;34m\u001b[0m\u001b[0m\n\u001b[0;32m---> 29\u001b[0;31m         \u001b[0mall_energies\u001b[0m\u001b[0;34m[\u001b[0m\u001b[0;36m0\u001b[0m\u001b[0;34m]\u001b[0m\u001b[0;34m,\u001b[0m\u001b[0;34m\u001b[0m\u001b[0;34m\u001b[0m\u001b[0m\n\u001b[0m\u001b[1;32m     30\u001b[0m         \u001b[0;34m\"--s\"\u001b[0m\u001b[0;34m,\u001b[0m\u001b[0;34m\u001b[0m\u001b[0;34m\u001b[0m\u001b[0m\n\u001b[1;32m     31\u001b[0m         \u001b[0mlw\u001b[0m\u001b[0;34m=\u001b[0m\u001b[0;36m3\u001b[0m\u001b[0;34m,\u001b[0m\u001b[0;34m\u001b[0m\u001b[0;34m\u001b[0m\u001b[0m\n",
      "\u001b[0;31mIndexError\u001b[0m: list index out of range"
     ]
    }
   ],
   "source": [
    "\"\"\"Plotting.\"\"\"\n",
    "plt.rcParams.update({\"font.family\": \"serif\", \"font.size\": 14, \"font.weight\": \"bold\"})\n",
    "plt.figure(figsize=(15, 5))\n",
    "\n",
    "colors = [\"blue\", \"orange\", \"green\", \"red\", \"purple\", \"brown\"]\n",
    "\n",
    "plt.subplot(121)\n",
    "plt.title(\"Unmitigated\")\n",
    "for i in range(len(all_energies)):\n",
    "    plt.plot(\n",
    "        thetas,\n",
    "        all_energies[i], \n",
    "        \"--s\", \n",
    "        lw=3, \n",
    "        markersize=10,\n",
    "        markeredgecolor=\"black\",\n",
    "        alpha=0.6, \n",
    "        color=colors[i],\n",
    "        label=\"$p = %0.2f$\" % pvals[i]\n",
    "    )\n",
    "plt.xlabel(r\"$\\theta$\");\n",
    "plt.ylabel(r\"$E(\\theta)$\");\n",
    "plt.legend();\n",
    "\n",
    "plt.subplot(122)\n",
    "plt.title(\"Mitigated\")\n",
    "plt.plot(\n",
    "        thetas,\n",
    "        all_energies[0], \n",
    "        \"--s\", \n",
    "        lw=3, \n",
    "        markersize=10,\n",
    "        markeredgecolor=\"black\",\n",
    "        alpha=0.6, \n",
    "        color=colors[0]\n",
    "    )\n",
    "for i in range(len(all_mitigated)):\n",
    "    plt.plot(\n",
    "        thetas,\n",
    "        all_mitigated[i], \n",
    "        \"--o\", \n",
    "        lw=3, \n",
    "        markersize=10,\n",
    "        markeredgecolor=\"black\",\n",
    "        alpha=0.6,\n",
    "        color=colors[i + 1]\n",
    "    )\n",
    "\n",
    "\n",
    "plt.xlabel(r\"$\\theta$\");\n",
    "plt.tight_layout();\n",
    "plt.show()\n",
    "plt.close()"
   ]
  },
  {
   "cell_type": "code",
   "execution_count": 22,
   "metadata": {},
   "outputs": [
    {
     "ename": "UnfoldableCircuitError",
     "evalue": "Circuit contains non-unitary channels which are not terminal measurements and cannot be folded.",
     "output_type": "error",
     "traceback": [
      "\u001b[0;31m---------------------------------------------------------------------------\u001b[0m",
      "\u001b[0;31mUnfoldableCircuitError\u001b[0m                    Traceback (most recent call last)",
      "\u001b[0;32m<ipython-input-22-ba58cf836691>\u001b[0m in \u001b[0;36m<module>\u001b[0;34m\u001b[0m\n\u001b[1;32m     13\u001b[0m             \u001b[0;32mreturn\u001b[0m \u001b[0menergy\u001b[0m\u001b[0;34m(\u001b[0m\u001b[0mcircuit\u001b[0m\u001b[0;34m,\u001b[0m \u001b[0mradius_index\u001b[0m\u001b[0;34m=\u001b[0m\u001b[0;36m0\u001b[0m\u001b[0;34m,\u001b[0m \u001b[0mtheta\u001b[0m\u001b[0;34m=\u001b[0m\u001b[0mtheta\u001b[0m\u001b[0;34m,\u001b[0m \u001b[0mdepo_noise_strength\u001b[0m\u001b[0;34m=\u001b[0m\u001b[0mp\u001b[0m\u001b[0;34m)\u001b[0m\u001b[0;34m\u001b[0m\u001b[0;34m\u001b[0m\u001b[0m\n\u001b[1;32m     14\u001b[0m \u001b[0;34m\u001b[0m\u001b[0m\n\u001b[0;32m---> 15\u001b[0;31m         zne = mitiq.zne.execute_with_zne(\n\u001b[0m\u001b[1;32m     16\u001b[0m             \u001b[0mansatz\u001b[0m\u001b[0;34m,\u001b[0m \u001b[0mexecutor\u001b[0m\u001b[0;34m,\u001b[0m \u001b[0mfactory\u001b[0m\u001b[0;34m=\u001b[0m\u001b[0mpfac\u001b[0m\u001b[0;34m,\u001b[0m \u001b[0mscale_noise\u001b[0m\u001b[0;34m=\u001b[0m\u001b[0mmitiq\u001b[0m\u001b[0;34m.\u001b[0m\u001b[0mzne\u001b[0m\u001b[0;34m.\u001b[0m\u001b[0mscaling\u001b[0m\u001b[0;34m.\u001b[0m\u001b[0mfold_gates_at_random\u001b[0m\u001b[0;34m,\u001b[0m \u001b[0mnum_to_average\u001b[0m\u001b[0;34m=\u001b[0m\u001b[0;36m5\u001b[0m\u001b[0;34m\u001b[0m\u001b[0;34m\u001b[0m\u001b[0m\n\u001b[1;32m     17\u001b[0m         )\n",
      "\u001b[0;32m~/github/mitiq/mitiq/zne/zne.py\u001b[0m in \u001b[0;36mexecute_with_zne\u001b[0;34m(qp, executor, factory, scale_noise, num_to_average)\u001b[0m\n\u001b[1;32m     60\u001b[0m         \u001b[0;32mraise\u001b[0m \u001b[0mValueError\u001b[0m\u001b[0;34m(\u001b[0m\u001b[0;34m\"Argument `num_to_average` must be a positive int.\"\u001b[0m\u001b[0;34m)\u001b[0m\u001b[0;34m\u001b[0m\u001b[0;34m\u001b[0m\u001b[0m\n\u001b[1;32m     61\u001b[0m \u001b[0;34m\u001b[0m\u001b[0m\n\u001b[0;32m---> 62\u001b[0;31m     \u001b[0;32mreturn\u001b[0m \u001b[0mfactory\u001b[0m\u001b[0;34m.\u001b[0m\u001b[0mrun\u001b[0m\u001b[0;34m(\u001b[0m\u001b[0mqp\u001b[0m\u001b[0;34m,\u001b[0m \u001b[0mexecutor\u001b[0m\u001b[0;34m,\u001b[0m \u001b[0mscale_noise\u001b[0m\u001b[0;34m,\u001b[0m \u001b[0mint\u001b[0m\u001b[0;34m(\u001b[0m\u001b[0mnum_to_average\u001b[0m\u001b[0;34m)\u001b[0m\u001b[0;34m)\u001b[0m\u001b[0;34m.\u001b[0m\u001b[0mreduce\u001b[0m\u001b[0;34m(\u001b[0m\u001b[0;34m)\u001b[0m\u001b[0;34m\u001b[0m\u001b[0;34m\u001b[0m\u001b[0m\n\u001b[0m\u001b[1;32m     63\u001b[0m \u001b[0;34m\u001b[0m\u001b[0m\n\u001b[1;32m     64\u001b[0m \u001b[0;34m\u001b[0m\u001b[0m\n",
      "\u001b[0;32m~/github/mitiq/mitiq/zne/inference.py\u001b[0m in \u001b[0;36mrun\u001b[0;34m(self, qp, executor, scale_noise, num_to_average)\u001b[0m\n\u001b[1;32m    540\u001b[0m \u001b[0;34m\u001b[0m\u001b[0m\n\u001b[1;32m    541\u001b[0m         \u001b[0;31m# Get all noise-scaled circuits to run\u001b[0m\u001b[0;34m\u001b[0m\u001b[0;34m\u001b[0m\u001b[0;34m\u001b[0m\u001b[0m\n\u001b[0;32m--> 542\u001b[0;31m         \u001b[0mto_run\u001b[0m \u001b[0;34m=\u001b[0m \u001b[0mself\u001b[0m\u001b[0;34m.\u001b[0m\u001b[0m_generate_circuits\u001b[0m\u001b[0;34m(\u001b[0m\u001b[0mqp\u001b[0m\u001b[0;34m,\u001b[0m \u001b[0mscale_noise\u001b[0m\u001b[0;34m,\u001b[0m \u001b[0mnum_to_average\u001b[0m\u001b[0;34m)\u001b[0m\u001b[0;34m\u001b[0m\u001b[0;34m\u001b[0m\u001b[0m\n\u001b[0m\u001b[1;32m    543\u001b[0m \u001b[0;34m\u001b[0m\u001b[0m\n\u001b[1;32m    544\u001b[0m         \u001b[0;31m# Get the list of keywords associated to each circuit in \"to_run\"\u001b[0m\u001b[0;34m\u001b[0m\u001b[0;34m\u001b[0m\u001b[0;34m\u001b[0m\u001b[0m\n",
      "\u001b[0;32m~/github/mitiq/mitiq/zne/inference.py\u001b[0m in \u001b[0;36m_generate_circuits\u001b[0;34m(self, circuit, scale_noise, num_to_average)\u001b[0m\n\u001b[1;32m    603\u001b[0m         \u001b[0;32mfor\u001b[0m \u001b[0mscale_factor\u001b[0m \u001b[0;32min\u001b[0m \u001b[0mself\u001b[0m\u001b[0;34m.\u001b[0m\u001b[0mget_scale_factors\u001b[0m\u001b[0;34m(\u001b[0m\u001b[0;34m)\u001b[0m\u001b[0;34m:\u001b[0m\u001b[0;34m\u001b[0m\u001b[0;34m\u001b[0m\u001b[0m\n\u001b[1;32m    604\u001b[0m             \u001b[0;32mfor\u001b[0m \u001b[0m_\u001b[0m \u001b[0;32min\u001b[0m \u001b[0mrange\u001b[0m\u001b[0;34m(\u001b[0m\u001b[0mnum_to_average\u001b[0m\u001b[0;34m)\u001b[0m\u001b[0;34m:\u001b[0m\u001b[0;34m\u001b[0m\u001b[0;34m\u001b[0m\u001b[0m\n\u001b[0;32m--> 605\u001b[0;31m                 \u001b[0mto_run\u001b[0m\u001b[0;34m.\u001b[0m\u001b[0mappend\u001b[0m\u001b[0;34m(\u001b[0m\u001b[0mscale_noise\u001b[0m\u001b[0;34m(\u001b[0m\u001b[0mcircuit\u001b[0m\u001b[0;34m,\u001b[0m \u001b[0mscale_factor\u001b[0m\u001b[0;34m)\u001b[0m\u001b[0;34m)\u001b[0m\u001b[0;34m\u001b[0m\u001b[0;34m\u001b[0m\u001b[0m\n\u001b[0m\u001b[1;32m    606\u001b[0m         \u001b[0;32mreturn\u001b[0m \u001b[0mto_run\u001b[0m\u001b[0;34m\u001b[0m\u001b[0;34m\u001b[0m\u001b[0m\n\u001b[1;32m    607\u001b[0m \u001b[0;34m\u001b[0m\u001b[0m\n",
      "\u001b[0;32m~/github/mitiq/mitiq/interface/conversions.py\u001b[0m in \u001b[0;36mnew_scaling_function\u001b[0;34m(circuit, *args, **kwargs)\u001b[0m\n\u001b[1;32m    221\u001b[0m         \u001b[0mcircuit\u001b[0m\u001b[0;34m:\u001b[0m \u001b[0mQPROGRAM\u001b[0m\u001b[0;34m,\u001b[0m \u001b[0;34m*\u001b[0m\u001b[0margs\u001b[0m\u001b[0;34m:\u001b[0m \u001b[0mAny\u001b[0m\u001b[0;34m,\u001b[0m \u001b[0;34m**\u001b[0m\u001b[0mkwargs\u001b[0m\u001b[0;34m:\u001b[0m \u001b[0mAny\u001b[0m\u001b[0;34m\u001b[0m\u001b[0;34m\u001b[0m\u001b[0m\n\u001b[1;32m    222\u001b[0m     ) -> QPROGRAM:\n\u001b[0;32m--> 223\u001b[0;31m         scaled_circuit = atomic_converter(noise_scaling_function)(\n\u001b[0m\u001b[1;32m    224\u001b[0m             \u001b[0mcircuit\u001b[0m\u001b[0;34m,\u001b[0m \u001b[0;34m*\u001b[0m\u001b[0margs\u001b[0m\u001b[0;34m,\u001b[0m \u001b[0;34m**\u001b[0m\u001b[0mkwargs\u001b[0m\u001b[0;34m\u001b[0m\u001b[0;34m\u001b[0m\u001b[0m\n\u001b[1;32m    225\u001b[0m         )\n",
      "\u001b[0;32m~/github/mitiq/mitiq/interface/conversions.py\u001b[0m in \u001b[0;36mqprogram_modifier\u001b[0;34m(circuit, *args, **kwargs)\u001b[0m\n\u001b[1;32m    170\u001b[0m \u001b[0;34m\u001b[0m\u001b[0m\n\u001b[1;32m    171\u001b[0m         \u001b[0;31m# Modify the Cirq circuit.\u001b[0m\u001b[0;34m\u001b[0m\u001b[0;34m\u001b[0m\u001b[0;34m\u001b[0m\u001b[0m\n\u001b[0;32m--> 172\u001b[0;31m         \u001b[0mscaled_circuit\u001b[0m \u001b[0;34m=\u001b[0m \u001b[0mcirq_circuit_modifier\u001b[0m\u001b[0;34m(\u001b[0m\u001b[0mmitiq_circuit\u001b[0m\u001b[0;34m,\u001b[0m \u001b[0;34m*\u001b[0m\u001b[0margs\u001b[0m\u001b[0;34m,\u001b[0m \u001b[0;34m**\u001b[0m\u001b[0mkwargs\u001b[0m\u001b[0;34m)\u001b[0m\u001b[0;34m\u001b[0m\u001b[0;34m\u001b[0m\u001b[0m\n\u001b[0m\u001b[1;32m    173\u001b[0m \u001b[0;34m\u001b[0m\u001b[0m\n\u001b[1;32m    174\u001b[0m         \u001b[0;32mif\u001b[0m \u001b[0mkwargs\u001b[0m\u001b[0;34m.\u001b[0m\u001b[0mget\u001b[0m\u001b[0;34m(\u001b[0m\u001b[0;34m\"return_mitiq\"\u001b[0m\u001b[0;34m)\u001b[0m \u001b[0;32mis\u001b[0m \u001b[0;32mTrue\u001b[0m\u001b[0;34m:\u001b[0m\u001b[0;34m\u001b[0m\u001b[0;34m\u001b[0m\u001b[0m\n",
      "\u001b[0;32m~/github/mitiq/mitiq/zne/scaling/folding.py\u001b[0m in \u001b[0;36mfold_gates_at_random\u001b[0;34m(circuit, scale_factor, seed, **kwargs)\u001b[0m\n\u001b[1;32m    768\u001b[0m     )\n\u001b[1;32m    769\u001b[0m \u001b[0;34m\u001b[0m\u001b[0m\n\u001b[0;32m--> 770\u001b[0;31m     return _apply_fold_mask(\n\u001b[0m\u001b[1;32m    771\u001b[0m         \u001b[0mcircuit\u001b[0m\u001b[0;34m,\u001b[0m\u001b[0;34m\u001b[0m\u001b[0;34m\u001b[0m\u001b[0m\n\u001b[1;32m    772\u001b[0m         \u001b[0mnum_folds_mask\u001b[0m\u001b[0;34m,\u001b[0m\u001b[0;34m\u001b[0m\u001b[0;34m\u001b[0m\u001b[0m\n",
      "\u001b[0;32m~/github/mitiq/mitiq/zne/scaling/folding.py\u001b[0m in \u001b[0;36m_apply_fold_mask\u001b[0;34m(circuit, num_folds_mask, squash_moments)\u001b[0m\n\u001b[1;32m    508\u001b[0m     \u001b[0mReturns\u001b[0m\u001b[0;34m:\u001b[0m \u001b[0mThe\u001b[0m \u001b[0mfolded\u001b[0m \u001b[0mquantum\u001b[0m \u001b[0mcircuit\u001b[0m\u001b[0;34m.\u001b[0m\u001b[0;34m\u001b[0m\u001b[0;34m\u001b[0m\u001b[0m\n\u001b[1;32m    509\u001b[0m     \"\"\"\n\u001b[0;32m--> 510\u001b[0;31m     \u001b[0m_check_foldable\u001b[0m\u001b[0;34m(\u001b[0m\u001b[0mcircuit\u001b[0m\u001b[0;34m)\u001b[0m\u001b[0;34m\u001b[0m\u001b[0;34m\u001b[0m\u001b[0m\n\u001b[0m\u001b[1;32m    511\u001b[0m     \u001b[0mcirc_copy\u001b[0m \u001b[0;34m=\u001b[0m \u001b[0mdeepcopy\u001b[0m\u001b[0;34m(\u001b[0m\u001b[0mcircuit\u001b[0m\u001b[0;34m)\u001b[0m\u001b[0;34m\u001b[0m\u001b[0;34m\u001b[0m\u001b[0m\n\u001b[1;32m    512\u001b[0m     \u001b[0mmeasurements\u001b[0m \u001b[0;34m=\u001b[0m \u001b[0m_pop_measurements\u001b[0m\u001b[0;34m(\u001b[0m\u001b[0mcirc_copy\u001b[0m\u001b[0;34m)\u001b[0m\u001b[0;34m\u001b[0m\u001b[0;34m\u001b[0m\u001b[0m\n",
      "\u001b[0;32m~/github/mitiq/mitiq/zne/scaling/folding.py\u001b[0m in \u001b[0;36m_check_foldable\u001b[0;34m(circuit)\u001b[0m\n\u001b[1;32m    102\u001b[0m \u001b[0;34m\u001b[0m\u001b[0m\n\u001b[1;32m    103\u001b[0m     \u001b[0;32mif\u001b[0m \u001b[0;32mnot\u001b[0m \u001b[0mhas_unitary\u001b[0m\u001b[0;34m(\u001b[0m\u001b[0mcircuit\u001b[0m\u001b[0;34m)\u001b[0m\u001b[0;34m:\u001b[0m\u001b[0;34m\u001b[0m\u001b[0;34m\u001b[0m\u001b[0m\n\u001b[0;32m--> 104\u001b[0;31m         raise UnfoldableCircuitError(\n\u001b[0m\u001b[1;32m    105\u001b[0m             \u001b[0;34m\"Circuit contains non-unitary channels which are not terminal \"\u001b[0m\u001b[0;34m\u001b[0m\u001b[0;34m\u001b[0m\u001b[0m\n\u001b[1;32m    106\u001b[0m             \u001b[0;34m\"measurements and cannot be folded.\"\u001b[0m\u001b[0;34m\u001b[0m\u001b[0;34m\u001b[0m\u001b[0m\n",
      "\u001b[0;31mUnfoldableCircuitError\u001b[0m: Circuit contains non-unitary channels which are not terminal measurements and cannot be folded."
     ]
    }
   ],
   "source": [
    "\"\"\"Use ZNE to compute the energy landscape.\"\"\"\n",
    "\n",
    "lfac = LinearFactory(scale_factors=[1., 1.5, 2., 2.5, 3.])\n",
    "pfac = PolyFactory(order=2, scale_factors=[1., 1.5, 2., 2.5, 3., 3.5, 4., 4.5, 5., 5.5, 6.])\n",
    "\n",
    "all_mitigated = []\n",
    "\n",
    "for p in pvals[1:]:\n",
    "    mitigated = []\n",
    "    for theta in thetas:\n",
    "\n",
    "        def executor(circuit: cirq.Circuit):\n",
    "            return energy(circuit, radius_index=0, theta=theta, depo_noise_strength=p)\n",
    "\n",
    "        zne = mitiq.zne.execute_with_zne(\n",
    "            ansatz, executor, factory=pfac, scale_noise=mitiq.zne.scaling.fold_gates_at_random, num_to_average=5\n",
    "        )\n",
    "        mitigated.append(zne)\n",
    "    all_mitigated.append(mitigated)"
   ]
  },
  {
   "cell_type": "code",
   "execution_count": 23,
   "metadata": {},
   "outputs": [
    {
     "name": "stderr",
     "output_type": "stream",
     "text": [
      "WARNING - No handles with labels found to put in legend.\n"
     ]
    },
    {
     "ename": "IndexError",
     "evalue": "list index out of range",
     "output_type": "error",
     "traceback": [
      "\u001b[0;31m---------------------------------------------------------------------------\u001b[0m",
      "\u001b[0;31mIndexError\u001b[0m                                Traceback (most recent call last)",
      "\u001b[0;32m<ipython-input-23-4a565d294dec>\u001b[0m in \u001b[0;36m<module>\u001b[0;34m\u001b[0m\n\u001b[1;32m     27\u001b[0m plt.plot(\n\u001b[1;32m     28\u001b[0m         \u001b[0mthetas\u001b[0m\u001b[0;34m,\u001b[0m\u001b[0;34m\u001b[0m\u001b[0;34m\u001b[0m\u001b[0m\n\u001b[0;32m---> 29\u001b[0;31m         \u001b[0mall_energies\u001b[0m\u001b[0;34m[\u001b[0m\u001b[0;36m0\u001b[0m\u001b[0;34m]\u001b[0m\u001b[0;34m,\u001b[0m\u001b[0;34m\u001b[0m\u001b[0;34m\u001b[0m\u001b[0m\n\u001b[0m\u001b[1;32m     30\u001b[0m         \u001b[0;34m\"--s\"\u001b[0m\u001b[0;34m,\u001b[0m\u001b[0;34m\u001b[0m\u001b[0;34m\u001b[0m\u001b[0m\n\u001b[1;32m     31\u001b[0m         \u001b[0mlw\u001b[0m\u001b[0;34m=\u001b[0m\u001b[0;36m3\u001b[0m\u001b[0;34m,\u001b[0m\u001b[0;34m\u001b[0m\u001b[0;34m\u001b[0m\u001b[0m\n",
      "\u001b[0;31mIndexError\u001b[0m: list index out of range"
     ]
    }
   ],
   "source": [
    "\"\"\"Plotting.\"\"\"\n",
    "plt.rcParams.update({\"font.family\": \"serif\", \"font.size\": 14, \"font.weight\": \"bold\"})\n",
    "plt.figure(figsize=(15, 5))\n",
    "\n",
    "colors = [\"blue\", \"orange\", \"green\", \"red\", \"purple\", \"brown\"]\n",
    "\n",
    "plt.subplot(121)\n",
    "plt.title(\"Unmitigated\")\n",
    "for i in range(len(all_energies)):\n",
    "    plt.plot(\n",
    "        thetas,\n",
    "        all_energies[i], \n",
    "        \"--s\", \n",
    "        lw=3, \n",
    "        markersize=10,\n",
    "        markeredgecolor=\"black\",\n",
    "        alpha=0.6, \n",
    "        color=colors[i],\n",
    "        label=\"$p = %0.2f$\" % pvals[i]\n",
    "    )\n",
    "plt.xlabel(r\"$\\theta$\");\n",
    "plt.ylabel(r\"$E(\\theta)$\");\n",
    "plt.legend();\n",
    "\n",
    "plt.subplot(122)\n",
    "plt.title(\"Mitigated\")\n",
    "plt.plot(\n",
    "        thetas,\n",
    "        all_energies[0], \n",
    "        \"--s\", \n",
    "        lw=3, \n",
    "        markersize=10,\n",
    "        markeredgecolor=\"black\",\n",
    "        alpha=0.6, \n",
    "        color=colors[0]\n",
    "    )\n",
    "for i in range(len(all_mitigated)):\n",
    "    plt.plot(\n",
    "        thetas,\n",
    "        all_mitigated[i], \n",
    "        \"--o\", \n",
    "        lw=3, \n",
    "        markersize=10,\n",
    "        markeredgecolor=\"black\",\n",
    "        alpha=0.6,\n",
    "        color=colors[i + 1]\n",
    "    )\n",
    "\n",
    "\n",
    "plt.xlabel(r\"$\\theta$\");\n",
    "plt.tight_layout();\n",
    "plt.show()\n",
    "plt.close()"
   ]
  },
  {
   "cell_type": "markdown",
   "metadata": {},
   "source": [
    "# Potential energy surface"
   ]
  },
  {
   "cell_type": "markdown",
   "metadata": {},
   "source": [
    "Now we vary the radius $r$ and compute the minimum energy $\\min_\\theta E(\\theta, r)$ at each value of $r$. This produces the potential energy surface $E^{\\text{opt}}(r)$."
   ]
  },
  {
   "cell_type": "code",
   "execution_count": 24,
   "metadata": {
    "scrolled": false
   },
   "outputs": [
    {
     "name": "stdout",
     "output_type": "stream",
     "text": [
      "\n",
      "Status: p = 0.0\n",
      "\tStatus: radius = 0.2\r"
     ]
    },
    {
     "ename": "TypeError",
     "evalue": "_resolve_parameters_() missing 1 required positional argument: 'recursive'",
     "output_type": "error",
     "traceback": [
      "\u001b[0;31m---------------------------------------------------------------------------\u001b[0m",
      "\u001b[0;31mTypeError\u001b[0m                                 Traceback (most recent call last)",
      "\u001b[0;32m<ipython-input-24-4b2d92d40885>\u001b[0m in \u001b[0;36m<module>\u001b[0;34m\u001b[0m\n\u001b[1;32m     18\u001b[0m             \u001b[0;32mreturn\u001b[0m \u001b[0menergy\u001b[0m\u001b[0;34m(\u001b[0m\u001b[0mansatz\u001b[0m\u001b[0;34m,\u001b[0m \u001b[0mradius_index\u001b[0m\u001b[0;34m=\u001b[0m\u001b[0mi\u001b[0m\u001b[0;34m,\u001b[0m \u001b[0mtheta\u001b[0m\u001b[0;34m=\u001b[0m\u001b[0mtheta\u001b[0m\u001b[0;34m,\u001b[0m \u001b[0mdepo_noise_strength\u001b[0m\u001b[0;34m=\u001b[0m\u001b[0mpval\u001b[0m\u001b[0;34m)\u001b[0m\u001b[0;34m\u001b[0m\u001b[0;34m\u001b[0m\u001b[0m\n\u001b[1;32m     19\u001b[0m \u001b[0;34m\u001b[0m\u001b[0m\n\u001b[0;32m---> 20\u001b[0;31m         \u001b[0mres\u001b[0m \u001b[0;34m=\u001b[0m \u001b[0mbrute\u001b[0m\u001b[0;34m(\u001b[0m\u001b[0mobj\u001b[0m\u001b[0;34m,\u001b[0m \u001b[0mranges\u001b[0m\u001b[0;34m=\u001b[0m\u001b[0;34m[\u001b[0m\u001b[0;34m(\u001b[0m\u001b[0;36m0\u001b[0m\u001b[0;34m,\u001b[0m \u001b[0;36m2\u001b[0m \u001b[0;34m*\u001b[0m \u001b[0mnp\u001b[0m\u001b[0;34m.\u001b[0m\u001b[0mpi\u001b[0m\u001b[0;34m)\u001b[0m\u001b[0;34m]\u001b[0m\u001b[0;34m,\u001b[0m \u001b[0mNs\u001b[0m\u001b[0;34m=\u001b[0m\u001b[0;36m10\u001b[0m\u001b[0;34m,\u001b[0m \u001b[0mfinish\u001b[0m\u001b[0;34m=\u001b[0m\u001b[0;32mNone\u001b[0m\u001b[0;34m,\u001b[0m \u001b[0mfull_output\u001b[0m\u001b[0;34m=\u001b[0m\u001b[0;32mTrue\u001b[0m\u001b[0;34m)\u001b[0m\u001b[0;34m\u001b[0m\u001b[0;34m\u001b[0m\u001b[0m\n\u001b[0m\u001b[1;32m     21\u001b[0m         \u001b[0mthese_thetas\u001b[0m\u001b[0;34m.\u001b[0m\u001b[0mappend\u001b[0m\u001b[0;34m(\u001b[0m\u001b[0mres\u001b[0m\u001b[0;34m[\u001b[0m\u001b[0;36m0\u001b[0m\u001b[0;34m]\u001b[0m\u001b[0;34m)\u001b[0m\u001b[0;34m\u001b[0m\u001b[0;34m\u001b[0m\u001b[0m\n\u001b[1;32m     22\u001b[0m         \u001b[0mthese_energies\u001b[0m\u001b[0;34m.\u001b[0m\u001b[0mappend\u001b[0m\u001b[0;34m(\u001b[0m\u001b[0mres\u001b[0m\u001b[0;34m[\u001b[0m\u001b[0;36m1\u001b[0m\u001b[0;34m]\u001b[0m\u001b[0;34m)\u001b[0m\u001b[0;34m\u001b[0m\u001b[0;34m\u001b[0m\u001b[0m\n",
      "\u001b[0;32m/opt/miniconda3/envs/mitiqdev/lib/python3.8/site-packages/scipy/optimize/optimize.py\u001b[0m in \u001b[0;36mbrute\u001b[0;34m(func, ranges, args, Ns, full_output, finish, disp, workers)\u001b[0m\n\u001b[1;32m   2925\u001b[0m     \u001b[0;31m# iterate over input arrays, possibly in parallel\u001b[0m\u001b[0;34m\u001b[0m\u001b[0;34m\u001b[0m\u001b[0;34m\u001b[0m\u001b[0m\n\u001b[1;32m   2926\u001b[0m     \u001b[0;32mwith\u001b[0m \u001b[0mMapWrapper\u001b[0m\u001b[0;34m(\u001b[0m\u001b[0mpool\u001b[0m\u001b[0;34m=\u001b[0m\u001b[0mworkers\u001b[0m\u001b[0;34m)\u001b[0m \u001b[0;32mas\u001b[0m \u001b[0mmapper\u001b[0m\u001b[0;34m:\u001b[0m\u001b[0;34m\u001b[0m\u001b[0;34m\u001b[0m\u001b[0m\n\u001b[0;32m-> 2927\u001b[0;31m         \u001b[0mJout\u001b[0m \u001b[0;34m=\u001b[0m \u001b[0mnp\u001b[0m\u001b[0;34m.\u001b[0m\u001b[0marray\u001b[0m\u001b[0;34m(\u001b[0m\u001b[0mlist\u001b[0m\u001b[0;34m(\u001b[0m\u001b[0mmapper\u001b[0m\u001b[0;34m(\u001b[0m\u001b[0mwrapped_func\u001b[0m\u001b[0;34m,\u001b[0m \u001b[0mgrid\u001b[0m\u001b[0;34m)\u001b[0m\u001b[0;34m)\u001b[0m\u001b[0;34m)\u001b[0m\u001b[0;34m\u001b[0m\u001b[0;34m\u001b[0m\u001b[0m\n\u001b[0m\u001b[1;32m   2928\u001b[0m         \u001b[0;32mif\u001b[0m \u001b[0;34m(\u001b[0m\u001b[0mN\u001b[0m \u001b[0;34m==\u001b[0m \u001b[0;36m1\u001b[0m\u001b[0;34m)\u001b[0m\u001b[0;34m:\u001b[0m\u001b[0;34m\u001b[0m\u001b[0;34m\u001b[0m\u001b[0m\n\u001b[1;32m   2929\u001b[0m             \u001b[0mgrid\u001b[0m \u001b[0;34m=\u001b[0m \u001b[0;34m(\u001b[0m\u001b[0mgrid\u001b[0m\u001b[0;34m,\u001b[0m\u001b[0;34m)\u001b[0m\u001b[0;34m\u001b[0m\u001b[0;34m\u001b[0m\u001b[0m\n",
      "\u001b[0;32m/opt/miniconda3/envs/mitiqdev/lib/python3.8/site-packages/scipy/optimize/optimize.py\u001b[0m in \u001b[0;36m__call__\u001b[0;34m(self, x)\u001b[0m\n\u001b[1;32m   2996\u001b[0m     \u001b[0;32mdef\u001b[0m \u001b[0m__call__\u001b[0m\u001b[0;34m(\u001b[0m\u001b[0mself\u001b[0m\u001b[0;34m,\u001b[0m \u001b[0mx\u001b[0m\u001b[0;34m)\u001b[0m\u001b[0;34m:\u001b[0m\u001b[0;34m\u001b[0m\u001b[0;34m\u001b[0m\u001b[0m\n\u001b[1;32m   2997\u001b[0m         \u001b[0;31m# flatten needed for one dimensional case.\u001b[0m\u001b[0;34m\u001b[0m\u001b[0;34m\u001b[0m\u001b[0;34m\u001b[0m\u001b[0m\n\u001b[0;32m-> 2998\u001b[0;31m         \u001b[0;32mreturn\u001b[0m \u001b[0mself\u001b[0m\u001b[0;34m.\u001b[0m\u001b[0mf\u001b[0m\u001b[0;34m(\u001b[0m\u001b[0mnp\u001b[0m\u001b[0;34m.\u001b[0m\u001b[0masarray\u001b[0m\u001b[0;34m(\u001b[0m\u001b[0mx\u001b[0m\u001b[0;34m)\u001b[0m\u001b[0;34m.\u001b[0m\u001b[0mflatten\u001b[0m\u001b[0;34m(\u001b[0m\u001b[0;34m)\u001b[0m\u001b[0;34m,\u001b[0m \u001b[0;34m*\u001b[0m\u001b[0mself\u001b[0m\u001b[0;34m.\u001b[0m\u001b[0margs\u001b[0m\u001b[0;34m)\u001b[0m\u001b[0;34m\u001b[0m\u001b[0;34m\u001b[0m\u001b[0m\n\u001b[0m\u001b[1;32m   2999\u001b[0m \u001b[0;34m\u001b[0m\u001b[0m\n\u001b[1;32m   3000\u001b[0m \u001b[0;34m\u001b[0m\u001b[0m\n",
      "\u001b[0;32m<ipython-input-24-4b2d92d40885>\u001b[0m in \u001b[0;36mobj\u001b[0;34m(theta)\u001b[0m\n\u001b[1;32m     16\u001b[0m \u001b[0;34m\u001b[0m\u001b[0m\n\u001b[1;32m     17\u001b[0m         \u001b[0;32mdef\u001b[0m \u001b[0mobj\u001b[0m\u001b[0;34m(\u001b[0m\u001b[0mtheta\u001b[0m\u001b[0;34m)\u001b[0m\u001b[0;34m:\u001b[0m\u001b[0;34m\u001b[0m\u001b[0;34m\u001b[0m\u001b[0m\n\u001b[0;32m---> 18\u001b[0;31m             \u001b[0;32mreturn\u001b[0m \u001b[0menergy\u001b[0m\u001b[0;34m(\u001b[0m\u001b[0mansatz\u001b[0m\u001b[0;34m,\u001b[0m \u001b[0mradius_index\u001b[0m\u001b[0;34m=\u001b[0m\u001b[0mi\u001b[0m\u001b[0;34m,\u001b[0m \u001b[0mtheta\u001b[0m\u001b[0;34m=\u001b[0m\u001b[0mtheta\u001b[0m\u001b[0;34m,\u001b[0m \u001b[0mdepo_noise_strength\u001b[0m\u001b[0;34m=\u001b[0m\u001b[0mpval\u001b[0m\u001b[0;34m)\u001b[0m\u001b[0;34m\u001b[0m\u001b[0;34m\u001b[0m\u001b[0m\n\u001b[0m\u001b[1;32m     19\u001b[0m \u001b[0;34m\u001b[0m\u001b[0m\n\u001b[1;32m     20\u001b[0m         \u001b[0mres\u001b[0m \u001b[0;34m=\u001b[0m \u001b[0mbrute\u001b[0m\u001b[0;34m(\u001b[0m\u001b[0mobj\u001b[0m\u001b[0;34m,\u001b[0m \u001b[0mranges\u001b[0m\u001b[0;34m=\u001b[0m\u001b[0;34m[\u001b[0m\u001b[0;34m(\u001b[0m\u001b[0;36m0\u001b[0m\u001b[0;34m,\u001b[0m \u001b[0;36m2\u001b[0m \u001b[0;34m*\u001b[0m \u001b[0mnp\u001b[0m\u001b[0;34m.\u001b[0m\u001b[0mpi\u001b[0m\u001b[0;34m)\u001b[0m\u001b[0;34m]\u001b[0m\u001b[0;34m,\u001b[0m \u001b[0mNs\u001b[0m\u001b[0;34m=\u001b[0m\u001b[0;36m10\u001b[0m\u001b[0;34m,\u001b[0m \u001b[0mfinish\u001b[0m\u001b[0;34m=\u001b[0m\u001b[0;32mNone\u001b[0m\u001b[0;34m,\u001b[0m \u001b[0mfull_output\u001b[0m\u001b[0;34m=\u001b[0m\u001b[0;32mTrue\u001b[0m\u001b[0;34m)\u001b[0m\u001b[0;34m\u001b[0m\u001b[0;34m\u001b[0m\u001b[0m\n",
      "\u001b[0;32m<ipython-input-7-f1ffd884394c>\u001b[0m in \u001b[0;36menergy\u001b[0;34m(ansatz, radius_index, theta, depo_noise_strength)\u001b[0m\n\u001b[1;32m     81\u001b[0m     \u001b[0mtotal\u001b[0m \u001b[0;34m=\u001b[0m \u001b[0;36m0.0\u001b[0m\u001b[0;34m\u001b[0m\u001b[0;34m\u001b[0m\u001b[0m\n\u001b[1;32m     82\u001b[0m     \u001b[0;32mfor\u001b[0m \u001b[0mterm_index\u001b[0m \u001b[0;32min\u001b[0m \u001b[0mrange\u001b[0m\u001b[0;34m(\u001b[0m\u001b[0;36m1\u001b[0m\u001b[0;34m,\u001b[0m \u001b[0;36m5\u001b[0m \u001b[0;34m+\u001b[0m \u001b[0;36m1\u001b[0m\u001b[0;34m)\u001b[0m\u001b[0;34m:\u001b[0m\u001b[0;34m\u001b[0m\u001b[0;34m\u001b[0m\u001b[0m\n\u001b[0;32m---> 83\u001b[0;31m         \u001b[0mtotal\u001b[0m \u001b[0;34m+=\u001b[0m \u001b[0mterm\u001b[0m\u001b[0;34m(\u001b[0m\u001b[0mansatz\u001b[0m\u001b[0;34m,\u001b[0m \u001b[0mradius_index\u001b[0m\u001b[0;34m,\u001b[0m \u001b[0mterm_index\u001b[0m\u001b[0;34m,\u001b[0m \u001b[0mtheta\u001b[0m\u001b[0;34m,\u001b[0m \u001b[0mdepo_noise_strength\u001b[0m\u001b[0;34m)\u001b[0m\u001b[0;34m\u001b[0m\u001b[0;34m\u001b[0m\u001b[0m\n\u001b[0m\u001b[1;32m     84\u001b[0m     \u001b[0mtotal\u001b[0m \u001b[0;34m+=\u001b[0m \u001b[0mcoeffs\u001b[0m\u001b[0;34m[\u001b[0m\u001b[0mradius_index\u001b[0m\u001b[0;34m]\u001b[0m\u001b[0;34m[\u001b[0m\u001b[0;36m0\u001b[0m\u001b[0;34m]\u001b[0m\u001b[0;34m\u001b[0m\u001b[0;34m\u001b[0m\u001b[0m\n\u001b[1;32m     85\u001b[0m     \u001b[0;32mreturn\u001b[0m \u001b[0mtotal\u001b[0m\u001b[0;34m\u001b[0m\u001b[0;34m\u001b[0m\u001b[0m\n",
      "\u001b[0;32m<ipython-input-7-f1ffd884394c>\u001b[0m in \u001b[0;36mterm\u001b[0;34m(ansatz, radius_index, term_index, theta, depo_noise_strength)\u001b[0m\n\u001b[1;32m     62\u001b[0m         \u001b[0mdepo_noise_strength\u001b[0m\u001b[0;34m:\u001b[0m \u001b[0mDepolarizing\u001b[0m \u001b[0mnoise\u001b[0m \u001b[0mstrength\u001b[0m \u001b[0mimplemented\u001b[0m \u001b[0mafter\u001b[0m \u001b[0mevery\u001b[0m \u001b[0mmoment\u001b[0m\u001b[0;34m.\u001b[0m\u001b[0;34m\u001b[0m\u001b[0;34m\u001b[0m\u001b[0m\n\u001b[1;32m     63\u001b[0m     \"\"\"\n\u001b[0;32m---> 64\u001b[0;31m     \u001b[0;32mreturn\u001b[0m \u001b[0mcoeffs\u001b[0m\u001b[0;34m[\u001b[0m\u001b[0mradius_index\u001b[0m\u001b[0;34m]\u001b[0m\u001b[0;34m[\u001b[0m\u001b[0mterm_index\u001b[0m\u001b[0;34m]\u001b[0m \u001b[0;34m*\u001b[0m \u001b[0mexpectation\u001b[0m\u001b[0;34m(\u001b[0m\u001b[0mansatz\u001b[0m\u001b[0;34m,\u001b[0m \u001b[0mterm_index\u001b[0m\u001b[0;34m,\u001b[0m \u001b[0mtheta\u001b[0m\u001b[0;34m,\u001b[0m \u001b[0mdepo_noise_strength\u001b[0m\u001b[0;34m)\u001b[0m\u001b[0;34m\u001b[0m\u001b[0;34m\u001b[0m\u001b[0m\n\u001b[0m\u001b[1;32m     65\u001b[0m \u001b[0;34m\u001b[0m\u001b[0m\n\u001b[1;32m     66\u001b[0m \u001b[0;34m\u001b[0m\u001b[0m\n",
      "\u001b[0;32m<ipython-input-7-f1ffd884394c>\u001b[0m in \u001b[0;36mexpectation\u001b[0;34m(ansatz, term_index, theta, depo_noise_strength)\u001b[0m\n\u001b[1;32m     40\u001b[0m \u001b[0;34m\u001b[0m\u001b[0m\n\u001b[1;32m     41\u001b[0m     return noisy_simulation(\n\u001b[0;32m---> 42\u001b[0;31m         \u001b[0mansatz\u001b[0m\u001b[0;34m.\u001b[0m\u001b[0m_resolve_parameters_\u001b[0m\u001b[0;34m(\u001b[0m\u001b[0;34m{\u001b[0m\u001b[0;34m\"theta\"\u001b[0m\u001b[0;34m:\u001b[0m \u001b[0mtheta\u001b[0m\u001b[0;34m}\u001b[0m\u001b[0;34m)\u001b[0m\u001b[0;34m,\u001b[0m\u001b[0;34m\u001b[0m\u001b[0;34m\u001b[0m\u001b[0m\n\u001b[0m\u001b[1;32m     43\u001b[0m         \u001b[0mnoise\u001b[0m\u001b[0;34m=\u001b[0m\u001b[0mdepo_noise_strength\u001b[0m\u001b[0;34m,\u001b[0m\u001b[0;34m\u001b[0m\u001b[0;34m\u001b[0m\u001b[0m\n\u001b[1;32m     44\u001b[0m         \u001b[0mobs\u001b[0m\u001b[0;34m=\u001b[0m\u001b[0mobservables\u001b[0m\u001b[0;34m[\u001b[0m\u001b[0mterm_index\u001b[0m\u001b[0;34m]\u001b[0m\u001b[0;34m\u001b[0m\u001b[0;34m\u001b[0m\u001b[0m\n",
      "\u001b[0;31mTypeError\u001b[0m: _resolve_parameters_() missing 1 required positional argument: 'recursive'"
     ]
    }
   ],
   "source": [
    "\"\"\"Optimize the energy at each radius.\"\"\"\n",
    "# Channel strengths to consider\n",
    "pvals = (0.00, 0.02, 0.04, 0.06) #, 0.08, 0.10)\n",
    "\n",
    "# Lists to store output\n",
    "best_thetas = []\n",
    "best_energies = []\n",
    "\n",
    "# Do the minimization at each channel strength at each radius\n",
    "for pval in pvals:\n",
    "    print(f\"\\nStatus: p = {pval}\")\n",
    "    these_thetas = []\n",
    "    these_energies = []\n",
    "    for i in range(len(radii)):\n",
    "        print(f\"\\tStatus: radius = {radii[i]}\", end=\"\\r\")\n",
    "        \n",
    "        def obj(theta):\n",
    "            return energy(ansatz, radius_index=i, theta=theta, depo_noise_strength=pval)\n",
    "        \n",
    "        res = brute(obj, ranges=[(0, 2 * np.pi)], Ns=10, finish=None, full_output=True)\n",
    "        these_thetas.append(res[0])\n",
    "        these_energies.append(res[1])\n",
    "        \n",
    "    best_thetas.append(these_thetas)\n",
    "    best_energies.append(these_energies)"
   ]
  },
  {
   "cell_type": "code",
   "execution_count": 25,
   "metadata": {
    "scrolled": false
   },
   "outputs": [
    {
     "name": "stderr",
     "output_type": "stream",
     "text": [
      "WARNING - No handles with labels found to put in legend.\n"
     ]
    },
    {
     "data": {
      "image/png": "[encoded data removed]",
      "text/plain": [
       "<Figure size 1500x500 with 2 Axes>"
      ]
     },
     "metadata": {},
     "output_type": "display_data"
    },
    {
     "data": {
      "image/png": "[encoded data removed]",
      "text/plain": [
       "<Figure size 1500x500 with 2 Axes>"
      ]
     },
     "metadata": {},
     "output_type": "display_data"
    },
    {
     "data": {
      "image/png": "[encoded data removed]",
      "text/plain": [
       "<Figure size 1000x500 with 1 Axes>"
      ]
     },
     "metadata": {},
     "output_type": "display_data"
    }
   ],
   "source": [
    "\"\"\"Plotting.\"\"\"\n",
    "plt.rcParams.update({\"font.family\": \"serif\", \"font.size\": 14, \"font.weight\": \"bold\"})\n",
    "plt.figure(figsize=(10, 5))\n",
    "\n",
    "colors = [\"blue\", \"orange\", \"green\", \"red\", \"purple\", \"brown\"]\n",
    "\n",
    "for pval, opt_energies in zip(pvals, best_energies):\n",
    "    plt.plot(\n",
    "        radii, \n",
    "        opt_energies, \n",
    "        \"--s\", \n",
    "        lw=2, \n",
    "        markersize=10,\n",
    "        markeredgecolor=\"black\",\n",
    "        alpha=0.7,\n",
    "        label=f\"$p = {pval}$\"\n",
    "    )\n",
    "\n",
    "plt.xlabel(\"Atomic distance (Angstroms)\");\n",
    "plt.ylabel(\"Energy (Hartree)\");\n",
    "plt.legend();\n",
    "plt.show()\n",
    "plt.close()"
   ]
  },
  {
   "cell_type": "markdown",
   "metadata": {},
   "source": [
    "## Zero-noise extrapolation"
   ]
  },
  {
   "cell_type": "code",
   "execution_count": 26,
   "metadata": {},
   "outputs": [
    {
     "name": "stdout",
     "output_type": "stream",
     "text": [
      "\n",
      "Status: p = 0.02\n",
      "\tStatus: radius = 0.2\r"
     ]
    },
    {
     "ename": "AttributeError",
     "evalue": "module 'mitiq' has no attribute 'execute_with_zne'",
     "output_type": "error",
     "traceback": [
      "\u001b[0;31m---------------------------------------------------------------------------\u001b[0m",
      "\u001b[0;31mAttributeError\u001b[0m                            Traceback (most recent call last)",
      "\u001b[0;32m<ipython-input-26-60dc9c8d5246>\u001b[0m in \u001b[0;36m<module>\u001b[0;34m\u001b[0m\n\u001b[1;32m     24\u001b[0m             \u001b[0;32mreturn\u001b[0m \u001b[0mmitiq\u001b[0m\u001b[0;34m.\u001b[0m\u001b[0mexecute_with_zne\u001b[0m\u001b[0;34m(\u001b[0m\u001b[0mansatz\u001b[0m\u001b[0;34m,\u001b[0m \u001b[0mexecutor\u001b[0m\u001b[0;34m,\u001b[0m \u001b[0mfactory\u001b[0m\u001b[0;34m=\u001b[0m\u001b[0mpfac\u001b[0m\u001b[0;34m,\u001b[0m \u001b[0mnum_to_average\u001b[0m\u001b[0;34m=\u001b[0m\u001b[0;36m5\u001b[0m\u001b[0;34m)\u001b[0m\u001b[0;34m\u001b[0m\u001b[0;34m\u001b[0m\u001b[0m\n\u001b[1;32m     25\u001b[0m \u001b[0;34m\u001b[0m\u001b[0m\n\u001b[0;32m---> 26\u001b[0;31m         \u001b[0mres\u001b[0m \u001b[0;34m=\u001b[0m \u001b[0mbrute\u001b[0m\u001b[0;34m(\u001b[0m\u001b[0mobj\u001b[0m\u001b[0;34m,\u001b[0m \u001b[0mranges\u001b[0m\u001b[0;34m=\u001b[0m\u001b[0;34m[\u001b[0m\u001b[0;34m(\u001b[0m\u001b[0;36m0\u001b[0m\u001b[0;34m,\u001b[0m \u001b[0;36m2\u001b[0m \u001b[0;34m*\u001b[0m \u001b[0mnp\u001b[0m\u001b[0;34m.\u001b[0m\u001b[0mpi\u001b[0m\u001b[0;34m)\u001b[0m\u001b[0;34m]\u001b[0m\u001b[0;34m,\u001b[0m \u001b[0mNs\u001b[0m\u001b[0;34m=\u001b[0m\u001b[0;36m10\u001b[0m\u001b[0;34m,\u001b[0m \u001b[0mfinish\u001b[0m\u001b[0;34m=\u001b[0m\u001b[0;32mNone\u001b[0m\u001b[0;34m,\u001b[0m \u001b[0mfull_output\u001b[0m\u001b[0;34m=\u001b[0m\u001b[0;32mTrue\u001b[0m\u001b[0;34m)\u001b[0m\u001b[0;34m\u001b[0m\u001b[0;34m\u001b[0m\u001b[0m\n\u001b[0m\u001b[1;32m     27\u001b[0m         \u001b[0mthese_thetas\u001b[0m\u001b[0;34m.\u001b[0m\u001b[0mappend\u001b[0m\u001b[0;34m(\u001b[0m\u001b[0mres\u001b[0m\u001b[0;34m[\u001b[0m\u001b[0;36m0\u001b[0m\u001b[0;34m]\u001b[0m\u001b[0;34m)\u001b[0m\u001b[0;34m\u001b[0m\u001b[0;34m\u001b[0m\u001b[0m\n\u001b[1;32m     28\u001b[0m         \u001b[0mthese_energies\u001b[0m\u001b[0;34m.\u001b[0m\u001b[0mappend\u001b[0m\u001b[0;34m(\u001b[0m\u001b[0mres\u001b[0m\u001b[0;34m[\u001b[0m\u001b[0;36m1\u001b[0m\u001b[0;34m]\u001b[0m\u001b[0;34m)\u001b[0m\u001b[0;34m\u001b[0m\u001b[0;34m\u001b[0m\u001b[0m\n",
      "\u001b[0;32m/opt/miniconda3/envs/mitiqdev/lib/python3.8/site-packages/scipy/optimize/optimize.py\u001b[0m in \u001b[0;36mbrute\u001b[0;34m(func, ranges, args, Ns, full_output, finish, disp, workers)\u001b[0m\n\u001b[1;32m   2925\u001b[0m     \u001b[0;31m# iterate over input arrays, possibly in parallel\u001b[0m\u001b[0;34m\u001b[0m\u001b[0;34m\u001b[0m\u001b[0;34m\u001b[0m\u001b[0m\n\u001b[1;32m   2926\u001b[0m     \u001b[0;32mwith\u001b[0m \u001b[0mMapWrapper\u001b[0m\u001b[0;34m(\u001b[0m\u001b[0mpool\u001b[0m\u001b[0;34m=\u001b[0m\u001b[0mworkers\u001b[0m\u001b[0;34m)\u001b[0m \u001b[0;32mas\u001b[0m \u001b[0mmapper\u001b[0m\u001b[0;34m:\u001b[0m\u001b[0;34m\u001b[0m\u001b[0;34m\u001b[0m\u001b[0m\n\u001b[0;32m-> 2927\u001b[0;31m         \u001b[0mJout\u001b[0m \u001b[0;34m=\u001b[0m \u001b[0mnp\u001b[0m\u001b[0;34m.\u001b[0m\u001b[0marray\u001b[0m\u001b[0;34m(\u001b[0m\u001b[0mlist\u001b[0m\u001b[0;34m(\u001b[0m\u001b[0mmapper\u001b[0m\u001b[0;34m(\u001b[0m\u001b[0mwrapped_func\u001b[0m\u001b[0;34m,\u001b[0m \u001b[0mgrid\u001b[0m\u001b[0;34m)\u001b[0m\u001b[0;34m)\u001b[0m\u001b[0;34m)\u001b[0m\u001b[0;34m\u001b[0m\u001b[0;34m\u001b[0m\u001b[0m\n\u001b[0m\u001b[1;32m   2928\u001b[0m         \u001b[0;32mif\u001b[0m \u001b[0;34m(\u001b[0m\u001b[0mN\u001b[0m \u001b[0;34m==\u001b[0m \u001b[0;36m1\u001b[0m\u001b[0;34m)\u001b[0m\u001b[0;34m:\u001b[0m\u001b[0;34m\u001b[0m\u001b[0;34m\u001b[0m\u001b[0m\n\u001b[1;32m   2929\u001b[0m             \u001b[0mgrid\u001b[0m \u001b[0;34m=\u001b[0m \u001b[0;34m(\u001b[0m\u001b[0mgrid\u001b[0m\u001b[0;34m,\u001b[0m\u001b[0;34m)\u001b[0m\u001b[0;34m\u001b[0m\u001b[0;34m\u001b[0m\u001b[0m\n",
      "\u001b[0;32m/opt/miniconda3/envs/mitiqdev/lib/python3.8/site-packages/scipy/optimize/optimize.py\u001b[0m in \u001b[0;36m__call__\u001b[0;34m(self, x)\u001b[0m\n\u001b[1;32m   2996\u001b[0m     \u001b[0;32mdef\u001b[0m \u001b[0m__call__\u001b[0m\u001b[0;34m(\u001b[0m\u001b[0mself\u001b[0m\u001b[0;34m,\u001b[0m \u001b[0mx\u001b[0m\u001b[0;34m)\u001b[0m\u001b[0;34m:\u001b[0m\u001b[0;34m\u001b[0m\u001b[0;34m\u001b[0m\u001b[0m\n\u001b[1;32m   2997\u001b[0m         \u001b[0;31m# flatten needed for one dimensional case.\u001b[0m\u001b[0;34m\u001b[0m\u001b[0;34m\u001b[0m\u001b[0;34m\u001b[0m\u001b[0m\n\u001b[0;32m-> 2998\u001b[0;31m         \u001b[0;32mreturn\u001b[0m \u001b[0mself\u001b[0m\u001b[0;34m.\u001b[0m\u001b[0mf\u001b[0m\u001b[0;34m(\u001b[0m\u001b[0mnp\u001b[0m\u001b[0;34m.\u001b[0m\u001b[0masarray\u001b[0m\u001b[0;34m(\u001b[0m\u001b[0mx\u001b[0m\u001b[0;34m)\u001b[0m\u001b[0;34m.\u001b[0m\u001b[0mflatten\u001b[0m\u001b[0;34m(\u001b[0m\u001b[0;34m)\u001b[0m\u001b[0;34m,\u001b[0m \u001b[0;34m*\u001b[0m\u001b[0mself\u001b[0m\u001b[0;34m.\u001b[0m\u001b[0margs\u001b[0m\u001b[0;34m)\u001b[0m\u001b[0;34m\u001b[0m\u001b[0;34m\u001b[0m\u001b[0m\n\u001b[0m\u001b[1;32m   2999\u001b[0m \u001b[0;34m\u001b[0m\u001b[0m\n\u001b[1;32m   3000\u001b[0m \u001b[0;34m\u001b[0m\u001b[0m\n",
      "\u001b[0;32m<ipython-input-26-60dc9c8d5246>\u001b[0m in \u001b[0;36mobj\u001b[0;34m(theta)\u001b[0m\n\u001b[1;32m     22\u001b[0m             \u001b[0;32mdef\u001b[0m \u001b[0mexecutor\u001b[0m\u001b[0;34m(\u001b[0m\u001b[0mcircuit\u001b[0m\u001b[0;34m:\u001b[0m \u001b[0mcirq\u001b[0m\u001b[0;34m.\u001b[0m\u001b[0mCircuit\u001b[0m\u001b[0;34m)\u001b[0m\u001b[0;34m:\u001b[0m\u001b[0;34m\u001b[0m\u001b[0;34m\u001b[0m\u001b[0m\n\u001b[1;32m     23\u001b[0m                 \u001b[0;32mreturn\u001b[0m \u001b[0menergy\u001b[0m\u001b[0;34m(\u001b[0m\u001b[0mcircuit\u001b[0m\u001b[0;34m,\u001b[0m \u001b[0mradius_index\u001b[0m\u001b[0;34m=\u001b[0m\u001b[0mi\u001b[0m\u001b[0;34m,\u001b[0m \u001b[0mtheta\u001b[0m\u001b[0;34m=\u001b[0m\u001b[0mtheta\u001b[0m\u001b[0;34m,\u001b[0m \u001b[0mdepo_noise_strength\u001b[0m\u001b[0;34m=\u001b[0m\u001b[0mpval\u001b[0m\u001b[0;34m)\u001b[0m\u001b[0;34m\u001b[0m\u001b[0;34m\u001b[0m\u001b[0m\n\u001b[0;32m---> 24\u001b[0;31m             \u001b[0;32mreturn\u001b[0m \u001b[0mmitiq\u001b[0m\u001b[0;34m.\u001b[0m\u001b[0mexecute_with_zne\u001b[0m\u001b[0;34m(\u001b[0m\u001b[0mansatz\u001b[0m\u001b[0;34m,\u001b[0m \u001b[0mexecutor\u001b[0m\u001b[0;34m,\u001b[0m \u001b[0mfactory\u001b[0m\u001b[0;34m=\u001b[0m\u001b[0mpfac\u001b[0m\u001b[0;34m,\u001b[0m \u001b[0mnum_to_average\u001b[0m\u001b[0;34m=\u001b[0m\u001b[0;36m5\u001b[0m\u001b[0;34m)\u001b[0m\u001b[0;34m\u001b[0m\u001b[0;34m\u001b[0m\u001b[0m\n\u001b[0m\u001b[1;32m     25\u001b[0m \u001b[0;34m\u001b[0m\u001b[0m\n\u001b[1;32m     26\u001b[0m         \u001b[0mres\u001b[0m \u001b[0;34m=\u001b[0m \u001b[0mbrute\u001b[0m\u001b[0;34m(\u001b[0m\u001b[0mobj\u001b[0m\u001b[0;34m,\u001b[0m \u001b[0mranges\u001b[0m\u001b[0;34m=\u001b[0m\u001b[0;34m[\u001b[0m\u001b[0;34m(\u001b[0m\u001b[0;36m0\u001b[0m\u001b[0;34m,\u001b[0m \u001b[0;36m2\u001b[0m \u001b[0;34m*\u001b[0m \u001b[0mnp\u001b[0m\u001b[0;34m.\u001b[0m\u001b[0mpi\u001b[0m\u001b[0;34m)\u001b[0m\u001b[0;34m]\u001b[0m\u001b[0;34m,\u001b[0m \u001b[0mNs\u001b[0m\u001b[0;34m=\u001b[0m\u001b[0;36m10\u001b[0m\u001b[0;34m,\u001b[0m \u001b[0mfinish\u001b[0m\u001b[0;34m=\u001b[0m\u001b[0;32mNone\u001b[0m\u001b[0;34m,\u001b[0m \u001b[0mfull_output\u001b[0m\u001b[0;34m=\u001b[0m\u001b[0;32mTrue\u001b[0m\u001b[0;34m)\u001b[0m\u001b[0;34m\u001b[0m\u001b[0;34m\u001b[0m\u001b[0m\n",
      "\u001b[0;31mAttributeError\u001b[0m: module 'mitiq' has no attribute 'execute_with_zne'"
     ]
    }
   ],
   "source": [
    "\"\"\"Optimize the energy at each radius using zero-noise extrapolation.\"\"\"\n",
    "# Factory to use in mitigation\n",
    "lfac = LinearFactory(scale_factors=[1., 1.5, 2., 2.5, 3.])\n",
    "pfac = PolyFactory(\n",
    "    order=3,\n",
    "    scale_factors=[1., 1.5, 2., 2.5, 3., 3.5, 4., 4.5, 5., 5.5, 6.]\n",
    ")\n",
    "\n",
    "# Lists to store output\n",
    "best_mitigated_thetas = []\n",
    "best_mitigated_energies = []\n",
    "\n",
    "# Do the minimization at each channel strength at each radius\n",
    "for pval in pvals[1:]:\n",
    "    print(f\"\\nStatus: p = {pval}\")\n",
    "    these_thetas = []\n",
    "    these_energies = []\n",
    "    for i in range(len(radii)):\n",
    "        print(f\"\\tStatus: radius = {radii[i]}\", end=\"\\r\")\n",
    "        \n",
    "        def obj(theta):\n",
    "            def executor(circuit: cirq.Circuit):\n",
    "                return energy(circuit, radius_index=i, theta=theta, depo_noise_strength=pval)\n",
    "            return mitiq.execute_with_zne(ansatz, executor, factory=pfac, num_to_average=5)\n",
    "        \n",
    "        res = brute(obj, ranges=[(0, 2 * np.pi)], Ns=10, finish=None, full_output=True)\n",
    "        these_thetas.append(res[0])\n",
    "        these_energies.append(res[1])\n",
    "        \n",
    "    best_mitigated_thetas.append(these_thetas)\n",
    "    best_mitigated_energies.append(these_energies)"
   ]
  },
  {
   "cell_type": "code",
   "execution_count": 9,
   "metadata": {},
   "outputs": [
    {
     "ename": "NameError",
     "evalue": "name 'best_energies' is not defined",
     "output_type": "error",
     "traceback": [
      "\u001b[0;31m---------------------------------------------------------------------------\u001b[0m",
      "\u001b[0;31mNameError\u001b[0m                                 Traceback (most recent call last)",
      "\u001b[0;32m<ipython-input-9-e0b2e909d53a>\u001b[0m in \u001b[0;36m<module>\u001b[0;34m\u001b[0m\n\u001b[1;32m      7\u001b[0m \u001b[0mplt\u001b[0m\u001b[0;34m.\u001b[0m\u001b[0msubplot\u001b[0m\u001b[0;34m(\u001b[0m\u001b[0;36m121\u001b[0m\u001b[0;34m)\u001b[0m\u001b[0;34m\u001b[0m\u001b[0;34m\u001b[0m\u001b[0m\n\u001b[1;32m      8\u001b[0m \u001b[0mplt\u001b[0m\u001b[0;34m.\u001b[0m\u001b[0mtitle\u001b[0m\u001b[0;34m(\u001b[0m\u001b[0;34m\"Unmitigated\"\u001b[0m\u001b[0;34m)\u001b[0m\u001b[0;34m\u001b[0m\u001b[0;34m\u001b[0m\u001b[0m\n\u001b[0;32m----> 9\u001b[0;31m \u001b[0;32mfor\u001b[0m \u001b[0mpval\u001b[0m\u001b[0;34m,\u001b[0m \u001b[0mopt_energies\u001b[0m \u001b[0;32min\u001b[0m \u001b[0mzip\u001b[0m\u001b[0;34m(\u001b[0m\u001b[0mpvals\u001b[0m\u001b[0;34m,\u001b[0m \u001b[0mbest_energies\u001b[0m\u001b[0;34m)\u001b[0m\u001b[0;34m:\u001b[0m\u001b[0;34m\u001b[0m\u001b[0;34m\u001b[0m\u001b[0m\n\u001b[0m\u001b[1;32m     10\u001b[0m     plt.plot(\n\u001b[1;32m     11\u001b[0m         \u001b[0mradii\u001b[0m\u001b[0;34m,\u001b[0m\u001b[0;34m\u001b[0m\u001b[0;34m\u001b[0m\u001b[0m\n",
      "\u001b[0;31mNameError\u001b[0m: name 'best_energies' is not defined"
     ]
    },
    {
     "data": {
      "image/png": "[encoded data removed]",
      "text/plain": [
       "<Figure size 1080x360 with 1 Axes>"
      ]
     },
     "metadata": {
      "needs_background": "light"
     },
     "output_type": "display_data"
    }
   ],
   "source": [
    "\"\"\"Plotting.\"\"\"\n",
    "plt.rcParams.update({\"font.family\": \"serif\", \"font.size\": 14, \"font.weight\": \"bold\"})\n",
    "plt.figure(figsize=(15, 5))\n",
    "\n",
    "colors = [\"blue\", \"orange\", \"green\", \"red\", \"purple\", \"brown\"]\n",
    "\n",
    "plt.subplot(121)\n",
    "plt.title(\"Unmitigated\")\n",
    "for pval, opt_energies in zip(pvals, best_energies):\n",
    "    plt.plot(\n",
    "        radii, \n",
    "        opt_energies, \n",
    "        \"--s\", \n",
    "        lw=2, \n",
    "        markersize=10,\n",
    "        markeredgecolor=\"black\",\n",
    "        alpha=0.7,\n",
    "        label=f\"$p = {pval}$\"\n",
    "    )\n",
    "plt.ylim(\n",
    "    min([np.min(best_energies), np.min(best_mitigated_energies)]) - 0.1, \n",
    "    max([np.max(best_energies), np.max(best_mitigated_energies)]) + 0.1\n",
    ")\n",
    "plt.xlabel(\"Atomic distance (Angstroms)\");\n",
    "plt.ylabel(\"Energy (Hartree)\");\n",
    "plt.legend();\n",
    "\n",
    "\n",
    "plt.subplot(122)\n",
    "plt.title(\"Mitigated\")\n",
    "plt.plot(\n",
    "        radii, \n",
    "        best_energies[0], \n",
    "        \"-s\", \n",
    "        lw=2, \n",
    "        markersize=10,\n",
    "        markeredgecolor=\"black\",\n",
    "        alpha=0.7,\n",
    "        label=f\"$p = 0.0$\",\n",
    "        zorder=1\n",
    "    )\n",
    "i = 0\n",
    "for pval, opt_energies in zip(pvals[1:], best_mitigated_energies):\n",
    "    i += 1\n",
    "    plt.plot(\n",
    "        radii,\n",
    "        opt_energies,\n",
    "        \"-o\",\n",
    "        lw=2,\n",
    "        markersize=10,\n",
    "        markeredgecolor=\"black\",\n",
    "        alpha=0.7,\n",
    "        label=f\"$p = {pval}$\",\n",
    "        zorder=0\n",
    "    )\n",
    "plt.ylim(\n",
    "    min([np.min(best_energies), np.min(best_mitigated_energies)]) - 0.1, \n",
    "    max([np.max(best_energies), np.max(best_mitigated_energies)]) + 0.1\n",
    ")\n",
    "    \n",
    "plt.xlabel(\"Atomic distance (Angstroms)\");\n",
    "plt.legend();\n",
    "\n",
    "# plt.savefig(\"h2-surface.pdf\", format=\"pdf\")"
   ]
  },
  {
   "cell_type": "code",
   "execution_count": 27,
   "metadata": {},
   "outputs": [
    {
     "ename": "IndexError",
     "evalue": "list index out of range",
     "output_type": "error",
     "traceback": [
      "\u001b[0;31m---------------------------------------------------------------------------\u001b[0m",
      "\u001b[0;31mIndexError\u001b[0m                                Traceback (most recent call last)",
      "\u001b[0;32m<ipython-input-27-431134d0a223>\u001b[0m in \u001b[0;36m<module>\u001b[0;34m\u001b[0m\n\u001b[1;32m      3\u001b[0m \u001b[0mdiffs_unmitigated\u001b[0m \u001b[0;34m=\u001b[0m \u001b[0mnp\u001b[0m\u001b[0;34m.\u001b[0m\u001b[0mzeros\u001b[0m\u001b[0;34m(\u001b[0m\u001b[0mlen\u001b[0m\u001b[0;34m(\u001b[0m\u001b[0mpvals\u001b[0m\u001b[0;34m[\u001b[0m\u001b[0;36m1\u001b[0m\u001b[0;34m:\u001b[0m\u001b[0;34m]\u001b[0m\u001b[0;34m)\u001b[0m\u001b[0;34m)\u001b[0m\u001b[0;34m\u001b[0m\u001b[0;34m\u001b[0m\u001b[0m\n\u001b[1;32m      4\u001b[0m \u001b[0;32mfor\u001b[0m \u001b[0mi\u001b[0m \u001b[0;32min\u001b[0m \u001b[0mrange\u001b[0m\u001b[0;34m(\u001b[0m\u001b[0mlen\u001b[0m\u001b[0;34m(\u001b[0m\u001b[0mpvals\u001b[0m\u001b[0;34m[\u001b[0m\u001b[0;36m1\u001b[0m\u001b[0;34m:\u001b[0m\u001b[0;34m]\u001b[0m\u001b[0;34m)\u001b[0m\u001b[0;34m)\u001b[0m\u001b[0;34m:\u001b[0m\u001b[0;34m\u001b[0m\u001b[0;34m\u001b[0m\u001b[0m\n\u001b[0;32m----> 5\u001b[0;31m     \u001b[0mdiffs\u001b[0m\u001b[0;34m[\u001b[0m\u001b[0mi\u001b[0m\u001b[0;34m]\u001b[0m \u001b[0;34m=\u001b[0m \u001b[0mnp\u001b[0m\u001b[0;34m.\u001b[0m\u001b[0mlinalg\u001b[0m\u001b[0;34m.\u001b[0m\u001b[0mnorm\u001b[0m\u001b[0;34m(\u001b[0m\u001b[0;34m(\u001b[0m\u001b[0mnp\u001b[0m\u001b[0;34m.\u001b[0m\u001b[0marray\u001b[0m\u001b[0;34m(\u001b[0m\u001b[0mbest_energies\u001b[0m\u001b[0;34m[\u001b[0m\u001b[0;36m0\u001b[0m\u001b[0;34m]\u001b[0m\u001b[0;34m)\u001b[0m \u001b[0;34m-\u001b[0m \u001b[0mnp\u001b[0m\u001b[0;34m.\u001b[0m\u001b[0marray\u001b[0m\u001b[0;34m(\u001b[0m\u001b[0mbest_mitigated_energies\u001b[0m\u001b[0;34m[\u001b[0m\u001b[0mi\u001b[0m\u001b[0;34m]\u001b[0m\u001b[0;34m)\u001b[0m\u001b[0;34m)\u001b[0m\u001b[0;34m,\u001b[0m \u001b[0mord\u001b[0m\u001b[0;34m=\u001b[0m\u001b[0;36m2\u001b[0m\u001b[0;34m)\u001b[0m\u001b[0;34m\u001b[0m\u001b[0;34m\u001b[0m\u001b[0m\n\u001b[0m\u001b[1;32m      6\u001b[0m     \u001b[0mdiffs_unmitigated\u001b[0m\u001b[0;34m[\u001b[0m\u001b[0mi\u001b[0m\u001b[0;34m]\u001b[0m \u001b[0;34m=\u001b[0m \u001b[0mnp\u001b[0m\u001b[0;34m.\u001b[0m\u001b[0mlinalg\u001b[0m\u001b[0;34m.\u001b[0m\u001b[0mnorm\u001b[0m\u001b[0;34m(\u001b[0m\u001b[0;34m(\u001b[0m\u001b[0mnp\u001b[0m\u001b[0;34m.\u001b[0m\u001b[0marray\u001b[0m\u001b[0;34m(\u001b[0m\u001b[0mbest_energies\u001b[0m\u001b[0;34m[\u001b[0m\u001b[0;36m0\u001b[0m\u001b[0;34m]\u001b[0m\u001b[0;34m)\u001b[0m \u001b[0;34m-\u001b[0m \u001b[0mnp\u001b[0m\u001b[0;34m.\u001b[0m\u001b[0marray\u001b[0m\u001b[0;34m(\u001b[0m\u001b[0mbest_energies\u001b[0m\u001b[0;34m[\u001b[0m\u001b[0mi\u001b[0m \u001b[0;34m+\u001b[0m \u001b[0;36m1\u001b[0m\u001b[0;34m]\u001b[0m\u001b[0;34m)\u001b[0m\u001b[0;34m)\u001b[0m\u001b[0;34m,\u001b[0m \u001b[0mord\u001b[0m\u001b[0;34m=\u001b[0m\u001b[0;36m2\u001b[0m\u001b[0;34m)\u001b[0m\u001b[0;34m\u001b[0m\u001b[0;34m\u001b[0m\u001b[0m\n\u001b[1;32m      7\u001b[0m \u001b[0;34m\u001b[0m\u001b[0m\n",
      "\u001b[0;31mIndexError\u001b[0m: list index out of range"
     ]
    }
   ],
   "source": [
    "\"\"\"Quantify the difference between the curves.\"\"\"\n",
    "diffs = np.zeros(len(pvals[1:]))\n",
    "diffs_unmitigated = np.zeros(len(pvals[1:]))\n",
    "for i in range(len(pvals[1:])):\n",
    "    diffs[i] = np.linalg.norm((np.array(best_energies[0]) - np.array(best_mitigated_energies[i])), ord=2)\n",
    "    diffs_unmitigated[i] = np.linalg.norm((np.array(best_energies[0]) - np.array(best_energies[i + 1])), ord=2)\n",
    "\n",
    "diffs /= np.linalg.norm(np.array(best_energies[0]), ord=2)\n",
    "diffs_unmitigated /= np.linalg.norm(np.array(best_energies[0]), ord=2)"
   ]
  },
  {
   "cell_type": "code",
   "execution_count": 28,
   "metadata": {},
   "outputs": [
    {
     "data": {
      "image/png": "[encoded data removed]",
      "text/plain": [
       "<Figure size 1500x200 with 1 Axes>"
      ]
     },
     "metadata": {},
     "output_type": "display_data"
    }
   ],
   "source": [
    "plt.rcParams.update({\"font.family\": \"serif\", \"font.size\": 14, \"font.weight\": \"bold\"})\n",
    "plt.figure(figsize=(15, 2))\n",
    "\n",
    "\n",
    "plt.semilogy(\n",
    "    pvals[1:], \n",
    "    diffs_unmitigated,\n",
    "    \"-s\",\n",
    "    color=\"gray\",\n",
    "    lw=3,\n",
    "    markersize=12,\n",
    "    markeredgecolor=\"black\",\n",
    "    alpha=0.9,\n",
    "    label=\"Unmitigated\"\n",
    ")\n",
    "\n",
    "plt.semilogy(\n",
    "    pvals[1:], \n",
    "    diffs,\n",
    "    \"-o\",\n",
    "    color=\"salmon\",\n",
    "    lw=3,\n",
    "    markersize=12,\n",
    "    markeredgecolor=\"black\",\n",
    "    alpha=0.9,\n",
    "    label=\"Mitigated\"\n",
    ")\n",
    "\n",
    "\n",
    "\n",
    "plt.ylabel(\"Relative error\");\n",
    "plt.xlabel(\"$p$\");\n",
    "plt.ylim(1e-2, 1);\n",
    "plt.grid();\n",
    "plt.legend();\n",
    "plt.show()\n",
    "plt.close()\n",
    "# plt.savefig(\"h2-surface-error-v2.pdf\", format=\"pdf\")"
   ]
  },
  {
   "cell_type": "code",
   "execution_count": 29,
   "metadata": {},
   "outputs": [
    {
     "ename": "IndexError",
     "evalue": "list index out of range",
     "output_type": "error",
     "traceback": [
      "\u001b[0;31m---------------------------------------------------------------------------\u001b[0m",
      "\u001b[0;31mIndexError\u001b[0m                                Traceback (most recent call last)",
      "\u001b[0;32m<ipython-input-29-7b94b0d770da>\u001b[0m in \u001b[0;36m<module>\u001b[0;34m\u001b[0m\n\u001b[1;32m      3\u001b[0m \u001b[0;32mfor\u001b[0m \u001b[0mi\u001b[0m \u001b[0;32min\u001b[0m \u001b[0mrange\u001b[0m\u001b[0;34m(\u001b[0m\u001b[0mlen\u001b[0m\u001b[0;34m(\u001b[0m\u001b[0mpvals\u001b[0m\u001b[0;34m[\u001b[0m\u001b[0;36m1\u001b[0m\u001b[0;34m:\u001b[0m\u001b[0;34m]\u001b[0m\u001b[0;34m)\u001b[0m\u001b[0;34m)\u001b[0m\u001b[0;34m:\u001b[0m\u001b[0;34m\u001b[0m\u001b[0;34m\u001b[0m\u001b[0m\n\u001b[1;32m      4\u001b[0m     diffs[i] = np.linalg.norm(\n\u001b[0;32m----> 5\u001b[0;31m         \u001b[0;34m(\u001b[0m\u001b[0mnp\u001b[0m\u001b[0;34m.\u001b[0m\u001b[0marray\u001b[0m\u001b[0;34m(\u001b[0m\u001b[0mbest_energies\u001b[0m\u001b[0;34m[\u001b[0m\u001b[0;36m0\u001b[0m\u001b[0;34m]\u001b[0m\u001b[0;34m)\u001b[0m \u001b[0;34m-\u001b[0m \u001b[0mbest_energies\u001b[0m\u001b[0;34m[\u001b[0m\u001b[0mi\u001b[0m \u001b[0;34m+\u001b[0m \u001b[0;36m1\u001b[0m\u001b[0;34m]\u001b[0m\u001b[0;34m)\u001b[0m \u001b[0;34m/\u001b[0m \u001b[0;34m(\u001b[0m\u001b[0mnp\u001b[0m\u001b[0;34m.\u001b[0m\u001b[0marray\u001b[0m\u001b[0;34m(\u001b[0m\u001b[0mbest_energies\u001b[0m\u001b[0;34m[\u001b[0m\u001b[0;36m0\u001b[0m\u001b[0;34m]\u001b[0m\u001b[0;34m)\u001b[0m \u001b[0;34m-\u001b[0m \u001b[0mnp\u001b[0m\u001b[0;34m.\u001b[0m\u001b[0marray\u001b[0m\u001b[0;34m(\u001b[0m\u001b[0mbest_mitigated_energies\u001b[0m\u001b[0;34m[\u001b[0m\u001b[0mi\u001b[0m\u001b[0;34m]\u001b[0m\u001b[0;34m)\u001b[0m\u001b[0;34m)\u001b[0m\u001b[0;34m,\u001b[0m\u001b[0;34m\u001b[0m\u001b[0;34m\u001b[0m\u001b[0m\n\u001b[0m\u001b[1;32m      6\u001b[0m         \u001b[0mord\u001b[0m\u001b[0;34m=\u001b[0m\u001b[0;36m2\u001b[0m\u001b[0;34m\u001b[0m\u001b[0;34m\u001b[0m\u001b[0m\n\u001b[1;32m      7\u001b[0m     )\n",
      "\u001b[0;31mIndexError\u001b[0m: list index out of range"
     ]
    }
   ],
   "source": [
    "\"\"\"Different metric.\"\"\"\n",
    "diffs = np.zeros(len(pvals[1:]))\n",
    "for i in range(len(pvals[1:])):\n",
    "    diffs[i] = np.linalg.norm(\n",
    "        (np.array(best_energies[0]) - best_energies[i + 1]) / (np.array(best_energies[0]) - np.array(best_mitigated_energies[i])),\n",
    "        ord=2\n",
    "    )"
   ]
  },
  {
   "cell_type": "code",
   "execution_count": 30,
   "metadata": {},
   "outputs": [
    {
     "name": "stderr",
     "output_type": "stream",
     "text": [
      "/opt/miniconda3/envs/mitiqdev/lib/python3.8/site-packages/IPython/core/pylabtools.py:134: UserWarning: Data has no positive values, and therefore cannot be log-scaled.\n",
      "  fig.canvas.print_figure(bytes_io, **kw)\n"
     ]
    },
    {
     "data": {
      "image/png": "[encoded data removed]",
      "text/plain": [
       "<Figure size 640x480 with 1 Axes>"
      ]
     },
     "metadata": {},
     "output_type": "display_data"
    }
   ],
   "source": [
    "plt.semilogy(pvals[1:], diffs, \"--o\")\n",
    "plt.ylabel(\"$R_u / R_m$\");\n",
    "plt.xlabel(\"$p$\");\n",
    "plt.show()\n",
    "plt.close()"
   ]
  },
  {
   "cell_type": "markdown",
   "metadata": {},
   "source": [
    "# References\n",
    "\n",
    "[1] P. J. J. O’Malley et al., “[Scalable Quantum Simulation of Molecular Energies](https://journals.aps.org/prx/pdf/10.1103/PhysRevX.6.031007),” \n",
    "Physical Review X, vol. <b>6</b>, no. 3, Jul. 2016.\n"
   ]
  }
 ],
 "metadata": {
  "kernelspec": {
   "display_name": "Python 3",
   "language": "python",
   "name": "python3"
  },
  "language_info": {
   "codemirror_mode": {
    "name": "ipython",
    "version": 3
   },
   "file_extension": ".py",
   "mimetype": "text/x-python",
   "name": "python",
   "nbconvert_exporter": "python",
   "pygments_lexer": "ipython3",
   "version": "3.8.0"
  }
 },
 "nbformat": 4,
 "nbformat_minor": 4
}
