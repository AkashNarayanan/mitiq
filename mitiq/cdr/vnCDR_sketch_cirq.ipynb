{
 "cells": [
  {
   "cell_type": "markdown",
   "metadata": {},
   "source": [
    "# vnCDR sketch with cirq\n"
   ]
  },
  {
   "cell_type": "markdown",
   "metadata": {},
   "source": [
    "This notebook shows the skeleton for a working variable noise Clifford data regression (vnCDR) implementation for a given circuit. The vnCDR training set construction is completed using cirq simulators and virtual machines. A single instance of a random quantum circuit is used to explore performance relative to Clifford data regression (CDR) and ZNE with various functional extrapolations. \n",
    "\n",
    "First, let’s review the vnCDR and CDR methods to remind ourselves of how these methods work and the elements necessary. vnCDR is the more general setting and is also expected to provide better mitigated results on average, so we will focus on the formalism for this method when presenting the necessary steps. \n",
    "\n",
    "## vnCDR \n",
    "vnCDR is a data driven error mitigation method. That means data from many quantum circuits is used to mitigate the effect of noise produced by one circuit of interest. vnCDR uses data from circuits which are classically simulable evaluated both classically (using a simulator) and on a real device at various levels of hardware noise. This data set is then used to train an ansatz mapping the noisy to exact data. The trained ansatz is used to mitigate the effect of the noise on the circuit of interest evaluated at different hardware noise levels. \n",
    "\n",
    "More formally, let $U$ be a quantum circuit which we are interested in, $|0 \\rangle$ its initial state, and $X$ an observable of interest. We want to estimate the expectation value $\\mu = \\langle 0|U^{+} X U |0 \\rangle$ from measurements on a noisy quantum device. We can mitigate the effect of noise using the following procedure:\n",
    "\n",
    "- (Clifford data) Choose a set of circuits $\\mathcal{S} = \\{V_i\\}_{i=1}^m$ based on $U$ which will be used to form the training set $\\mathcal{T}$ in step 3. The circuits in $\\mathcal{S}$ must be efficient to simulate classically, which is ensured by constructing them primarily from Clifford gates. The number of non-Cliffords used is denoted by $N$. Note that $N$ is assumed to be a constant parameter here, so the simulations are classically tractable. \n",
    "\n",
    "    \n",
    "- (Noise data) Choose a set of noise levels $\\mathcal{C}=\\{c_0,c_1,\\dots,c_n\\}$ where $1 = c_0 < c_1 < \\dots < c_n$ which will be used to form the training set $\\mathcal{T}$ in step 3. If the noise is characterized by a parameter $\\epsilon$ then running the device with noise level $c_j$ means the new parameter is $c_j\\epsilon$.\n",
    "    \n",
    "- (Training set)  For each of the $m$ circuits $V_i$ in $\\mathcal{S}$ and $n+1$ noise levels $c_j\\in \\mathcal{C}$, produce an estimate of the observable expectation called $x_{i, j}$. Also, for each of the $m$ circuits compute $y_i = \\langle 0|V_i^{+} X V_i |0 \\rangle$ using a classical simulation. The training set $\\mathcal{T}$ is then defined as $\\mathcal{T} = \\{(\\vec{x}_i, y_i)\\}$ where $\\vec{x}_i = (x_{i,0},\\dots,x_{i,n})$ is the vector of noisy estimates originating from the $i^\\text{th}$ circuit.\n",
    "\n",
    "- (Learning) Learn a function $f : \\mathbb{R}^n \\to \\mathbb{R}$ that takes a set of noisy estimates at the $n+1$ different noise levels and outputs an estimate for the noise-free value. Specifically, we take the linear ansatz $g : \\mathbb{R}^n \\times \\mathbb{R}^n \\to \\mathbb{R}$,\n",
    "\\begin{equation}\n",
    "           g(\\vec{x}; \\vec{a}) = \\vec{a}\\cdot\\vec{x}\\\n",
    "\\end{equation}\n",
    "    We use least-squares regression on the dataset $\\mathcal{T}$ to pick optimal parameters $\\vec{a}^*$, i.e.,\n",
    "    \\begin{align}\n",
    "        \\vec{a}^* = \\underset{\\vec{a}}{\\text{argmin}} \\sum_{i=1}^m \\left(y_i - g(\\vec{x}_i; \\vec{a})\\right)^2\\,,\n",
    "    \\end{align}\n",
    "    so that we expect $f(\\vec{x}) = g(\\vec{x}; \\vec{a}^*)$ to output a good estimate for the noise-free expected value given a vector of noisy ones.\n",
    "    \n",
    "- (Correction) Use the estimate $\\hat{\\mu} = \\vec{a}^*\\cdot\\vec{\\mu}$, where $\\vec{\\mu} = (\\hat{\\mu}_0,\\dots,\\hat{\\mu}_n)$ is comprised of the $n+1$ noisy expectations for the original circuit.\n",
    "\n",
    "## CDR \n",
    "\n",
    "There are two important distinctions between CDR and vnCDR. CDR does not use multiple hardware noise levels. Therefore there is not a vector of data for each circuit in the training set just a singular point. This also leads to the trianed ansatz being different. In the case of CDR the training set consisting of the noisy evaluated trianing circuits and their exact values are used to train a linear ansatz: \n",
    "\\begin{equation}\n",
    "           g(x; a, b) = ax + c.\n",
    "\\end{equation}\n",
    "\n",
    "## Important features\n",
    "\n",
    "Two important considerations when implementing vnCDR and CDR are how hardware noise is increased and how the circuits in the training set are constructed from the circuit of interest. In this sketch we present the simplest form of training set construction and hardware noise level increase. \n",
    "\n",
    "To construct the trianing set of classically simulable circuits here we randomly select a certain number of the non-Clifford gates in our circuit of interest and project them to their nearest Clifford gate, leaving $N$ non-Cliffords. This process is repeated $M$ times, giving a training set of size $M$. \n",
    "\n",
    "Noise is incrased by inserting identites formed of repeated CNOT gates. This is done using the unitary folding method provided in the mitiq package. \n",
    "\n",
    "The perforance of the mitigation is expected to converge with the number of non-Clifford gates in the training set circuits ($N$) and the number of circuits in the training set ($M$).\n",
    "\n"
   ]
  },
  {
   "cell_type": "markdown",
   "metadata": {},
   "source": [
    "## Imports"
   ]
  },
  {
   "cell_type": "code",
   "execution_count": 46,
   "metadata": {},
   "outputs": [],
   "source": [
    "from qiskit import execute, QuantumCircuit, QuantumRegister, IBMQ, Aer, compiler\n",
    "import numpy as np\n",
    "from sympy import *\n",
    "import cirq\n",
    "import scipy as sci\n",
    "import matplotlib.pyplot as plt\n",
    "import scipy.sparse as scs\n",
    "from mitiq.mitiq_qiskit.conversions import to_qiskit, from_qiskit\n",
    "from typing import Callable, Optional\n",
    "from functools import wraps\n",
    "from mitiq._typing import QPROGRAM\n",
    "import numpy as np\n",
    "from sklearn import linear_model\n",
    "from operator import itemgetter\n",
    "import random\n",
    "import mitiq\n",
    "from mitiq.zne.scaling import fold_gates_at_random\n",
    "from mitiq.zne.zne import execute_with_zne\n",
    "from mitiq.zne.inference import LinearFactory, RichardsonFactory, PolyFactory, ExpFactory\n",
    "from functools import partial\n",
    "from qiskit.compiler import transpile\n",
    "from cirq.optimizers import ConvertToCzAndSingleGates, MergeSingleQubitGates, DropEmptyMoments\n",
    "# Qiskit functions for simulation and execution (defined by user):\n",
    "from qiskit.providers.aer import QasmSimulator, StatevectorSimulator, UnitarySimulator\n",
    "from qiskit.providers.aer.noise import NoiseModel\n",
    "from qiskit.providers.aer.noise import QuantumError, ReadoutError\n",
    "from qiskit.providers.aer.noise import pauli_error\n",
    "from qiskit.providers.aer.noise import depolarizing_error\n",
    "from qiskit.providers.aer.noise import thermal_relaxation_error\n",
    "import qiskit.providers.aer.noise as aern"
   ]
  },
  {
   "cell_type": "markdown",
   "metadata": {},
   "source": [
    "## Constants"
   ]
  },
  {
   "cell_type": "code",
   "execution_count": 2,
   "metadata": {},
   "outputs": [],
   "source": [
    "CLIFFORD_ANGLES = (np.pi / 2, np.pi, np.pi * 3 / 2, 2 * np.pi)"
   ]
  },
  {
   "cell_type": "markdown",
   "metadata": {},
   "source": [
    "## Random Quantum Circuit\n",
    "In order to test the performance of vnCDR and CDR we need a test case to run on. Random quantum circuits (RQC) are a good option to use due to their generality. Below is the code to construct random quantum circuits composed of some gates with a fixed, alternating CNOT structure.\n"
   ]
  },
  {
   "cell_type": "code",
   "execution_count": 3,
   "metadata": {},
   "outputs": [],
   "source": [
    "def random_circuit(\n",
    "    qubits: int, \n",
    "    depth: int,\n",
    "    measure: bool,\n",
    ")-> QPROGRAM:\n",
    "    '''Function to generate a random quantum circuit in cirq. The circuit is based on the hardware efficient ansatz,\n",
    "    with alternating CNOT layers with randomly selected single qubit gates in between.\n",
    "    \n",
    "    Args: \n",
    "        qubits: number of qubits in circuit. \n",
    "        depth: depth of the RQC.\n",
    "        measure: measurements or not.\n",
    "        \n",
    "    Returns: \n",
    "        cirquit: a random quantum circuit of specified depth.\n",
    "        \n",
    "'''\n",
    "    # Get a rectangular grid of qubits.\n",
    "    qubits = cirq.GridQubit.rect(qubits, 1)\n",
    "    # Generates a random circuit on the provided qubits.\n",
    "    circuit = cirq.experiments.random_rotations_between_grid_interaction_layers_circuit(\n",
    "        qubits = qubits, depth=depth, seed=0)\n",
    "    if measure == True:\n",
    "        circuit.append(cirq.measure(*qubits, key='z'))\n",
    "    return(circuit)"
   ]
  },
  {
   "cell_type": "markdown",
   "metadata": {},
   "source": [
    "## Functions used in CDR\n",
    "Here we begin the code that is used in the CDR method. First up we have a function that takes any Qiskit circuit and compiles it to minimise depth, as well as decomposing it into a gate set where the only non-Clifford gate is the Rz rotation gate."
   ]
  },
  {
   "cell_type": "code",
   "execution_count": 4,
   "metadata": {},
   "outputs": [],
   "source": [
    "def pauli_gate_to_u3(\n",
    "    gate: cirq.Gate,\n",
    ")-> list:\n",
    "    '''Function to decompose a single Pauli rotation gate into U3 form composed of Rx(pi/2) pulses and Rz rotation gates.\n",
    "       writes any circuit in the IBM native gate basis.\n",
    "    Args:\n",
    "        gate: Pauli rotation gate.\n",
    "    \n",
    "    Returns: \n",
    "        list: Sequence of cirq.Gate rotation gates that lead to the above pauli rotation, decomposed into Rx(pi/2) pulses\n",
    "        and Rz gates of three angles.\n",
    "    '''\n",
    "    gates = []\n",
    "    name = gate[0]\n",
    "    angle = gate[1]\n",
    "    if name == cirq.X:\n",
    "        if abs(angle-1) > 10**(-6):\n",
    "            gates.append(cirq.ops.rz(np.pi/2))\n",
    "            gates.append(cirq.ops.rx(np.pi/2))\n",
    "            gates.append(cirq.ops.rz(angle*(np.pi)+np.pi))\n",
    "            gates.append(cirq.ops.rx(np.pi/2))\n",
    "            gates.append(cirq.ops.rz(np.pi/2))\n",
    "        else:\n",
    "            gates.append(cirq.ops.X)\n",
    "    elif name == cirq.Y:\n",
    "        gates.append(cirq.ops.rx(np.pi/2))\n",
    "        gates.append(cirq.ops.rz(angle*(np.pi)+np.pi))\n",
    "        gates.append(cirq.ops.rx(np.pi/2))\n",
    "        gates.append(cirq.ops.rz(np.pi))\n",
    "            \n",
    "    elif name == cirq.Z:\n",
    "        gates.append(cirq.ops.rz(angle*(np.pi)))\n",
    "            \n",
    "    return(gates)\n",
    "        "
   ]
  },
  {
   "cell_type": "code",
   "execution_count": 5,
   "metadata": {},
   "outputs": [],
   "source": [
    "def circuit_transpilation(\n",
    "    circuit: QPROGRAM\n",
    ")-> QPROGRAM:\n",
    "    \"\"\"Decomposes cirq circuit object into Rz, Rx(pi/2) (sx), X and CNOT gates. \n",
    "    \n",
    "    Args:\n",
    "        circuit: original circuit of interest assumed to be cirq circuit object.\n",
    "        qubits: number of qubits in the circuit.\n",
    "        \n",
    "    Returns: \n",
    "        circuit_new: new circuit compiled and decomposed into the above gate set.\n",
    "    \"\"\"\n",
    "    depth = len(circuit)\n",
    "    nqubits = len(circuit.all_qubits())\n",
    "    qubits = circuit.all_qubits()\n",
    "    circuit_new = circuit.copy()[0:0]\n",
    "    ConvertToCzAndSingleGates().optimize_circuit(circuit = circuit)\n",
    "    MergeSingleQubitGates().optimize_circuit(circuit=circuit)\n",
    "    cirq.DropEmptyMoments().optimize_circuit(circuit=circuit)\n",
    "    cirq.DropNegligible().optimize_circuit(circuit=circuit)\n",
    "    for operation in circuit.all_operations():\n",
    "        # finding and decomposing the single qubit gates into Rz and Rx(pi/2) gates:\n",
    "        qubit = operation.qubits\n",
    "        if len(qubit) == 1 and isinstance(operation.gate, cirq.ops.MeasurementGate) == False:\n",
    "            gates = cirq.optimizers.single_qubit_matrix_to_pauli_rotations(operation.gate._unitary_())\n",
    "            for gate in gates: \n",
    "                decomposed_gate = pauli_gate_to_u3(gate)\n",
    "                for r_gate in decomposed_gate:\n",
    "                    r_gate = r_gate(qubit[0])\n",
    "                    circuit_new.append([r_gate])\n",
    "        elif operation.gate  == cirq.ops.CZ :\n",
    "                # need to turn Cz into Cx gate (use hadamards on either side).\n",
    "                # hadamard decomposition:\n",
    "                hadamard_gates = [cirq.rx(np.pi/2), cirq.rz(np.pi/2), cirq.rx(np.pi/2)]\n",
    "                for q in range(len(qubit)):\n",
    "                    for gate in hadamard_gates:\n",
    "                        gate = gate(qubit[1])\n",
    "                        circuit_new.append(gate)\n",
    "                    if q == 0:\n",
    "                        circuit_new.append(cirq.ops.CNOT(qubit[0], qubit[1]))\n",
    "        \n",
    "        # for measurements:\n",
    "        else: \n",
    "            circuit_new.append([operation])\n",
    "            \n",
    "    cirq.DropEmptyMoments().optimize_circuit(circuit=circuit_new)\n",
    "    cirq.DropNegligible().optimize_circuit(circuit=circuit_new)\n",
    "    return(circuit_new)"
   ]
  },
  {
   "cell_type": "code",
   "execution_count": 6,
   "metadata": {},
   "outputs": [],
   "source": [
    "def qiskit_circuit_transplation(\n",
    "    circ: QPROGRAM,\n",
    ")-> QPROGRAM:\n",
    "    \"\"\"Decomposes qiskit circuit object into Rz, Rx(pi/2) (sx), X and CNOT gates. \n",
    "    \n",
    "    Args:\n",
    "        circ: original circuit of interest assumed to be qiskit circuit object.\n",
    "        \n",
    "    Returns: \n",
    "        circ_new: new circuite compiled and decomposed into the above gate set.\n",
    "    \"\"\"\n",
    "    # this decomposes the circuit into u3 and cnot gates:\n",
    "    circ = compiler.transpile(circ, basis_gates = ['sx','rz','cx', 'x'], optimization_level=3)\n",
    "    #print(circ.draw())\n",
    "    # now for each U3(theta, phi, lambda), this can be converted into Rz(phi+pi)Rx(pi/2)Rz(theta+pi)Rx(pi/2)Rz(lambda)\n",
    "    try:\n",
    "        circ_new = QuantumCircuit(len(circ.qubits), len(circ.clbits))\n",
    "    except:\n",
    "        circ_new = QuantumCircuit(len(circ.qubits))\n",
    "    for i in range(len(circ.data)):\n",
    "        # get information for the gate\n",
    "        gate = circ.data[i][0]\n",
    "        name = gate.name\n",
    "        if name == 'cx':\n",
    "            qubit = [circ.data[i][1][0].index, circ.data[i][1][1].index]\n",
    "            parameters = []\n",
    "            circ_new.cx(qubit[0], qubit[1])\n",
    "        if name =='rz':\n",
    "            parameters = (float(gate.params[0])) % (2 * np.pi)\n",
    "            # leave out empty Rz gates:\n",
    "            if parameters!=0:\n",
    "                qubit = circ.data[i][1][0].index\n",
    "                circ_new.rz(parameters, qubit)\n",
    "        if name =='sx':\n",
    "            parameters = np.pi/2\n",
    "            qubit = circ.data[i][1][0].index\n",
    "            circ_new.rx(parameters, qubit)\n",
    "        if name =='x':\n",
    "            qubit = circ.data[i][1][0].index\n",
    "            circ_new.x(qubit)\n",
    "        elif name =='measure':\n",
    "            qubit = circ.data[i][1][0].index\n",
    "            cbit = circ.data[i][2][0].index\n",
    "            circ_new.measure(qubit, cbit) \n",
    "    return(circ_new)"
   ]
  },
  {
   "cell_type": "markdown",
   "metadata": {},
   "source": [
    "It should be noted that the gates that are involved in this decomposition are assumed to be the native basis set of the IBM quantum computers (except with control z gates not control x gates). Lets have a look at the circuits we have constructed and how the decomposition affects our circuit."
   ]
  },
  {
   "cell_type": "code",
   "execution_count": 7,
   "metadata": {
    "scrolled": false
   },
   "outputs": [
    {
     "name": "stdout",
     "output_type": "stream",
     "text": [
      "[[ 0.276-0.j     0.152-0.064j  0.209-0.016j -0.29 +0.211j]\n",
      " [ 0.152+0.064j  0.099+0.j     0.119+0.04j  -0.209+0.049j]\n",
      " [ 0.209+0.016j  0.119-0.04j   0.159+0.j    -0.232+0.143j]\n",
      " [-0.29 -0.211j -0.209-0.049j -0.232-0.143j  0.466-0.j   ]]\n",
      "[[ 0.276-0.j     0.152-0.064j  0.209-0.016j -0.29 +0.211j]\n",
      " [ 0.152+0.064j  0.099-0.j     0.119+0.04j  -0.209+0.049j]\n",
      " [ 0.209+0.016j  0.119-0.04j   0.159+0.j    -0.232+0.143j]\n",
      " [-0.29 -0.211j -0.209-0.049j -0.232-0.143j  0.466+0.j   ]]\n"
     ]
    }
   ],
   "source": [
    "# test that circuit deompositions give the same circuit: (take out measuremenets)\n",
    "num_qubits =2\n",
    "layers = 1\n",
    "measure = False\n",
    "circuit = cirq.circuits.Circuit(random_circuit(num_qubits,layers, measure))\n",
    "circuit_new = circuit_transpilation(circuit)\n",
    "simulator = cirq.DensityMatrixSimulator()\n",
    "result_new = simulator.simulate(circuit_new)\n",
    "result = simulator.simulate(circuit)\n",
    "print(np.around(result.final_density_matrix, 3))\n",
    "print(np.around(result_new.final_density_matrix, 3))"
   ]
  },
  {
   "cell_type": "code",
   "execution_count": 8,
   "metadata": {},
   "outputs": [],
   "source": [
    "num_qubits =4\n",
    "layers = 4\n",
    "measure = True\n",
    "circuit = cirq.circuits.Circuit(random_circuit(num_qubits,layers, measure))\n",
    "circuit_new = circuit_transpilation(circuit)"
   ]
  },
  {
   "cell_type": "markdown",
   "metadata": {},
   "source": [
    "How does the decomposition change the depth?"
   ]
  },
  {
   "cell_type": "code",
   "execution_count": 9,
   "metadata": {},
   "outputs": [
    {
     "name": "stdout",
     "output_type": "stream",
     "text": [
      "old depth 14\n",
      "new depth 66\n"
     ]
    }
   ],
   "source": [
    "print('old depth', len(circuit))\n",
    "print('new depth', len(circuit_new))"
   ]
  },
  {
   "cell_type": "markdown",
   "metadata": {},
   "source": [
    "The decomposition has increased the depth by some amount. This means that when implementing the circuit on a real device or noisy simulator the raw data from the decomposed circuit is likely to be worse than that from the original."
   ]
  },
  {
   "cell_type": "markdown",
   "metadata": {},
   "source": [
    "Lets see how this compares to the IBM decomposition of the same circuit:\n"
   ]
  },
  {
   "cell_type": "code",
   "execution_count": 10,
   "metadata": {},
   "outputs": [
    {
     "name": "stdout",
     "output_type": "stream",
     "text": [
      "old depth qiskit 14\n",
      "new depth qiskit 45\n"
     ]
    }
   ],
   "source": [
    "qiskit_circuit = to_qiskit(circuit)\n",
    "new_qiskit_circuit = qiskit_circuit_transplation(qiskit_circuit)\n",
    "print('old depth qiskit', qiskit_circuit.depth())\n",
    "print('new depth qiskit',new_qiskit_circuit.depth())"
   ]
  },
  {
   "cell_type": "markdown",
   "metadata": {},
   "source": [
    "We can see that the IBM transpilation method gives a shorter depth than the one we have implemented in cirq. What happens if this is pre-prepared, ie already transpiled and given to our cirq functions?\n"
   ]
  },
  {
   "cell_type": "code",
   "execution_count": 11,
   "metadata": {},
   "outputs": [
    {
     "name": "stdout",
     "output_type": "stream",
     "text": [
      "qiskit transpiled circuit 45\n",
      "qiskit transpiled passed into cirq 79\n"
     ]
    }
   ],
   "source": [
    "new_circuit_from_qiskit = from_qiskit(new_qiskit_circuit)\n",
    "print('qiskit transpiled circuit',len(new_circuit_from_qiskit))\n",
    "circuit_new_2 = circuit_transpilation(new_circuit_from_qiskit)\n",
    "print('qiskit transpiled passed into cirq',len(circuit_new_2))"
   ]
  },
  {
   "cell_type": "markdown",
   "metadata": {},
   "source": [
    "It appears the best strategy would be for the used to qiskit transpilation outside of the function and pass the circuit already in the correct decomposition. With some argument specifying the circuit is in the correct basis already."
   ]
  },
  {
   "cell_type": "markdown",
   "metadata": {},
   "source": [
    "The next function takes a cirq circuit and extracts the information stored in the circuit, returning that information as an array. This makes many necessary steps in the CDR methods easier to implement, like completing gate substitutions for example."
   ]
  },
  {
   "cell_type": "code",
   "execution_count": 12,
   "metadata": {},
   "outputs": [],
   "source": [
    "def circuit_to_array(\n",
    "    circuit: QPROGRAM\n",
    ")-> np.ndarray:\n",
    "    '''Function to return the order of gates, their names and paramters in a more managable data structure than a Qiskit\n",
    "    quantum circuit.\n",
    "    \n",
    "    Args:\n",
    "        circ (QPROGRAM): cirq circuit (decomposed).\n",
    "        \n",
    "    Returns:\n",
    "        data (np.ndarray): np.array([order], [names], [parameters], [qubits])\n",
    "        where order is the order of the gates from 0 to depth, names are the names of the gates, parameters are the paramters \n",
    "        specifying the gates and qubits and cbits are the qubits and classical bits on which they act.\n",
    "        qubits (int): number of qubits.\n",
    "    '''\n",
    "    order=[]\n",
    "    gates_list = []\n",
    "    qubits_list = []\n",
    "    operation_list = []\n",
    "    parameters_list = []\n",
    "    depth = len(circuit)\n",
    "    nqubits = len(circuit.all_qubits())\n",
    "    operations = circuit.all_operations()\n",
    "    #loop through and construct arrays:\n",
    "    for i, operation in enumerate(operations):\n",
    "        operation_list.append(operation)\n",
    "        order.append(i)\n",
    "        qubits = operation.qubits\n",
    "        gate = operation.gate\n",
    "        if isinstance(gate, cirq.ops.common_gates.CXPowGate)==True:\n",
    "            qubit = [qubits[0], qubits[1]]\n",
    "            parameters =None\n",
    "            name = 'cx'\n",
    "            gates_list.append(name)\n",
    "            qubits_list.append(qubit)\n",
    "            #cbit_list.append(None)\n",
    "            parameters_list.append(parameters)\n",
    "        elif isinstance(gate, cirq.ops.common_gates.ZPowGate)==True:\n",
    "            #print(gate.exponent())\n",
    "            name = 'rz'\n",
    "            parameters = float(gate.exponent)*np.pi\n",
    "            gates_list.append(name)\n",
    "            qubit = qubits[0]\n",
    "            qubits_list.append(qubit)\n",
    "            #cbit_list.append(None)\n",
    "            parameters_list.append(float(parameters))\n",
    "        elif isinstance(gate, cirq.ops.common_gates.XPowGate)==True and gate != cirq.X:\n",
    "            name = 'rx'\n",
    "            parameters = np.pi/2\n",
    "            gates_list.append(name)\n",
    "            qubit = qubits[0]\n",
    "            qubits_list.append(qubit)\n",
    "            #cbit_list.append(None)\n",
    "            parameters_list.append(parameters)\n",
    "        elif gate == cirq.X:\n",
    "            parameters = None\n",
    "            name = 'x'\n",
    "            gates_list.append(name)\n",
    "            qubit = qubits[0]\n",
    "            qubits_list.append(qubit)\n",
    "            #cbit_list.append(None)\n",
    "            parameters_list.append(parameters)\n",
    "        elif isinstance(gate, cirq.ops.MeasurementGate) == True:\n",
    "            parameters = None\n",
    "            name='measure'\n",
    "            gates_list.append(name)\n",
    "            qubit = qubits[0]\n",
    "            qubits_list.append(qubit)\n",
    "            parameters_list.append(parameters)\n",
    "    \n",
    "    circuit_empty = circuit.copy()[0:0]\n",
    "    data = np.array([order, gates_list,  parameters_list, qubits_list, operation_list])\n",
    "    \n",
    "    return data, circuit_empty\n",
    "        "
   ]
  },
  {
   "cell_type": "markdown",
   "metadata": {},
   "source": [
    "We also need a function that takes this array and gives back a cirq quantum circuit, this function is below."
   ]
  },
  {
   "cell_type": "code",
   "execution_count": 13,
   "metadata": {},
   "outputs": [],
   "source": [
    "def array_to_circuit(\n",
    "    data: np.ndarray,\n",
    "    empty_circuit: QPROGRAM\n",
    ") -> QPROGRAM:\n",
    "    ''' Function that takes the data array containing all the circuit data and turns it into a quantum circuit.\n",
    "    \n",
    "    Args:\n",
    "        data: array containing circuit data np.array([order], [names], [parameters], [qubits], [operations]).\n",
    "        empty_cricuit: cirq object containing circuit structure. (empty circuit object)\n",
    "        \n",
    "    Returns:\n",
    "        circ: QPROGRAM (cirq quantum circuit)\n",
    "    \n",
    "    '''\n",
    "    name_list= data[1]\n",
    "    parameters_list = data[2]\n",
    "    qubits_list = data[3]\n",
    "    circuit = empty_circuit\n",
    "    operation_list = data[4]\n",
    "    #print(circuit)\n",
    "    #print('new circuit')\n",
    "    for i in range(len(name_list)):\n",
    "        name = name_list[i]\n",
    "        parameter = parameters_list[i]\n",
    "        qubit = qubits_list[i]\n",
    "        operation = operation_list[i]\n",
    "\n",
    "        #print(operation)\n",
    "        if name =='rz':\n",
    "            gate = cirq.ops.rz(parameter)\n",
    "            circuit.append(gate(qubit))\n",
    "        elif name =='rx':\n",
    "            gate = cirq.ops.rx(parameter)\n",
    "            circuit.append(gate(qubit))\n",
    "        elif name =='cx':\n",
    "            circuit.append(cirq.ops.CNOT(qubit[0], qubit[1]))\n",
    "        elif name =='x':\n",
    "            circuit.append(cirq.X(qubit))\n",
    "        elif name =='measure':\n",
    "            circuit.append([operation])\n",
    "    return(circuit)\n",
    "        "
   ]
  },
  {
   "cell_type": "code",
   "execution_count": 14,
   "metadata": {},
   "outputs": [],
   "source": [
    "# test that array transformation does not change circuit: (take out measuremenets)\n",
    "num_qubits = 2\n",
    "layers = 2\n",
    "measure = False\n",
    "circuit = cirq.circuits.Circuit(random_circuit(num_qubits,layers, measure))\n",
    "circuit_new = circuit_transpilation(circuit)\n",
    "circuit_array, empty_circuit =  circuit_to_array(circuit_new)\n",
    "circuit_from_array = array_to_circuit(circuit_array, empty_circuit)\n",
    "\n",
    "\n",
    "simulator = cirq.DensityMatrixSimulator()\n",
    "result_new = simulator.simulate(circuit_new)\n",
    "result = simulator.simulate(circuit_from_array)\n",
    "print(np.around(result.final_density_matrix, 3))\n",
    "print(np.around(result_new.final_density_matrix, 3))"
   ]
  },
  {
   "cell_type": "markdown",
   "metadata": {},
   "source": [
    "## Clifford based functions\n",
    "Here are the functions that check if a gate in our circuit is a Clifford gate and then use this information to complete projections and construct a training set."
   ]
  },
  {
   "cell_type": "code",
   "execution_count": 108,
   "metadata": {},
   "outputs": [],
   "source": [
    "def is_clifford_angle(\n",
    "    ang: float,\n",
    "    tol: float = 10 ** -5,\n",
    ")-> bool:\n",
    "    '''Function to check if a given angle is Clifford.\n",
    "    \n",
    "    Args:\n",
    "        ang: rotation angle in the Rz gate.\n",
    "        \n",
    "    Returns:\n",
    "        bool: True / False for Clifford or not. \n",
    "    '''\n",
    "    diff_list = []\n",
    "    for cliff_ang in CLIFFORD_ANGLES:\n",
    "        diff_list.append(abs(abs(ang) - cliff_ang) % (2 * np.pi))\n",
    "    if any(np.array(diff_list) <= tol):\n",
    "        return True\n",
    "    else:\n",
    "        return False\n",
    "    \n",
    "# Vectorize function so it can take arrays of angles as its input.\n",
    "is_clifford_angle = np.vectorize(is_clifford_angle)"
   ]
  },
  {
   "cell_type": "code",
   "execution_count": 16,
   "metadata": {},
   "outputs": [],
   "source": [
    "def closest_clifford(\n",
    "    ang: float\n",
    ")-> float:\n",
    "    '''Function to take angle and return the nearest Clifford angle note the usage of this function is vectorized\n",
    "    so it takes and returns arrays.\n",
    "    \n",
    "    Args:\n",
    "        ang: angle in Rz gate.\n",
    "        \n",
    "    Returns:\n",
    "        Clifford angle: closest clifford angle.\n",
    "    '''\n",
    "    cliff_angs = [np.pi/2, np.pi, np.pi*3/2, 2*np.pi]\n",
    "    diff_list=[]\n",
    "    for cliff_ang in cliff_angs:\n",
    "        diff_list.append(abs((ang)%(2*np.pi)-cliff_ang))\n",
    "    min_1 = min(diff_list)\n",
    "    # need to check that there are not two min values in list\n",
    "    diff_list_copy = diff_list.copy()\n",
    "    diff_list_copy.remove(min_1)\n",
    "    min_2 = min(diff_list_copy)\n",
    "    # if just one min value, return the corresponding nearest cliff.\n",
    "    if abs(min_1-min_2) > 10**(-8):\n",
    "        return (cliff_angs[diff_list.index(min(diff_list))])\n",
    "    # if two min values (ie two cliff gates equidistant) randomly choose the cliff gate to return.\n",
    "    else:\n",
    "        index_list = [diff_list.index(min_1), diff_list_copy.index(min_2)]\n",
    "        index = random.choice(index_list)\n",
    "        return(cliff_angs[index])\n",
    "\n",
    "# vectorize so function can take array of angles.\n",
    "closest_clifford = np.vectorize(closest_clifford)"
   ]
  },
  {
   "cell_type": "markdown",
   "metadata": {},
   "source": [
    "Below is the function that takes one circuit of interest and constructs a trianing set by randon projections. This means that a given number of the non-Clifford gates in the circuit are selected and projected to their closest Clifford gate leaving N non-Cliffords. This process is repeated, producing a set of randomly projected Clifford dominated circuits."
   ]
  },
  {
   "cell_type": "code",
   "execution_count": 17,
   "metadata": {},
   "outputs": [],
   "source": [
    "def make_training_circuits(\n",
    "    data: np.ndarray,\n",
    "    size: int ,\n",
    "    frac_N: float,\n",
    ")-> np.ndarray:\n",
    "    \"\"\"Function that takes the original circuit and creates a training set with a given number of non-cliffords and total size.\n",
    "    \n",
    "    Args:\n",
    "        data: data of the circuit of interst.\n",
    "        size: number of Clifford projected circuits to return (size of training set).\n",
    "        frac_N: fraction of non-Clifford gates to leave in each ciruit in the trianing set.\n",
    "    \n",
    "    Returns:\n",
    "        circ_data: list of data arrays for projected circuits.\n",
    "    \"\"\"\n",
    "    circ_data = []\n",
    "    mask_rz = data[1,:] == 'rz'\n",
    "    rz_circ_data = data[:, mask_rz]\n",
    "    mask_not_rz = data[1, :] != 'rz'\n",
    "    not_rz_circ_data = data[:, mask_not_rz]\n",
    "    mask_non_cliff = is_clifford_angle(rz_circ_data[2, :]) == False\n",
    "    rz_non_cliff = rz_circ_data[:, mask_non_cliff]\n",
    "    mask_cliff = is_clifford_angle(rz_circ_data[2, :]) == True\n",
    "    rz_cliff = rz_circ_data[:, mask_cliff]\n",
    "    tot_n_non_cliff = len(rz_non_cliff[0])\n",
    "    #print(tot_n_non_cliff)\n",
    "    N = int(frac_N * tot_n_non_cliff)\n",
    "    all_cliff = np.column_stack((not_rz_circ_data, rz_cliff))\n",
    "    #print(rz_non_cliff)\n",
    "    for s in range(size):\n",
    "        rz_non_cliff_copy = rz_non_cliff.copy()\n",
    "        random_columns = random.sample(np.arange(0, tot_n_non_cliff,1).tolist(), tot_n_non_cliff-N)\n",
    "        rand_rz_non_cliff_proj = rz_non_cliff_copy[:, random_columns]\n",
    "        #print(rz_non_cliff_copy)\n",
    "        rz_non_cliff_copy = np.delete(rz_non_cliff_copy, random_columns, axis=1)\n",
    "        rand_rz_non_cliff_proj[2,:] = closest_clifford(rand_rz_non_cliff_proj[2, :])\n",
    "        #print(rz_non_cliff_copy)\n",
    "        new_circ = np.column_stack((all_cliff, rand_rz_non_cliff_proj))\n",
    "        new_circ = np.column_stack((new_circ, rz_non_cliff_copy))\n",
    "        i = np.argsort(new_circ[0, :])\n",
    "        final = new_circ[:, i]\n",
    "        circ_data.append(final)\n",
    "    return(circ_data)"
   ]
  },
  {
   "cell_type": "code",
   "execution_count": 18,
   "metadata": {},
   "outputs": [],
   "source": [
    "def make_training_circuits_by_prob_proj(\n",
    "    data: np.ndarray,\n",
    "    size: int ,\n",
    "    frac_N: int,\n",
    "    sigma: float,\n",
    ")-> np.ndarray:\n",
    "    \"\"\"Function that takes the original circuit and creates a training set with a given number of non-cliffords and total size.\n",
    "    The Clifford gates to replace are chosen probabilistically according to the probabilitiy distribution:\n",
    "    \n",
    "                            Prob_project = exp(-(dist/sigma)^2)\n",
    "    \n",
    "    Where dist is the frobenius norm from powers of the S gate and the non-Clifford gate in consideration. The gate with which\n",
    "    to replace the gate of question in is also replaced according to this probability distribution.\n",
    "    \n",
    "    Args:\n",
    "        data: data of the circuit of interst.\n",
    "        size: number of Clifford projected circuits to return (size of training set).\n",
    "        N: Number of non-Clifford gates to leave in each ciruit in the trianing set.\n",
    "        sigma: the width of the probability distribution.\n",
    "    \n",
    "    Returns:\n",
    "        circ_data: list of data arrays for projected circuits.\n",
    "    \"\"\"\n",
    "    circ_data = []\n",
    "    mask_rz = data[1, :] == 'rz'\n",
    "    rz_circ_data = data[:, mask_rz]\n",
    "    mask_not_rz = data[1, :] != 'rz'\n",
    "    not_rz_circ_data = data[:,mask_not_rz]\n",
    "    mask_non_cliff = is_clifford_angle(rz_circ_data[2, :]) == False\n",
    "    rz_non_cliff = rz_circ_data[:, mask_non_cliff]\n",
    "    mask_cliff = is_clifford_angle(rz_circ_data[2, :]) == True\n",
    "    rz_cliff = rz_circ_data[:, mask_cliff]\n",
    "    tot_n_non_cliff = len(rz_non_cliff[0])\n",
    "    N = int(frac_N * tot_n_non_cliff)\n",
    "    #print(tot_n_non_cliff)\n",
    "    all_cliff = np.column_stack((not_rz_circ_data, rz_cliff))\n",
    "    for s in range(size):\n",
    "        rz_non_cliff_copy = rz_non_cliff.copy()\n",
    "        non_cliff_angles = rz_non_cliff_copy[2]\n",
    "        # form a probability distribution: \n",
    "        probabilities = angle_to_probabilities(non_cliff_angles, sigma)\n",
    "        prob_flip_gate = [k / sum(probabilities) for k in probabilities]\n",
    "        random_columns = np.random.choice(np.arange(0, tot_n_non_cliff,1).tolist(), tot_n_non_cliff - N, replace=False,\n",
    "                                            p=prob_flip_gate)\n",
    "        #Now we have the positions of the non-Cliffords to change we need to change them probabilistically as well:\n",
    "        rand_rz_non_cliff_proj = rz_non_cliff_copy[:, random_columns]\n",
    "        #print(rz_non_cliff_copy)\n",
    "        rz_non_cliff_copy = np.delete(rz_non_cliff_copy, random_columns, axis=1)\n",
    "        rand_rz_non_cliff_proj[2,:] = probabilistic_angle_to_clifford(rand_rz_non_cliff_proj[2,:], sigma)\n",
    "        #print(rz_non_cliff_copy)\n",
    "        new_circ = np.column_stack((all_cliff, rand_rz_non_cliff_proj))\n",
    "        new_circ = np.column_stack((new_circ, rz_non_cliff_copy))\n",
    "        i = np.argsort(new_circ[0, :])\n",
    "        final = new_circ[:,i]\n",
    "        circ_data.append(final)\n",
    "    return(circ_data)"
   ]
  },
  {
   "cell_type": "code",
   "execution_count": 19,
   "metadata": {},
   "outputs": [],
   "source": [
    "def angle_to_probabilities(\n",
    "    angle: float,\n",
    "    sigma: float\n",
    ")-> float:\n",
    "    \"\"\"Function to return probability distribution based on distance from angles to Clifford gates.\n",
    "    \n",
    "    Args:\n",
    "        angle: angle to form probability distribution. \n",
    "    \n",
    "    Returns:\n",
    "        discrete value of probability distribution calucalted from Prob_project = exp(-(dist/sigma)^2) where dist = sum(dists)\n",
    "        is the sum of distances from each Clifford gate.\n",
    "    \"\"\"\n",
    "    S = np.array([[1, 0.0], [0.0, 1j]])\n",
    "    Rz = np.array([[1, 0.0], [0.0, np.exp(angle*1j)]])\n",
    "    dists = []\n",
    "    for i in range(4):\n",
    "        i += 1\n",
    "        diff = np.linalg.norm(Rz - S ** (i))\n",
    "        dists.append(np.exp(-(diff / sigma) ** 2))\n",
    "    return(sum(dists))\n",
    "\n",
    "# vectorize so function can take array of angles.\n",
    "angle_to_probabilities = np.vectorize(angle_to_probabilities)"
   ]
  },
  {
   "cell_type": "code",
   "execution_count": 20,
   "metadata": {},
   "outputs": [],
   "source": [
    "def probabilistic_angle_to_clifford(\n",
    "    ang: float,\n",
    "    sigma: float,\n",
    ")-> float:\n",
    "    '''Function to take angle and return the Clifford angle according to the probability distirbution:\n",
    "                        \n",
    "                        prob = exp(-(dist/sigma)^2)\n",
    "                        \n",
    "    where dist is the frobenius norm from the 4 clifford angles and the gate of interest. Note the usage of this function\n",
    "    is vectorized so it takes and returns arrays.\n",
    "    \n",
    "    Args:\n",
    "        ang: angle in Rz gate.\n",
    "        sigma: width of probability distribution.\n",
    "        \n",
    "    Returns:\n",
    "        Clifford angle: clifford angle to replace gate angle, calculated probabilistically.\n",
    "    '''\n",
    "    S = np.array([[1, 0.0],[0.0, 1j]])\n",
    "    Rz = np.array([[1, 0.0],[0.0, np.exp(ang*1j)]])\n",
    "    dists=[]\n",
    "    for i in range(4):\n",
    "        i += 1\n",
    "        diff = np.linalg.norm(Rz - S** (i))\n",
    "        dists.append(np.exp(-(diff/sigma) ** 2))\n",
    "    prob_gate = [i/sum(dists) for i in dists]\n",
    "    cliff_ang = np.random.choice(CLIFFORD_ANGLES, 1, replace=False, p=prob_gate)\n",
    "    return(cliff_ang)\n",
    "\n",
    "# vectorize so function can take array of angles.\n",
    "probabilistic_angle_to_clifford = np.vectorize(probabilistic_angle_to_clifford)"
   ]
  },
  {
   "cell_type": "markdown",
   "metadata": {},
   "source": [
    "Now we have got the training circuits constructed lets define the way we increase the noise:"
   ]
  },
  {
   "cell_type": "code",
   "execution_count": 21,
   "metadata": {},
   "outputs": [],
   "source": [
    "def scale_circuit_noise(\n",
    "    circuit: QPROGRAM, \n",
    "    scale_factor: int\n",
    ")-> QPROGRAM:\n",
    "    '''Function to scale the noise in the same manner to all circuits - circuit of interest and circuits in trianing set.\n",
    "    \n",
    "    Args:\n",
    "        circ: circuit object\n",
    "        scale_factor: the scale factor with which to scale the noise level.\n",
    "        \n",
    "    Returns:\n",
    "        folded_circ: the new circuit with increased noise.\n",
    "    '''\n",
    "    # Just going to put one example of noise increasing here, this needs to be generalised. \n",
    "    folded_circ = fold_gates_at_random( circuit, scale_factor=scale_factor, fidelities={\"single\": 1.0,\n",
    "                                       \"CNOT\": 0.99})\n",
    "    return(folded_circ)"
   ]
  },
  {
   "cell_type": "markdown",
   "metadata": {},
   "source": [
    "## Utility functions for Qiskit \n",
    "Here we define some functions that are important to extract the desired quantities from the Qiskit simulation/ real device data."
   ]
  },
  {
   "cell_type": "code",
   "execution_count": 22,
   "metadata": {},
   "outputs": [],
   "source": [
    "def binarize(\n",
    "    decimal: float, \n",
    "    L: int\n",
    ")-> float:\n",
    "    \"\"\"Converts a decimal number <=2**L to binary. It is used to make the qiskit convention and the usual \n",
    "    description of the basis of an L-spin system compatible.\n",
    "    \n",
    "    Args:\n",
    "        decimal: (float) Number in base 10 to be converted to binary.\n",
    "        L: (float) Total number of qubits in the system.\n",
    "        \n",
    "    Returns:\n",
    "        (string) Number described by the parameter 'decimal' in binary.\n",
    "    \"\"\"\n",
    "    binario = np.zeros(L)\n",
    "    bin = ''\n",
    "    for i in range(L):\n",
    "        binario[L - 1 - i] = decimal % 2\n",
    "        decimal = decimal // 2\n",
    "        bin = bin + str(binario.astype(int)[L - 1 - i])\n",
    "\n",
    "    return bin[::-1]"
   ]
  },
  {
   "cell_type": "code",
   "execution_count": 23,
   "metadata": {},
   "outputs": [],
   "source": [
    "def expected_value(\n",
    "    Obs: np.ndarray,\n",
    "    state: dict\n",
    ")-> float:\n",
    "    \"\"\"Calculates the expected value of a diagonal observable.\n",
    "    \n",
    "    Args:\n",
    "        Obs: (numpy.array) Observable in the form of a diagonal matrix.\n",
    "        state: (dict) Dictionary describing the state of the system on which the expected value of the observable is to\n",
    "        be calculated.\n",
    "        \n",
    "    Returns:\n",
    "        (float) Expected value <state|Obs|state>.\n",
    "    \"\"\"\n",
    "    obs = sum([Obs[i, i] * list(state.values())[i] for i in range(np.shape(Obs)[0])])\n",
    "    return obs\n"
   ]
  },
  {
   "cell_type": "code",
   "execution_count": 24,
   "metadata": {},
   "outputs": [],
   "source": [
    "def state_counts(\n",
    "    counts: dict\n",
    ")-> dict:\n",
    "    \"\"\"Expresses the result of the simulation in the usual way, that is, in the form of a dictionary whose values are\n",
    "    the module squared of the components of the final state.\n",
    "    \n",
    "    Args:\n",
    "        counts: (dict) Dictionary included in Qiskit result class that allows that allows to get the histogram\n",
    "        data of an experiment.\n",
    "        \n",
    "    Returns:\n",
    "        state (dict) Dictionary whose keys are the base elements of the L qubit system and whose values are the\n",
    "        modulus of the corresponding squared amplitudes.\n",
    "    \"\"\"\n",
    "    L = len(list(counts)[0])\n",
    "    basis = {i: binarize(i, L) for i in range(2 ** L)}\n",
    "    counts_order = [0 for i in range(2 ** L)]\n",
    "    for i in range(len(basis)):\n",
    "        for j in range(len(counts)):\n",
    "            if list(basis.values())[i] == list(counts)[j][::-1]:\n",
    "                counts_order[i] = list(counts.values())[j]\n",
    "    normalization = 0\n",
    "    for i in range(2 ** L):\n",
    "        normalization += counts_order[i]\n",
    "\n",
    "    state = {list(basis.values())[i]: counts_order[i] / normalization for i in range(2 ** L)}\n",
    "    return state\n",
    "\n"
   ]
  },
  {
   "cell_type": "code",
   "execution_count": 25,
   "metadata": {},
   "outputs": [],
   "source": [
    "def magnetization(\n",
    "    j: float, \n",
    "    L: float\n",
    ")-> sci.sparse.csc_matrix:\n",
    "    \"\"\"Generation of the local magnetization (sigma_z) operator.\n",
    "    \n",
    "    Args:\n",
    "        j: (float) Label of the qubit on which its magnetization is to be calculated.\n",
    "        L: (float) Total number of qubits in the system.\n",
    "        \n",
    "    Returns:\n",
    "        Hz (scipy.sparse.csc_matrix of dimension 2**L) Magnetization operator for qubit j in matrix form\n",
    "    \"\"\"\n",
    "    sigmaz = scs.csc_matrix([[1, 0], [0, -1]])\n",
    "    Id = scs.identity(2,format='csc')\n",
    "    Hz = scs.csc_matrix((2**L, 2**L))\n",
    "    Hzj = Id\n",
    "    if j == 0:\n",
    "        Hzj = sigmaz\n",
    "    for i in range(L - 1):\n",
    "        if i < j - 1:\n",
    "            Hzj = scs.kron(Hzj, Id, format='csc')\n",
    "        elif i == j - 1:\n",
    "            Hzj = scs.kron(Hzj, sigmaz, format='csc')\n",
    "        elif j - 1 < i < L - 1:\n",
    "            Hzj = scs.kron(Hzj, Id, format='csc')\n",
    "    Hz = Hz + Hzj\n",
    "    return Hz\n"
   ]
  },
  {
   "cell_type": "markdown",
   "metadata": {},
   "source": [
    "## Execute and Simulate functions\n",
    "Here we define the functions that execute a given circuit on a 'real' device (in this case we use a simulated device with a given noise model), and execute a circuit on a exact simulator. These two functions are then used to build the training set data, consisting of exact and noisy expectation values.\n",
    "\n",
    "Here the executor takes any circuit and runs it on a simulation of the IBMQ Bogota computer, with a simulated noise model. The float that is returned is the expectation value of the $\\sigma_{z}$ observable at some position. \n"
   ]
  },
  {
   "cell_type": "code",
   "execution_count": 26,
   "metadata": {},
   "outputs": [],
   "source": [
    "def executor(\n",
    "    circuit: QPROGRAM,\n",
    ")-> float:\n",
    "    '''\n",
    "    Function to run my noisey circuits, being treated as real backend. Measures <sigma_z> on first qubit,\n",
    "    assuming all qubits are measured.\n",
    "    \n",
    "    Args: \n",
    "        circ: quantum circuit to be evaluated.    \n",
    "        noise_model: qiskit noise model to run with simulation.\n",
    "        \n",
    "    Returns:\n",
    "        <sigma_z>: returns the observable at the given position with simulated device noise.\n",
    "    '''\n",
    "    \n",
    "    # extracting the basis gates:\n",
    "    device = 'ibmq_valencia'\n",
    "    try:\n",
    "        real_device = provider.get_backend(device)\n",
    "        coupling_map = real_device.configuration().coupling_map\n",
    "        noise_model = aern.NoiseModel.from_backend(real_device)\n",
    "        basis_gates = noise_model.basis_gates\n",
    "    except:\n",
    "        real_device = provider.get_backend(device)\n",
    "        coupling_map = real_device.configuration().coupling_map\n",
    "        noise_model = aern.NoiseModel.from_backend(real_device)\n",
    "        basis_gates = noise_model.basis_gates\n",
    "    \n",
    "    # Create an empty noise model\n",
    "    noise_model = NoiseModel()\n",
    "    \n",
    "    #add bit flip and phase flip:\n",
    "    p_error = 0.05\n",
    "    bit_flip = pauli_error([('X', p_error), ('I', 1 - p_error)])\n",
    "    phase_flip = pauli_error([('Z', p_error), ('I', 1 - p_error)])\n",
    "    error_bpf = bit_flip.compose(phase_flip)\n",
    "    \n",
    "    # Add depolarizing error to all single qubit u1, u2, u3 gates\n",
    "    error_dp = depolarizing_error(0.05, 1)\n",
    "    error_2 = error_dp.compose(error_bpf)\n",
    "    \n",
    "    # add thermal relaxation error: \n",
    "    error_tr = thermal_relaxation_error(60 * 10 ** (-6),80 * 10 ** (-6), 0.1)\n",
    "    \n",
    "    #make 2 qubit error:\n",
    "    error_2_qubit = error_2.tensor(error_2)\n",
    "    error = error_dp.compose(error_tr)\n",
    "    \n",
    "    #readout error:\n",
    "    error_ro = ReadoutError([[1 - 0.05, 0.05], [0.1, 1 - 0.1]])\n",
    "    \n",
    "    # construct noise model:\n",
    "    noise_model.add_all_qubit_quantum_error(error_2_qubit, ['cx'])\n",
    "    noise_model.add_all_qubit_quantum_error(error_2, ['rx', 'rz'])\n",
    "    noise_model.add_all_qubit_readout_error(error_ro, ['measure'])\n",
    "    \n",
    "    job = execute(circuit, Aer.get_backend('qasm_simulator'),\n",
    "              optimization_level=0, shots=8192, noise_model=noise_model, \n",
    "                  basis_gates=basis_gates)\n",
    "    result = job.result()\n",
    "    counts = result.get_counts()\n",
    "    counts = {k.replace(' ', ''): v for k, v in counts.items()}\n",
    "    state = state_counts(counts)\n",
    "    return(counts)"
   ]
  },
  {
   "cell_type": "markdown",
   "metadata": {},
   "source": [
    "The simulator function is the same as the executor but returns exact results (up to shot noise)."
   ]
  },
  {
   "cell_type": "code",
   "execution_count": 27,
   "metadata": {},
   "outputs": [],
   "source": [
    "def simulator(\n",
    "    circuit: QPROGRAM, \n",
    ")-> dict:\n",
    "    '''Function to run my noisey circuits, being treated as real backend. Measures <sigma_z> on a given qubit specified\n",
    "    by the position variable assuming all qubits are measured.\n",
    "    \n",
    "    Args: \n",
    "        circ: quantum circuit to be evaluated. \n",
    "        \n",
    "    Returns:\n",
    "        dict: dictionary of counts.\n",
    "        <sigma_z>: returns the exact observable at the given position but includes shot noise.\n",
    "    '''\n",
    "    job = execute(circuit, Aer.get_backend('qasm_simulator'),\n",
    "              optimization_level=0, shots=8192)\n",
    "    result = job.result()\n",
    "    counts = result.get_counts()\n",
    "    counts = {k.replace(' ', ''): v for k, v in counts.items()}\n",
    "    return(counts)"
   ]
  },
  {
   "cell_type": "code",
   "execution_count": 28,
   "metadata": {},
   "outputs": [],
   "source": [
    "def calculate_observable(\n",
    "    counts: dict,\n",
    "    qubits: int,\n",
    "    position: int\n",
    ")-> float:\n",
    "    ''' Funtion which is user defined to calculate the desired observable from a dictionary of counts, can take any user\n",
    "        defined arguments but needs have the output of user defined executor and simulator functions and\n",
    "        to output the value for the observable of interest.\n",
    "    \n",
    "    Args:\n",
    "        counts: dictionary of counts as outputted by the qiskit experiment.\n",
    "        qubits: size of system. \n",
    "        position: position of desired observable of interest.\n",
    "    \n",
    "    Returns:\n",
    "        float: value of observable as calculated from the counts.\n",
    "    '''\n",
    "    # in this case we are interested in the magnetisation, the functions below are also user defined.\n",
    "    obs = magnetization(position, qubits)\n",
    "    state = state_counts(counts)\n",
    "    sigma_z = expected_value(obs, state)\n",
    "    return(sigma_z)"
   ]
  },
  {
   "cell_type": "markdown",
   "metadata": {},
   "source": [
    "With these two functions the training set data can then be generated by passing the training circuits through the exector and simulator functions. Note that due to the currrent definition of these functions each observable will have its own training set used for correction. This means to correct each observable $M$ circuits will need to be evaluated classically and on the real device. In reality this might not be neccesary. One training set could be used to correct many observables (as long as the circuit of interest is not affected by their evaluation, ie many observables diagonal in the z basis could be corrected from the same training set potentially). \n",
    "\n",
    "However, in this tutorial we are only looking at one particular observable, $\\sigma_{z}$ at some provided position, so the way the executor and simulator are defined here is sufficient."
   ]
  },
  {
   "cell_type": "code",
   "execution_count": 29,
   "metadata": {},
   "outputs": [],
   "source": [
    "def generate_training_set(\n",
    "    circuit: QPROGRAM, \n",
    "    scale_factors: list, \n",
    "    M: int, \n",
    "    frac_N: float,\n",
    "    sigma: float,\n",
    "    observable_list: list\n",
    ")-> np.ndarray:\n",
    "    '''Function that takes a circuit of interest and the position of sigma_z observable and paramters to construct the training\n",
    "    set, returns an array of the training data.\n",
    "    \n",
    "    Args: \n",
    "        circ: circuit of interest.\n",
    "        scale_factors: scale factors to increase the noise.\n",
    "        M: size of training set. \n",
    "        frac_N: fraction of number of non-Cliffords to be left per circuit in training set.\n",
    "        sigma: width of probability distribution used in probabilistic training set construction.\n",
    "        observable_list: list of list of parameters to be passed to user defined caluclate observable function. \n",
    "        \n",
    "    Returns:\n",
    "        training_data: number of observables by M by (scale_factors+1) array containing exact and noisy observables at different scale factors. \n",
    "    '''\n",
    "    if circuit_type_conversion_functions(circuit):\n",
    "        conversion_from, conversion_to = circuit_type_conversion_functions(circuit)\n",
    "        \n",
    "    else: \n",
    "        def conversion_from(circuit):\n",
    "            return(circuit)\n",
    "        \n",
    "        def conversion_to(circuit):\n",
    "            return(circuit)\n",
    "    circuit = conversion_from(circuit)\n",
    "    circ_data, empty_circuit = circuit_to_array(circuit)\n",
    "    if sigma == None:\n",
    "        training_circ_data = make_training_circuits(circ_data, M, frac_N)\n",
    "    else:\n",
    "        training_circ_data = make_training_circuits_by_prob_proj(circ_data, M, frac_N, sigma)\n",
    "    training_data = np.zeros((len(observable_list), M, 1 + len(scale_factors)))\n",
    "    for o, observable_parameters in enumerate(observable_list):\n",
    "        for i in range(len(training_circ_data)):\n",
    "            empty_circuit_copy = empty_circuit.copy()\n",
    "            train_circ = array_to_circuit(training_circ_data[i], empty_circuit_copy)\n",
    "            train_circ = conversion_to(train_circ)\n",
    "            # storing calculated observables:\n",
    "            training_data[o, i, 0] = calculate_observable(simulator(train_circ), *observable_parameters)\n",
    "            for s, scale_factor in enumerate(scale_factors):\n",
    "                noise_inc_circ = scale_circuit_noise(train_circ, scale_factor)\n",
    "                #storing dictionary of counts with noise:\n",
    "                training_data[o, i, s + 1] = calculate_observable(executor(noise_inc_circ), *observable_parameters)\n",
    "    return(training_data)        "
   ]
  },
  {
   "cell_type": "markdown",
   "metadata": {},
   "source": [
    "## Regression functions\n",
    "Below we have the functions that take the training set produced above and fit it with the vnCDR and CDR ansatzes. The fitting is done using the package sklearn for ease of use, but this can be replaced if so desired."
   ]
  },
  {
   "cell_type": "code",
   "execution_count": 30,
   "metadata": {},
   "outputs": [],
   "source": [
    "def mitigate_with_vncdr(\n",
    "    train_data: np.ndarray, \n",
    "    circ_data: np.ndarray,\n",
    ")->float:\n",
    "    '''Function that uses the training data to perform a regression and return the best fit variables the ansatz used is \n",
    "    a simple linear model. \n",
    "    \n",
    "    Args: \n",
    "        train_data: Data from Clifford circuits used to train the model. \n",
    "        circ_data: Data from actual circuit of interest which the trained model is then used to mitigate.\n",
    "        \n",
    "    Returns:\n",
    "        corrected: mitigated value caluclated using the provided training set.\n",
    "    '''\n",
    "    reg = linear_model.LinearRegression(fit_intercept=False)\n",
    "    \n",
    "    X_train = np.array(train_data[:, 1:])\n",
    "    y_train = np.array(train_data[:, 0])\n",
    "    X_test = circ_data\n",
    "    X_test.reshape(1, -1)\n",
    "    reg.fit(X_train, y_train)\n",
    "    corr = reg.predict([X_test])\n",
    "    return corr[0]"
   ]
  },
  {
   "cell_type": "markdown",
   "metadata": {},
   "source": [
    "Note below only one noise level is used in the mitigation, as required for CDR."
   ]
  },
  {
   "cell_type": "code",
   "execution_count": 31,
   "metadata": {},
   "outputs": [],
   "source": [
    "def mitigate_with_cdr(\n",
    "    train_data: np.ndarray, \n",
    "    circ_data: np.ndarray,\n",
    ")-> float:\n",
    "    '''Function that uses the training data to perform a regression and return the best fit variables using oly one noise level.\n",
    "    \n",
    "    Args:\n",
    "        train_data: Data from Clifford circuits used to train simple linear anstaz (only one noise level used here).\n",
    "        circ_data: Data from actual circuit of interest which is mitigated by the trained model.\n",
    "        \n",
    "    Returns:\n",
    "        corrected: mitigated observable.\n",
    "    '''\n",
    "    reg = linear_model.LinearRegression(fit_intercept=True)\n",
    "    X_train = np.array(train_data[:, 1]).reshape(-1, 1)\n",
    "    y_train = np.array(train_data[:, 0]).reshape(-1, 1)\n",
    "    X_test = circ_data.reshape(1, -1)\n",
    "    reg.fit(X_train, y_train)\n",
    "    corr = reg.coef_[0] * circ_data + reg.intercept_[0]\n",
    "    return corr[0]"
   ]
  },
  {
   "cell_type": "markdown",
   "metadata": {},
   "source": [
    "Now all the functions have been defined we can generate the real data for the circuit of interest at various noise levels."
   ]
  },
  {
   "cell_type": "code",
   "execution_count": 32,
   "metadata": {},
   "outputs": [],
   "source": [
    "def circuit_type_conversion_functions(\n",
    "    circuit:QPROGRAM\n",
    ")-> function:\n",
    "    '''Function to take a circuit and output the neccesary conversion functions to move too and from the circuit to mitiq.\n",
    "    \n",
    "    Args:\n",
    "        circuit: quantum progmam to run. \n",
    "    \n",
    "    Returns:\n",
    "        from_circuit_type_to_mitiq: function\n",
    "        from_mitiq_to_circuit_type: function\n",
    "    '''\n",
    "    package = circuit.__module__\n",
    "    if \"qiskit\" in package:\n",
    "        from mitiq.mitiq_qiskit.conversions import from_qiskit, to_qiskit\n",
    "        return(from_qiskit, to_qiskit)\n",
    "    elif \"pyquil\" in package:\n",
    "        from mitiq.mitiq_pyquil.conversions import from_pyquil, to_pyquil\n",
    "        return(from_qiskit, to_pyquil)\n",
    "        input_circuit_type = \"pyquil\"\n",
    "    elif isinstance(circuit, cirq.circuits.Circuit):\n",
    "        input_circuit_type = \"cirq\"\n",
    "        return()"
   ]
  },
  {
   "cell_type": "code",
   "execution_count": 33,
   "metadata": {},
   "outputs": [],
   "source": [
    "def circuit_data(\n",
    "    circuit: QPROGRAM,\n",
    "    scale_factors:list,\n",
    "    observable_list\n",
    ")-> np.ndarray:\n",
    "    '''Function that takes a circuit of interest and observable position and returns the observable at scaled noise values.\n",
    "    \n",
    "    Args:\n",
    "        circ: circuit of interest.\n",
    "        scale_factors: list of factors with which to scale the noise.\n",
    "        observable_list: list of list of parameters specifying observables to calculate from counts.\n",
    "        \n",
    "    Returns:\n",
    "        circ_data: array of observables at increasing noise strength.\n",
    "    '''\n",
    "    circ_data = np.zeros((len(observable_list), len(scale_factors)))\n",
    "    if circuit_type_conversion_functions(circuit):\n",
    "        conversion_from, conversion_to = circuit_type_conversion_functions(circuit)\n",
    "        \n",
    "    else: \n",
    "        def conversion_from(circuit):\n",
    "            return(circuit)\n",
    "        \n",
    "        def conversion_to(circuit):\n",
    "            return(circuit)\n",
    "    for o, observable_parameters in enumerate(observable_list):\n",
    "        for s, scale_factor in enumerate(scale_factors):\n",
    "            noise_inc_circ = scale_circuit_noise(circuit, scale_factor)\n",
    "            circ_data[o, s] = calculate_observable(executor(noise_inc_circ), *observable_parameters)\n",
    "    return circ_data\n",
    "    "
   ]
  },
  {
   "cell_type": "code",
   "execution_count": 34,
   "metadata": {},
   "outputs": [],
   "source": [
    "def run_clifford_data_mitigation(\n",
    "    circuit: QPROGRAM, \n",
    "    scale_factors: list, \n",
    "    M: int, \n",
    "    frac_N: int,\n",
    "    observable_list: list,\n",
    "    sigma: float= None\n",
    ")-> list:\n",
    "    '''Function that takes a circuit and scale factors and returns the vnCDR and CDR mitigations as well as the raw result.\n",
    "    \n",
    "    Args:\n",
    "        circ: quantum circuit of interest. \n",
    "        position: position of sigma_z observable.\n",
    "        scale_factors: scale factors with which to increase the noise.\n",
    "        M: size of the training set used in CDR and vnCDR. \n",
    "        N: fraction of non-Clifford gates to remain per circuit in the training set.\n",
    "        sigma: the width of the probability distribution for probabilistic projection (if None, random projection used).\n",
    "        observable_list = list of parameters to be passed to the user defined calculate observable function.\n",
    "        \n",
    "    Returns:\n",
    "        vnCDR_mit: array of results mitigated by vnCDR. \n",
    "        CDR_mit: array of results mitigated by CDR.\n",
    "        circ_data: array of raw noisy results.\n",
    "        training-data: array of calculated obs in the trianing set.\n",
    "    '''\n",
    "    # arrays to store the values of the observables:\n",
    "    vnCDR_mit = np.zeros((len(observable_list)))\n",
    "    CDR_mit = np.zeros((len(observable_list)))\n",
    "    \n",
    "    # generate the counts:\n",
    "    training_data = generate_training_set(circuit,scale_factors, M, frac_N, sigma, observable_list)\n",
    "    circ_data = circuit_data(circuit, scale_factors, observable_list)\n",
    "    \n",
    "    # mitigate the observables:\n",
    "    for o, obs_parameters in enumerate(observable_list):\n",
    "        if len(scale_factors) !=1:\n",
    "            vnCDR_mit[o] = mitigate_with_vncdr(training_data[o,:,:], circ_data[o,:])\n",
    "        else:\n",
    "            vnCDR_mit[o] = None\n",
    "        CDR_mit[o] = mitigate_with_cdr(training_data[o,:,:], circ_data[o,0])\n",
    "        \n",
    "    return vnCDR_mit, CDR_mit, circ_data, training_data\n",
    "    "
   ]
  },
  {
   "cell_type": "code",
   "execution_count": 35,
   "metadata": {},
   "outputs": [],
   "source": [
    "def abs_error(\n",
    "    val_1: float, \n",
    "    val_2:float\n",
    ")->float:\n",
    "    '''Function to calculated the absolute error between two floats\n",
    "    \n",
    "    Args:\n",
    "        val_1: noisy/ mitigated observable. \n",
    "        val_2: exact observable.\n",
    "        \n",
    "    Returns:\n",
    "        absolute error.\n",
    "    '''\n",
    "    return abs(val_1-val_2)/abs(val_2)\n",
    "abs_error = np.vectorize(abs_error)"
   ]
  },
  {
   "cell_type": "markdown",
   "metadata": {},
   "source": [
    "Now having defined all these functions we can tie them together and compare the performance for the RQC constructed at the beginning of this notebook.\n",
    "\n",
    "First lets define the parameters we will use, in order to do this we should check how many non-Clifford gates there are in our original decomposed circuit of interest:"
   ]
  },
  {
   "cell_type": "code",
   "execution_count": 36,
   "metadata": {},
   "outputs": [],
   "source": [
    "def count_non_cliffords(\n",
    "    circuit: QPROGRAM,\n",
    ") -> float:\n",
    "    '''Function to check how many non-Clifford gates are in a give circuit.\n",
    "    \n",
    "    Args: \n",
    "        circuit: some quantum circuit.\n",
    "        \n",
    "    Returns: \n",
    "        number of non-Clifford gates in the given circuit.\n",
    "    '''\n",
    "    data, _ = circuit_to_array(circuit)\n",
    "    mask_rz = data[1, :] == 'rz'\n",
    "    rz_circ_data = data[:, mask_rz]\n",
    "    mask_not_rz = data[1, :] != 'rz'\n",
    "    not_rz_circ_data = data[:, mask_not_rz]\n",
    "    mask_non_cliff = is_clifford_angle(rz_circ_data[2, :]) == False\n",
    "    rz_non_cliff = rz_circ_data[:,mask_non_cliff]\n",
    "    return(len(rz_non_cliff[0]))"
   ]
  },
  {
   "cell_type": "markdown",
   "metadata": {},
   "source": [
    "We need to use a smaller number than the above result and lets just assume we are only interested in the $\\sigma_{z}$ of the 1st qubit, so lets take the following, also becuase the execute a simulator functions are still using a IBMQ backend we need to declare a provider:"
   ]
  },
  {
   "cell_type": "code",
   "execution_count": 37,
   "metadata": {},
   "outputs": [
    {
     "name": "stderr",
     "output_type": "stream",
     "text": [
      "C:\\Users\\Max\\Anaconda3\\envs\\TNS\\lib\\site-packages\\qiskit\\providers\\ibmq\\ibmqfactory.py:192: UserWarning: Timestamps in IBMQ backend properties, jobs, and job results are all now in local time instead of UTC.\n",
      "  warnings.warn('Timestamps in IBMQ backend properties, jobs, and job results '\n"
     ]
    }
   ],
   "source": [
    "IBMQ.load_account()\n",
    "provider = IBMQ.get_provider(hub='ibm-q-csic', group='internal', project='ift-csic')"
   ]
  },
  {
   "cell_type": "code",
   "execution_count": 113,
   "metadata": {},
   "outputs": [
    {
     "name": "stdout",
     "output_type": "stream",
     "text": [
      "Non Cliffords 8\n",
      "Depth 24\n"
     ]
    }
   ],
   "source": [
    "num_qubits =4\n",
    "layers = 1\n",
    "\n",
    "measure = True\n",
    "circuit = cirq.circuits.Circuit(random_circuit(num_qubits,layers, measure))\n",
    "\n",
    "# use qiskit transpilation as results in shorter depth circuit:\n",
    "circuit_new = qiskit_circuit_transplation(to_qiskit(circuit))\n",
    "circuit_new = from_qiskit(circuit_new)\n",
    "print('Non Cliffords', count_non_cliffords(circuit_new))\n",
    "\n",
    "# fix parameters for CDR:\n",
    "scale_factors = [1.0, 2.0, 3.0]\n",
    "M = 30\n",
    "\n",
    "# fraction of non-Clifford gates to leave:\n",
    "frac_N = 0.3\n",
    "\n",
    "# executor and simulator fucntions are defined in qiskit, so lets switch type:\n",
    "circuit_new = to_qiskit(circuit_new)\n",
    "\n",
    "# use qiskit transpilationg functions:\n",
    "print('Depth', circuit_new.depth())"
   ]
  },
  {
   "cell_type": "markdown",
   "metadata": {},
   "source": [
    "Need to define which observables im interested in correcting. I want to correct the magnetisation ($\\sigma_{z}$) of every qubit in the circuit. So I need to define a list of lists, which elementally specify the arguments for my calculate_observable function to take:"
   ]
  },
  {
   "cell_type": "code",
   "execution_count": 114,
   "metadata": {},
   "outputs": [
    {
     "name": "stdout",
     "output_type": "stream",
     "text": [
      "observable list ([qubits, position]): [[4, 0], [4, 1], [4, 2], [4, 3]]\n"
     ]
    }
   ],
   "source": [
    "observable_list = []\n",
    "for q in range(num_qubits):\n",
    "    ls = [num_qubits, q]\n",
    "    observable_list.append(ls)\n",
    "print('observable list ([qubits, position]):', observable_list)"
   ]
  },
  {
   "cell_type": "markdown",
   "metadata": {},
   "source": [
    "Now lets execute the vnCDR and CDR mitigation methods. Note this may take some time due to the construction of the training set."
   ]
  },
  {
   "cell_type": "code",
   "execution_count": 115,
   "metadata": {},
   "outputs": [
    {
     "name": "stdout",
     "output_type": "stream",
     "text": [
      "Data regression underway\n",
      "Running exact simulation (with shot noise)\n",
      "Finished\n"
     ]
    }
   ],
   "source": [
    "print('Data regression underway')\n",
    "vnCDR_mit, CDR_mit, noisy, training_data = run_clifford_data_mitigation(circuit_new, scale_factors, M, frac_N, observable_list)\n",
    "print('Running exact simulation (with shot noise)')\n",
    "exact = np.zeros((len(observable_list)))\n",
    "for o, observable_parameters in enumerate(observable_list):\n",
    "    exact[o] = calculate_observable(simulator(circuit_new), *observable_parameters)\n",
    "print('Finished')"
   ]
  },
  {
   "cell_type": "code",
   "execution_count": 116,
   "metadata": {},
   "outputs": [
    {
     "name": "stdout",
     "output_type": "stream",
     "text": [
      "exact [-0.21875    -0.2487793  -0.23876953 -0.12744141]\n",
      "noisy [-0.04956055 -0.05981445  0.00170898 -0.08447266]\n",
      "vnCDR mitigated [-0.24953193 -0.16019227 -0.19473487 -0.03978981]\n",
      "CDR mitigated [-0.28712983 -0.22648297 -0.21546508 -0.05419064]\n"
     ]
    }
   ],
   "source": [
    "print('exact',exact)\n",
    "print('noisy', noisy[:,0])\n",
    "print('vnCDR mitigated', vnCDR_mit)\n",
    "print('CDR mitigated', CDR_mit)"
   ]
  },
  {
   "cell_type": "markdown",
   "metadata": {},
   "source": [
    "Lets have a look at the observables in the training set that are used to understand the noise. This is often an important step in investigating how effective the training set construction method is, and if the mitigation can be improved."
   ]
  },
  {
   "cell_type": "code",
   "execution_count": 117,
   "metadata": {},
   "outputs": [
    {
     "data": {
      "image/png": "[encoded data removed]",
      "text/plain": [
       "<Figure size 432x288 with 1 Axes>"
      ]
     },
     "metadata": {
      "needs_background": "light"
     },
     "output_type": "display_data"
    },
    {
     "data": {
      "image/png": "[encoded data removed]",
      "text/plain": [
       "<Figure size 432x288 with 1 Axes>"
      ]
     },
     "metadata": {
      "needs_background": "light"
     },
     "output_type": "display_data"
    }
   ],
   "source": [
    "noise_level=1\n",
    "obs_pos = 0\n",
    "exact_observables = training_data[obs_pos,:,0]\n",
    "noise_1_observables = training_data[obs_pos,:,noise_level]\n",
    "plt.figure(1)\n",
    "plt.hist(exact_observables, bins=10, alpha=0.7, label = 'exact')\n",
    "plt.hist(noise_1_observables, bins=10, alpha = 0.7, label = 'noisy')\n",
    "plt.legend()\n",
    "plt.xlabel(r'$\\sigma_{z}$')\n",
    "plt.ylabel('frequency')\n",
    "plt.show()\n",
    "plt.figure(2)\n",
    "plt.scatter(exact_observables, noise_1_observables)\n",
    "plt.xlabel('exact')\n",
    "plt.ylabel('noisy (1st noise level)')\n",
    "plt.show()"
   ]
  },
  {
   "cell_type": "markdown",
   "metadata": {},
   "source": [
    "In general a training set with a diverse range of both noisy and exact values is more effective and giving an accurate mitigation. These diverse training sets require more complex methods of construction that random projection."
   ]
  },
  {
   "cell_type": "markdown",
   "metadata": {},
   "source": [
    "In general a training set with a diverse range of both noisy and exact values is more effective and giving an accurate mitigation. These diverse training sets require more complex methods of construction that random projection."
   ]
  },
  {
   "cell_type": "markdown",
   "metadata": {},
   "source": [
    "One can think of  𝜎  as the parameter that governs how random (or deterministic) the projections are. Generally, a balance between the two is best so we expect sigma values of around  0.5  to work well. Let’s have a look:"
   ]
  },
  {
   "cell_type": "markdown",
   "metadata": {},
   "source": [
    "We can also run ZNE with various fitting forms for a comparison:"
   ]
  },
  {
   "cell_type": "code",
   "execution_count": 118,
   "metadata": {},
   "outputs": [
    {
     "name": "stdout",
     "output_type": "stream",
     "text": [
      "Data regression underway\n",
      "Running exact simulation (with shot noise)\n",
      "Finished\n"
     ]
    }
   ],
   "source": [
    "print('Data regression underway')\n",
    "\n",
    "# Now including sigma argument:\n",
    "sigma = 0.5\n",
    "vnCDR_mit, CDR_mit, noisy, training_data = run_clifford_data_mitigation(circuit_new, scale_factors, M, frac_N, observable_list, \n",
    "                                                                        sigma)\n",
    "print('Running exact simulation (with shot noise)')\n",
    "exact = np.zeros((len(observable_list)))\n",
    "for o, observable_parameters in enumerate(observable_list):\n",
    "    exact[o] = calculate_observable(simulator(circuit_new), *observable_parameters)\n",
    "print('Finished')"
   ]
  },
  {
   "cell_type": "code",
   "execution_count": 119,
   "metadata": {},
   "outputs": [
    {
     "data": {
      "image/png": "[encoded data removed]",
      "text/plain": [
       "<Figure size 432x288 with 1 Axes>"
      ]
     },
     "metadata": {
      "needs_background": "light"
     },
     "output_type": "display_data"
    },
    {
     "data": {
      "image/png": "[encoded data removed]",
      "text/plain": [
       "<Figure size 432x288 with 1 Axes>"
      ]
     },
     "metadata": {
      "needs_background": "light"
     },
     "output_type": "display_data"
    }
   ],
   "source": [
    "noise_level=1\n",
    "obs_pos = 0\n",
    "exact_observables = training_data[obs_pos, :,0]\n",
    "noise_1_observables = training_data[obs_pos, :,noise_level]\n",
    "plt.figure(1)\n",
    "plt.hist(exact_observables, bins=10, alpha=0.7, label = 'exact')\n",
    "plt.hist(noise_1_observables, bins=10, alpha = 0.7, label = 'noisy')\n",
    "plt.legend()\n",
    "plt.xlabel(r'$\\sigma_{z}$')\n",
    "plt.ylabel('frequency')\n",
    "plt.show()\n",
    "plt.figure(2)\n",
    "plt.scatter(exact_observables, noise_1_observables)\n",
    "plt.xlabel('exact')\n",
    "plt.ylabel('noisy (1st noise level)')\n",
    "plt.show()"
   ]
  },
  {
   "cell_type": "code",
   "execution_count": 120,
   "metadata": {},
   "outputs": [
    {
     "name": "stdout",
     "output_type": "stream",
     "text": [
      "ZNE underway\n"
     ]
    },
    {
     "name": "stderr",
     "output_type": "stream",
     "text": [
      "C:\\Users\\Max\\Anaconda3\\envs\\TNS\\lib\\site-packages\\mitiq\\zne\\inference.py:686: ExtrapolationWarning: The extrapolation fit may be ill-conditioned. Likely, more data points are necessary to fit the parameters of the model.\n",
      "  opt_params = mitiq_polyfit(scale_factors, exp_values, order)\n",
      "C:\\Users\\Max\\Anaconda3\\envs\\TNS\\lib\\site-packages\\scipy\\optimize\\minpack.py:808: ExtrapolationWarning: The extrapolation fit may be ill-conditioned. Likely, more data points are necessary to fit the parameters of the model.\n",
      "  category=OptimizeWarning)\n",
      "C:\\Users\\Max\\Anaconda3\\envs\\TNS\\lib\\site-packages\\mitiq\\zne\\inference.py:686: ExtrapolationWarning: The extrapolation fit may be ill-conditioned. Likely, more data points are necessary to fit the parameters of the model.\n",
      "  opt_params = mitiq_polyfit(scale_factors, exp_values, order)\n",
      "C:\\Users\\Max\\Anaconda3\\envs\\TNS\\lib\\site-packages\\mitiq\\zne\\inference.py:686: ExtrapolationWarning: The extrapolation fit may be ill-conditioned. Likely, more data points are necessary to fit the parameters of the model.\n",
      "  opt_params = mitiq_polyfit(scale_factors, exp_values, order)\n",
      "C:\\Users\\Max\\Anaconda3\\envs\\TNS\\lib\\site-packages\\scipy\\optimize\\minpack.py:808: ExtrapolationWarning: The extrapolation fit may be ill-conditioned. Likely, more data points are necessary to fit the parameters of the model.\n",
      "  category=OptimizeWarning)\n",
      "C:\\Users\\Max\\Anaconda3\\envs\\TNS\\lib\\site-packages\\mitiq\\zne\\inference.py:686: ExtrapolationWarning: The extrapolation fit may be ill-conditioned. Likely, more data points are necessary to fit the parameters of the model.\n",
      "  opt_params = mitiq_polyfit(scale_factors, exp_values, order)\n",
      "C:\\Users\\Max\\Anaconda3\\envs\\TNS\\lib\\site-packages\\scipy\\optimize\\minpack.py:808: ExtrapolationWarning: The extrapolation fit may be ill-conditioned. Likely, more data points are necessary to fit the parameters of the model.\n",
      "  category=OptimizeWarning)\n"
     ]
    }
   ],
   "source": [
    "zne_lin = np.zeros((len(observable_list)))\n",
    "zne_poly = np.zeros((len(observable_list)))\n",
    "zne_rich = np.zeros((len(observable_list)))\n",
    "zne_exp = np.zeros((len(observable_list)))\n",
    "print('ZNE underway')\n",
    "for o, observable_parameters in enumerate(observable_list):\n",
    "    list_of_expectation_values = noisy[o,:]\n",
    "    zne_lin[o] = mitiq.zne.inference.LinearFactory.extrapolate(scale_factors, list_of_expectation_values)\n",
    "    zne_poly[o] = mitiq.zne.inference.PolyFactory.extrapolate(scale_factors, list_of_expectation_values, 3)\n",
    "    zne_rich[o] = mitiq.zne.inference.RichardsonFactory.extrapolate(scale_factors, list_of_expectation_values)\n",
    "    try:\n",
    "        zne_exp[o] = mitiq.zne.inference.ExpFactory.extrapolate(scale_factors, list_of_expectation_values)\n",
    "    except:\n",
    "         zne_exp[o] = None"
   ]
  },
  {
   "cell_type": "markdown",
   "metadata": {},
   "source": [
    "Finally lets compare the results:"
   ]
  },
  {
   "cell_type": "code",
   "execution_count": 121,
   "metadata": {},
   "outputs": [
    {
     "name": "stdout",
     "output_type": "stream",
     "text": [
      "Absolute errors:\n",
      "lin_zne error mean -  0.5772069891279875 , max -  0.9213286713286714\n",
      "rich_zne error mean - 0.7499521049022546 , max -  1.2250957854406148\n",
      "poly_zne error mean - 0.6811939472005333 , max -  1.0156607005663287\n",
      "exp_zne error mean - nan , max -  nan\n",
      "vnCDR error mean - 0.4225492830261686 , max -  0.6282491990927686\n",
      "CDR_mit error mean - 0.24380634415744915 , max -  0.66973227923669\n",
      "noisy error mean - 0.7560804993136344 , max -  1.0008741258741258\n"
     ]
    }
   ],
   "source": [
    "print('Absolute errors:')\n",
    "print('lin_zne error mean - ', np.mean(abs_error(zne_lin, exact)), ', max - ', np.max(abs_error(zne_lin, exact)))\n",
    "print('rich_zne error mean -', np.mean(abs_error(zne_rich, exact)),', max - ', np.max(abs_error(zne_rich, exact)))\n",
    "print('poly_zne error mean -', np.mean(abs_error(zne_poly, exact)),', max - ', np.max(abs_error(zne_poly, exact)))\n",
    "print('exp_zne error mean -', np.mean(abs_error(zne_exp, exact)),', max - ', np.max(abs_error(zne_exp, exact)))\n",
    "print('vnCDR error mean -', np.mean(abs_error(vnCDR_mit, exact)),', max - ', np.max(abs_error(vnCDR_mit, exact)))\n",
    "print('CDR_mit error mean -', np.mean(abs_error(CDR_mit, exact)),', max - ', np.max(abs_error(CDR_mit, exact)))\n",
    "print('noisy error mean -', np.mean(abs_error(noisy[:,0], exact)),', max - ', np.max(abs_error(noisy[:,0], exact)))\n"
   ]
  },
  {
   "cell_type": "markdown",
   "metadata": {},
   "source": [
    "Hopefully one can see that the results from Clifford based methods are superior. This may vary according to the noise model from the IBM computer, which does change. Lets explore how the noisy results are changing with increased noise level, this is always something important to look at to inform the best extrpolation method to use."
   ]
  },
  {
   "cell_type": "code",
   "execution_count": 122,
   "metadata": {},
   "outputs": [
    {
     "data": {
      "image/png": "[encoded data removed]",
      "text/plain": [
       "<Figure size 432x288 with 1 Axes>"
      ]
     },
     "metadata": {
      "needs_background": "light"
     },
     "output_type": "display_data"
    }
   ],
   "source": [
    "obs_pos = 0\n",
    "plt.figure(1)\n",
    "plt.scatter(scale_factors, noisy[obs_pos,:], label = 'noisy', color = 'blue')\n",
    "plt.scatter([0], [exact[obs_pos]], label = 'exact', color = 'black')\n",
    "plt.scatter([0], [zne_lin[obs_pos]], label = 'zne_lin', color = 'red', marker = '*')\n",
    "plt.scatter([0], [vnCDR_mit[obs_pos]], label = 'vnCDR', color = 'green', marker = '+')\n",
    "plt.scatter([0], [CDR_mit[obs_pos]], label = 'CDR', color = 'green', marker = 'o')\n",
    "plt.xlabel('Noise level')\n",
    "plt.ylabel(r'$\\sigma_{z}$')\n",
    "plt.legend()\n",
    "plt.show()"
   ]
  },
  {
   "cell_type": "markdown",
   "metadata": {},
   "source": [
    "It is also important to explore convergence for the CDR and vnCDR methods, let have a look at how the accuracy of the solution changes with increasing training set size and number of non-Cliffords."
   ]
  },
  {
   "cell_type": "code",
   "execution_count": 124,
   "metadata": {},
   "outputs": [
    {
     "name": "stdout",
     "output_type": "stream",
     "text": [
      "Finished\n"
     ]
    }
   ],
   "source": [
    "CDR_list = []\n",
    "vnCDR_list = []\n",
    "M_list = np.arange(10, M, 1)\n",
    "for M_1 in M_list:\n",
    "    CDR_store = []\n",
    "    vnCDR_store = []\n",
    "    for o , observable_parameters in enumerate(observable_list):\n",
    "        vnCDR_store.append(mitigate_with_vncdr(training_data[o,0:M_1,:], noisy[o,:]))\n",
    "        CDR_store.append(mitigate_with_cdr(training_data[o,0:M_1,:], noisy[o,0]))\n",
    "    vnCDR_list.append(np.mean(abs_error(np.array(vnCDR_store), exact)))\n",
    "    CDR_list.append(np.mean(abs_error(np.array(CDR_store), exact)))\n",
    "print('Finished')"
   ]
  },
  {
   "cell_type": "markdown",
   "metadata": {},
   "source": [
    "Lets see how this looks on a graph:"
   ]
  },
  {
   "cell_type": "code",
   "execution_count": 125,
   "metadata": {},
   "outputs": [
    {
     "data": {
      "image/png": "[encoded data removed]",
      "text/plain": [
       "<Figure size 432x288 with 1 Axes>"
      ]
     },
     "metadata": {
      "needs_background": "light"
     },
     "output_type": "display_data"
    }
   ],
   "source": [
    "plt.figure(2)\n",
    "plt.plot(M_list,vnCDR_list, label = 'vnCDR', color = 'red')\n",
    "plt.plot(M_list, CDR_list, label = 'CDR', color = 'blue')\n",
    "plt.legend()\n",
    "plt.ylabel('Absolute error')\n",
    "plt.xlabel('Training set size')\n",
    "plt.tight_layout()\n",
    "plt.show()"
   ]
  },
  {
   "cell_type": "markdown",
   "metadata": {},
   "source": [
    "Convergence is observed with training set size. In general the CDR method converges more slowly. When converged both regression methods show an improvement over linear ZNE, but their performance is very similar. Due to the training set construction method, the convergence observed can be very quick or more slow, depending on how lucky one gets when completeing the Clifford projections. It can also be quite discontinous without doing any repeats, so the above graph may appear a little odd.\n",
    "\n",
    "We should also see some convergence with the number of non-Cliffords, lets explore that:"
   ]
  },
  {
   "cell_type": "code",
   "execution_count": null,
   "metadata": {},
   "outputs": [],
   "source": [
    "CDR_list = []\n",
    "vnCDR_list = []\n",
    "frac_list = np.arange(0, 1, 0.2)\n",
    "print('Data regression underway')\n",
    "for frac in frac_list:\n",
    "    vnCDR_mit, CDR_mit, noisy, training_data = run_clifford_data_mitigation(circuit_new, scale_factors, M, frac, \n",
    "                                                                                observable_list)\n",
    "    vnCDR_list.append(np.mean(abs_error(vnCDR_mit, exact)))\n",
    "    CDR_list.append(np.mean(abs_error(CDR_mit, exact)))\n",
    "print('Finished')"
   ]
  },
  {
   "cell_type": "code",
   "execution_count": null,
   "metadata": {},
   "outputs": [],
   "source": [
    "plt.figure(2)\n",
    "plt.plot(frac_list, vnCDR_list, label='vnCDR', color = 'red')\n",
    "plt.plot(frac_list, CDR_list, label='CDR', color = 'blue')\n",
    "plt.legend()\n",
    "plt.ylabel('Absolute error')\n",
    "plt.xlabel('Fraction of non-Cliffords')\n",
    "plt.tight_layout()\n",
    "plt.show()"
   ]
  },
  {
   "cell_type": "markdown",
   "metadata": {},
   "source": [
    "In the plots above convergence can be difficult to see clearly due to the random nature of the training set construction method. That makes for quite a lot of fluctuation in the quality of the mitgiation at various training set parameters. "
   ]
  }
 ],
 "metadata": {
  "kernelspec": {
   "display_name": "Python 3.7.4 64-bit ('TNS': conda)",
   "language": "python",
   "name": "python37464bittnsconda6861d4d39a8a4ab8a131cf44dc9bd38f"
  },
  "language_info": {
   "codemirror_mode": {
    "name": "ipython",
    "version": 3
   },
   "file_extension": ".py",
   "mimetype": "text/x-python",
   "name": "python",
   "nbconvert_exporter": "python",
   "pygments_lexer": "ipython3",
   "version": "3.7.9"
  },
  "varInspector": {
   "cols": {
    "lenName": 16,
    "lenType": 16,
    "lenVar": 40
   },
   "kernels_config": {
    "python": {
     "delete_cmd_postfix": "",
     "delete_cmd_prefix": "del ",
     "library": "var_list.py",
     "varRefreshCmd": "print(var_dic_list())"
    },
    "r": {
     "delete_cmd_postfix": ") ",
     "delete_cmd_prefix": "rm(",
     "library": "var_list.r",
     "varRefreshCmd": "cat(var_dic_list()) "
    }
   },
   "types_to_exclude": [
    "module",
    "function",
    "builtin_function_or_method",
    "instance",
    "_Feature"
   ],
   "window_display": false
  }
 },
 "nbformat": 4,
 "nbformat_minor": 4
}
